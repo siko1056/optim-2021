{
 "cells": [
  {
   "cell_type": "markdown",
   "id": "5e612455-6a8d-42b0-a301-bbacb1d9880e",
   "metadata": {},
   "source": [
    "(RM04)=\n",
    "# RM04"
   ]
  },
  {
   "cell_type": "markdown",
   "id": "f2f69304-58b8-49ca-9794-6cd712a2752e",
   "metadata": {},
   "source": [
    "Consider the following constrained optimization problem:\n",
    "\n",
    "$$\n",
    "\\begin{array}{lll}\n",
    "\\textrm{minimize}   & f(x_1, x_2) &:= e^{3x_1} + e^{-4x_2} \\\\\n",
    "\\textrm{subject to} & h(x_1, x_2) &:= x_1^{2} + x_2^{2} - 1 = 0.\n",
    "\\end{array}\n",
    "$$"
   ]
  },
  {
   "cell_type": "markdown",
   "id": "52b7fd10-ccd0-46be-b04a-3045c837c9fb",
   "metadata": {},
   "source": [
    "The corresponding Lagrangian is:\n",
    "\n",
    "$$\n",
    "L(x_1,x_2,\\mu) = e^{3x_1} + e^{-4x_2} + \\mu (x_1^{2} + x_2^{2} - 1)\n",
    "$$"
   ]
  },
  {
   "cell_type": "markdown",
   "id": "2c635805-56d9-4348-93d8-4d98938efb28",
   "metadata": {},
   "source": [
    "and the KKT optimality conditions:\n",
    "\n",
    "$$\n",
    "\\begin{aligned}\n",
    "\\nabla_{x_1} L(x_1,x_2,\\mu) &:=& 3e^{3x_1} + 2\\mu x_1 &= 0, \\\\\n",
    "\\nabla_{x_2} L(x_1,x_2,\\mu) &:=& -4e^{-4x_2} + 2\\mu x_2 &= 0, \\\\\n",
    "h(x) = \\nabla_{\\mu} L(x_1,x_2,\\mu) &:=& x_1^{2} + x_2^{2} - 1 &= 0.\n",
    "\\end{aligned}\n",
    "$$"
   ]
  },
  {
   "cell_type": "code",
   "execution_count": 1,
   "id": "91ede77f-dd68-4e19-873e-c717945efaa1",
   "metadata": {
    "jupyter": {
     "source_hidden": true
    },
    "tags": [
     "hide_input"
    ]
   },
   "outputs": [
    {
     "data": {
      "image/png": "[encoded data removed]",
      "text/plain": [
       "<IPython.core.display.Image object>"
      ]
     },
     "metadata": {},
     "output_type": "display_data"
    }
   ],
   "source": [
    "% Optimal point.\n",
    "px = -0.75;\n",
    "py = 0.66;\n",
    "\n",
    "theta = 0:0.02:2*pi;\n",
    "x = cos (theta);\n",
    "y = sin (theta);\n",
    "z = exp (3*x) + exp (-4*y);\n",
    "plot3 (x,y,z);\n",
    "hold on;\n",
    "plot3 (px, py, exp (3*px) + exp (-4*py), 'ro');\n",
    "xlabel ('x_1');\n",
    "ylabel ('x_2');\n",
    "zlabel ('f(x_1,x_2)');\n",
    "title ('3D plot');\n",
    "grid on;\n",
    "view (-133, 23);"
   ]
  },
  {
   "cell_type": "markdown",
   "id": "7a8e253e-d384-4237-b8c8-138fc5cd1a61",
   "metadata": {},
   "source": [
    "## Sequential Quadratic Programming (SQP)\n",
    "\n",
    "Formulate the KKT optimality conditions\n",
    "of the quadratic sub-problem {eq}`SQP_sub_problem` in matrix form,\n",
    "which correspond to the following non-linear system of equations:"
   ]
  },
  {
   "cell_type": "markdown",
   "id": "ddb24a1c-13b6-4de5-a5a0-6c0a2b9dcf71",
   "metadata": {},
   "source": [
    "$$\n",
    "\\begin{pmatrix}\n",
    "Q & B^{T} \\\\\n",
    "B & 0\n",
    "\\end{pmatrix}\n",
    "\\begin{pmatrix} \\Delta x \\\\ \\Delta \\mu \\end{pmatrix}\n",
    "= -\\begin{pmatrix} \\nabla_{x} L(x,\\mu) \\\\ h(x) \\end{pmatrix},\n",
    "$$"
   ]
  },
  {
   "cell_type": "markdown",
   "id": "b8251ec6-3774-4ce1-bfb9-5aa7fff42791",
   "metadata": {},
   "source": [
    "with $B = \\nabla^{T} h(x) = (2 x_1, 2 x_2)$ and $Q = \\nabla^{2}_{x,x} L(x,\\mu) = $\n",
    "$\\begin{pmatrix} 9e^{3x_1} + 2\\mu & 0 \\\\ 0 & 16e^{-4x_2} + 2\\mu \\end{pmatrix}$."
   ]
  },
  {
   "cell_type": "markdown",
   "id": "0227686f-b17d-4af5-a966-b3034da98bbb",
   "metadata": {},
   "source": [
    "For the starting point\n",
    "$\\mathbf{x_{0}} = (x_{0}, y_{0}, \\mu_{0})^{T} = (-1, 1, 1)^{T}$\n",
    "the linear system to solve to compute the first Newton correction is:\n",
    "\n",
    "$$\n",
    "\\begin{pmatrix}\n",
    "2.44808 &       0 & -2 \\\\\n",
    "      0 & 2.29305 &  2 \\\\\n",
    "     -2 &       2 &  0\n",
    "\\end{pmatrix}\n",
    "\\begin{pmatrix} \\Delta x \\\\ \\Delta y \\\\ \\Delta \\mu \\end{pmatrix}\n",
    "= \\begin{pmatrix} 1.8506 \\\\ -1.9267 \\\\ -1 \\end{pmatrix}\n",
    "$$"
   ]
  },
  {
   "cell_type": "markdown",
   "id": "9fd02412-ef24-4d7b-b577-546abd4372b8",
   "metadata": {},
   "source": [
    "## Numerical experiment"
   ]
  },
  {
   "cell_type": "code",
   "execution_count": 2,
   "id": "79a34d0a-ea32-4d8b-8ca7-4153977815bb",
   "metadata": {},
   "outputs": [
    {
     "name": "stdout",
     "output_type": "stream",
     "text": [
      "             x_k               mu_k      ||grad_x L||     ||h||\n",
      "  -1.0000e+00   1.0000e+00   1.0000e+00   2.6716e+00   1.0000e+00\n",
      "  -7.7423e-01   7.2577e-01   3.5104e-01   3.8268e-01   1.2617e-01\n",
      "  -7.4865e-01   6.6614e-01   2.1606e-01   1.1101e-02   4.2107e-03\n",
      "  -7.4834e-01   6.6332e-01   2.1232e-01   3.9448e-06   8.0212e-06\n",
      "  -7.4834e-01   6.6332e-01   2.1232e-01   3.1054e-11   1.6306e-11\n",
      "  -7.4834e-01   6.6332e-01   2.1232e-01   1.2413e-16            0\n"
     ]
    }
   ],
   "source": [
    "format shortE\n",
    "\n",
    "f = @(x) exp(3*x(1)) + exp(-4*x(2));\n",
    "h = @(x) x(1)^2 + x(2)^2 - 1;\n",
    "\n",
    "% Lagrange multiplier is x(3).\n",
    "\n",
    "grad_L = @(x) [ 3*exp( 3*x(1)) + 2*x(3)*x(1);\n",
    "               -4*exp(-4*x(2)) + 2*x(3)*x(2)];\n",
    "\n",
    "B = @(x) 2 * [x(1), x(2)];\n",
    "\n",
    "Q = @(x) [9*exp(3*x(1)) + 2*x(3), 0;\n",
    "          0, 16*exp(-4*x(2))+ 2*x(3)];\n",
    "\n",
    "% Initial values.\n",
    "x0 = [-1, 1, 1]';\n",
    "disp('             x_k               mu_k      ||grad_x L||     ||h||')\n",
    "disp([x0', norm(grad_L(x0)), norm(h(x0))])\n",
    "\n",
    "% Newton's method, SQP iteration.\n",
    "x = x0;\n",
    "for i = 1:5\n",
    "  A = [ Q(x), B(x)'; ...\n",
    "        B(x),    0   ];\n",
    "  b = [-grad_L(x); -h(x)];\n",
    "  x = x + A \\ b;\n",
    "  disp([x', norm(grad_L(x)), norm(h(x))])\n",
    "end"
   ]
  }
 ],
 "metadata": {
  "kernelspec": {
   "display_name": "Octave",
   "language": "octave",
   "name": "octave"
  },
  "language_info": {
   "file_extension": ".m",
   "help_links": [
    {
     "text": "GNU Octave",
     "url": "https://www.gnu.org/software/octave/support.html"
    },
    {
     "text": "Octave Kernel",
     "url": "https://github.com/Calysto/octave_kernel"
    },
    {
     "text": "MetaKernel Magics",
     "url": "https://metakernel.readthedocs.io/en/latest/source/README.html"
    }
   ],
   "mimetype": "text/x-octave",
   "name": "octave",
   "version": "6.4.0"
  }
 },
 "nbformat": 4,
 "nbformat_minor": 5
}
