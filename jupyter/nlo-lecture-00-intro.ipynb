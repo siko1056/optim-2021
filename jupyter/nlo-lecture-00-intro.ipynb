{
 "cells": [
  {
   "cell_type": "markdown",
   "id": "e0f2fef1-da30-456a-9ac4-ebaaa372649a",
   "metadata": {
    "tags": []
   },
   "source": [
    "# Selected Topics in Mathematical Optimization\n",
    "\n",
    "![Tokyo Woman's Christian University (TWCU)](res/twcu_logo.png)\n",
    "\n",
    "- Kai Torben OHLHUS\n",
    "  - カイ トーベン オールフス\n",
    "  - email: <ohlhus@lab.twcu.ac.jp>\n",
    "- Last update: 2021-12-14\n",
    "  \n",
    "> Based on lecture material by\n",
    "> [C. Jansson](https://www.tuhh.de/ti3/jansson/) and\n",
    "> [H. Oberle](https://www.math.uni-hamburg.de/home/oberle/skripte/optimierung.html)."
   ]
  },
  {
   "cell_type": "markdown",
   "id": "c14b7b9d-ed02-4d0f-9f36-e9eb725647be",
   "metadata": {},
   "source": [
    "## Introduction\n",
    "\n",
    "This one semester course for students of computer science introduces **\"classical\" optimization methods**.\n",
    "\n",
    "The topics covered in this course include:\n",
    "\n",
    "- Optimality conditions for finite-dimensional (un-)constrained continuous problems\n",
    "- (Un-)constrained optimization methods\n",
    "- Convex analysis\n",
    "- Many examples\n",
    "\n",
    "**What do I need?**\n",
    "\n",
    "- Knowledge of elementary calculus and linear algebra.\n",
    "- [Matlab](http://www.math.twcu.ac.jp/ogita/lec/MATLAB_install.htm)\n",
    "  or [GNU Octave](https://www.octave.org/download).\n",
    "\n",
    "> **Please note:** these seminar notes are **not complete**.\n",
    "> Several additional parts, comments, proofs, and intermediate calculations\n",
    "> are given on the blackboard."
   ]
  },
  {
   "cell_type": "markdown",
   "id": "68f38372-6419-4556-a834-7de6ff214f3c",
   "metadata": {},
   "source": [
    "### Modeling\n",
    "\n",
    "- **Real world problem:** mathematical formulation, preferable as a tractable (linear or convex) problem.\n",
    "- **Software:** try to classify the problem, in order to find the appropriate software.\n",
    "- **Solution:** depends on your choice of the mathematical model and the input data.\n",
    "\n",
    "Nearly all scientific and engineering fields make knowingly or unknowingly use of some kind of optimization techniques. \n",
    "Starting with \"Operations Research\", \"Machine Learning\", ... It is superfluous to write them all down.\n",
    "\n",
    "Even nature optimizes.\n",
    "The basic laws of nature can be formulated in terms of **least action principles**."
   ]
  },
  {
   "cell_type": "markdown",
   "id": "a7c58b71-aae0-49da-9301-ed077c20489e",
   "metadata": {},
   "source": [
    "## Applications, examples and software\n",
    "\n",
    "Good resource is the homepage by Hans D. Mittelman:\n",
    "<http://plato.asu.edu/guide.html>.\n",
    "\n",
    "- **problems/software:** software sorted by problem to be solve\n",
    "- **benchmarks:** collection of test results and performance tests\n",
    "- **test cases:** example files ready to use with existing software, in different formats\n",
    "- **books/tutorials:** a short list of introductory texts, some online\n",
    "- **tools:** software which helps formulating an optimization problem or simplifying its solution"
   ]
  },
  {
   "cell_type": "markdown",
   "id": "04b05b5a-251f-42f7-b023-d1cf793650f3",
   "metadata": {},
   "source": [
    "## Literature\n",
    "\n",
    "The [bibliography section](bibliography) lists teaching books for further studies:\n",
    "{cite}`Cottle2017`, {cite}`Luenberger2016`, {cite}`Bertsekas2016`,\n",
    "{cite}`Griva2008`, and {cite}`Boyd2004`."
   ]
  }
 ],
 "metadata": {
  "kernelspec": {
   "display_name": "Octave",
   "language": "octave",
   "name": "octave"
  },
  "language_info": {
   "file_extension": ".m",
   "help_links": [
    {
     "text": "GNU Octave",
     "url": "https://www.gnu.org/software/octave/support.html"
    },
    {
     "text": "Octave Kernel",
     "url": "https://github.com/Calysto/octave_kernel"
    },
    {
     "text": "MetaKernel Magics",
     "url": "https://metakernel.readthedocs.io/en/latest/source/README.html"
    }
   ],
   "mimetype": "text/x-octave",
   "name": "octave",
   "version": "6.4.0"
  }
 },
 "nbformat": 4,
 "nbformat_minor": 5
}
