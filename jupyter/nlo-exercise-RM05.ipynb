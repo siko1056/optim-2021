{
 "cells": [
  {
   "cell_type": "markdown",
   "id": "b32f45d9-e60f-4d77-9846-2a128d6a5943",
   "metadata": {},
   "source": [
    "(RM05)=\n",
    "# RM05"
   ]
  },
  {
   "cell_type": "markdown",
   "id": "8fbd12b9-aa92-424f-afcd-098697ea81f2",
   "metadata": {},
   "source": [
    "## Linear Programming\n",
    "\n",
    "Linear Programming (LP; same abbreviation for \"Linear Program\") is\n",
    "a linear optimization technique\n",
    "which became widely known\n",
    "for **resource planning tasks** after World War II.\n",
    "As the name suggests,\n",
    "the objective function and (in-)equality constraint functions are linear.\n",
    "\n",
    "> The term \"programming\" should be understood as \"planning\" or \"conception\",\n",
    "> rather than the action of writing a program in a particular programming language.\n",
    "\n",
    "In this work the following **LP standard form** is chosen:\n",
    "\n",
    "$$\n",
    "\\begin{array}{lll}\n",
    "\\textrm{minimize}   & c^{T} x \\\\\n",
    "\\textrm{subject to} & Ax = b \\\\\n",
    "& x \\geq 0,\n",
    "\\end{array}\n",
    "$$\n",
    "\n",
    "where $c,x \\in \\mathbb{R}^{n}$, $A \\in \\mathbb{R}^{m \\times n}$, and $b \\in \\mathbb{R}^{m}$."
   ]
  },
  {
   "cell_type": "markdown",
   "id": "619d05d1-f7b6-440a-ba75-121d4bb87986",
   "metadata": {},
   "source": [
    "## Meeting other LP standard forms\n",
    "\n",
    "To compute an optimal LP solution,\n",
    "there exist many functions or programs,\n",
    "which are referred to in short as **solver**.\n",
    "An LP solver usually specifies an own standard form.\n",
    "In the following a few **conversion techniques** are described."
   ]
  },
  {
   "cell_type": "markdown",
   "id": "92516a55-dcca-44f3-8bd3-637e07a01d18",
   "metadata": {},
   "source": [
    "- \"minimize $c^{T}x$\" is equivalent to \"maximize $-c^{T}x$\".\n",
    "  **Flip the sign** of the computed objective value.\n",
    "- **Slack variables** $s \\in \\mathbb{R}^{m}$\n",
    "  help expressing inequality constraints as equality constraints:\n",
    "  \n",
    "  $$\n",
    "  \\begin{array}{ll}\n",
    "  \\textrm{minimize}   & c^{T} x \\\\\n",
    "  \\textrm{subject to} & Ax {\\color{red}{\\;\\leq\\;}} b \\\\\n",
    "  & x \\geq 0\n",
    "  \\end{array}\n",
    "  \\quad\\iff\\quad\n",
    "  \\begin{array}{ll}\n",
    "  \\textrm{minimize}   & c^{T} x {\\color{red}{\\;+\\; [0]^{T} s}} \\\\\n",
    "  \\textrm{subject to} & Ax      {\\color{red}{\\;+\\; Is =}}\\; b \\\\\n",
    "  & x \\geq 0 \\\\\n",
    "  & {\\color{red}{s \\geq 0}}\n",
    "  \\end{array}\n",
    "  $$\n",
    "  \n",
    "  or\n",
    "  \n",
    "  $$\n",
    "  \\begin{array}{ll}\n",
    "  \\textrm{minimize}   & c^{T} x \\\\\n",
    "  \\textrm{subject to} & Ax {\\color{red}{\\;\\geq\\;}} b \\\\\n",
    "  & x \\geq 0\n",
    "  \\end{array}\n",
    "  \\quad\\iff\\quad\n",
    "  \\begin{array}{ll}\n",
    "  \\textrm{minimize}   & c^{T} x {\\color{red}{\\;+\\; [0]^{T} s}} \\\\\n",
    "  \\textrm{subject to} & Ax      {\\color{red}{\\;-\\; Is =}}\\; b \\\\\n",
    "  & x \\geq 0 \\\\\n",
    "  & {\\color{red}{s \\geq 0}}\n",
    "  \\end{array}\n",
    "  $$\n",
    "  \n",
    "  where $I$ is the $m \\times m$ unit matrix (main diagonal elements are $1$, $0$ otherwise)\n",
    "  and $[0] \\in \\mathbb{R}^{m}$ is a vector of zeros."
   ]
  },
  {
   "cell_type": "markdown",
   "id": "cf2b0e25-d7f2-4070-8ed4-9d4d0f7a2e33",
   "metadata": {},
   "source": [
    "- **Free variables** $y \\in \\mathbb{R}^{k}$ can be modeled\n",
    "  as difference of two non-negative LP variables $y := y^{+} - y^{-}$:\n",
    "\n",
    "  $$\n",
    "  \\begin{array}{ll}\n",
    "  \\textrm{minimize}   & c^{T} x {\\color{red}{\\;+\\;d^{T} y}} \\\\\n",
    "  \\textrm{subject to} & Ax {\\color{red}{\\;+\\;By}} = b \\\\\n",
    "  & x \\geq 0 \\\\\n",
    "  & {\\color{red}{y \\quad\\text{\"free\"}}}\n",
    "  \\end{array}\n",
    "  \\quad\\iff\\quad\n",
    "  \\begin{array}{ll}\n",
    "  \\textrm{minimize}   & c^{T} x {\\color{red}{\\;+\\;d^{T} y^{+} \\;-\\; d^{T} y^{-}}} \\\\\n",
    "  \\textrm{subject to} & Ax {\\color{red}{\\;+\\;By^{+} \\;-\\; By^{-}}} = b \\\\\n",
    "  & x \\geq 0 \\\\\n",
    "  & {\\color{red}{y^{+} \\geq 0}} \\\\\n",
    "  & {\\color{red}{y^{-} \\geq 0}}\n",
    "  \\end{array}\n",
    "  $$\n",
    "  \n",
    "  However,\n",
    "  due to the introduced redundancy this approach might fail in practical applications\n",
    "  and other techniques are known, see {cite}`Luenberger2016` (part I)."
   ]
  },
  {
   "cell_type": "markdown",
   "id": "ccce450d-7854-48c2-a8a3-f64541383218",
   "metadata": {},
   "source": [
    "- Expressing **box constraints** $l,x,u \\in \\mathbb{R}^{n}$.\n",
    "\n",
    "  $$\n",
    "  \\begin{array}{ll}\n",
    "  \\textrm{minimize}   & c^{T} x \\\\\n",
    "  \\textrm{subject to} & Ax = b \\\\\n",
    "  & {\\color{red}{l \\;\\leq\\; x \\;\\leq\\; u}}\n",
    "  \\end{array}\n",
    "  \\quad\\iff\\quad\n",
    "  \\begin{array}{ll}\n",
    "  \\textrm{minimize}   & c^{T} x \\\\\n",
    "  \\textrm{subject to} & Ax = b \\\\\n",
    "  & {\\color{red}{-Ix\\;\\leq\\;-l}} \\\\\n",
    "  & {\\color{red}{Ix\\;\\leq\\;u}} \\\\\n",
    "  & {\\color{red}{x \\quad\\text{\"free\"}}}\n",
    "  \\end{array}\n",
    "  $$\n",
    "  \n",
    "  where $I$ is the $n \\times n$ unit matrix (main diagonal elements are $1$, $0$ otherwise).\n",
    "  See also the note about \"free variables\" above."
   ]
  },
  {
   "cell_type": "markdown",
   "id": "16e45d1b-42ce-4894-a44c-fd64f9f17bf3",
   "metadata": {},
   "source": [
    "- Expressing equality constraints with inequality constraints.\n",
    "\n",
    "  $$\n",
    "  \\begin{array}{ll}\n",
    "  \\textrm{minimize}   & c^{T} x \\\\\n",
    "  \\textrm{subject to} & Ax {\\color{red}{\\;=\\;}} b \\\\\n",
    "  & x \\geq 0\n",
    "  \\end{array}\n",
    "  \\quad\\iff\\quad\n",
    "  \\begin{array}{ll}\n",
    "  \\textrm{minimize}   & c^{T} x \\\\\n",
    "  \\textrm{subject to} & Ax {\\color{red}{\\;\\leq\\;}} b\\; {\\color{red}{(\\;+\\;\\varepsilon)}} \\\\\n",
    "  & Ax {\\color{red}{\\;\\geq\\;}} b\\; {\\color{red}{(\\;-\\;\\varepsilon)}} \\\\\n",
    "  & x \\geq 0\n",
    "  \\end{array}\n",
    "  $$\n",
    "  \n",
    "  The resulting problem is usually ill-posed\n",
    "  and a small tolerance $\\varepsilon > 0$ can be added to each element of $b$ for numerical stability."
   ]
  },
  {
   "cell_type": "markdown",
   "id": "c3ac724d-269d-4e65-8957-93d3255516b1",
   "metadata": {},
   "source": [
    "For more information on LP and equivalent formulations,\n",
    "see {cite}`Luenberger2016` (part I) and {cite}`Boyd2004` (chapter 4)."
   ]
  },
  {
   "cell_type": "markdown",
   "id": "68cf9a56-d1e5-47fb-b3b7-1ff1a638a426",
   "metadata": {},
   "source": [
    "## Example: Car factory\n",
    "\n",
    "![convex_sets](res/quantamagazine_lp.png)\n",
    "\n",
    "Source: [quantamagazine (2021-11-01)](https://www.quantamagazine.org/surprising-limits-discovered-in-quest-for-optimal-solutions-20211101/)."
   ]
  },
  {
   "cell_type": "code",
   "execution_count": 1,
   "id": "971a9fec-9a63-4fee-b9e3-ff3f7c598f44",
   "metadata": {},
   "outputs": [
    {
     "name": "stdout",
     "output_type": "stream",
     "text": [
      "x =\n",
      "\n",
      "    95.238\n",
      "   171.429\n",
      "\n",
      "fval = -4.3810e+06\n",
      "exitflag = 0\n"
     ]
    }
   ],
   "source": [
    "c = -[ 10000 20000 ];  % Maximize profit margin\n",
    "A = [ 30 100; ...\n",
    "      30  30 ];\n",
    "b = [ 20000; 8000 ];\n",
    "Aeq = []; % No equality constraints\n",
    "beq = [];\n",
    "lb = [   0   0 ];\n",
    "ub = [ inf inf ];\n",
    "CTYPE = repmat ('U', 2, 1);  % Octave: A(i,:)*x <= b(i)\n",
    "x0 = [];  % default start value\n",
    "%[x,~,exitflag] = linprog(c,A,b,Aeq,beq,lb,ub,x0);  % Matlab: exitflag=1 success\n",
    "[x,fval,exitflag] = glpk(c,A,b,lb,ub,CTYPE)         % Octave: exitflag=0 success"
   ]
  },
  {
   "cell_type": "markdown",
   "id": "78ebcdc9-3557-46f9-892b-02105b43148b",
   "metadata": {},
   "source": [
    "This result is of course very \"technical\" and needs interpretation to be useful for the car company.\n",
    "\n",
    "The quantity of produced cars should be integers.\n",
    "A safe strategy is rounding the results down:"
   ]
  },
  {
   "cell_type": "code",
   "execution_count": 2,
   "id": "98961b0e-10a3-4873-a139-d76a63792470",
   "metadata": {},
   "outputs": [
    {
     "name": "stdout",
     "output_type": "stream",
     "text": [
      "cheapo = 95\n",
      "deluxe = 171\n"
     ]
    }
   ],
   "source": [
    "cheapo = floor (x(1))\n",
    "deluxe = floor (x(2))"
   ]
  },
  {
   "cell_type": "markdown",
   "id": "43cf0a90-742d-42b5-9191-2ad9c1209a15",
   "metadata": {},
   "source": [
    "The computed profit `fval` is negative.\n",
    "However to adapt to the standard form of a minimization problem,\n",
    "the objective function was negated.\n",
    "\n",
    "Furthermore,\n",
    "after rounding the values, the new profit can be computed from the objective function:"
   ]
  },
  {
   "cell_type": "code",
   "execution_count": 3,
   "id": "85627a17-5448-450e-a297-cbd6f0a6a3ef",
   "metadata": {},
   "outputs": [
    {
     "name": "stdout",
     "output_type": "stream",
     "text": [
      "profit = 4370000\n"
     ]
    }
   ],
   "source": [
    "profit = -c * [cheapo; deluxe]  % dollar"
   ]
  },
  {
   "cell_type": "markdown",
   "id": "9f6be3d4-96d4-43b1-93fe-95aff3da1b91",
   "metadata": {},
   "source": [
    "Finally,\n",
    "the budgets for the painting and assembly line time can be checked with `A` and `b`:"
   ]
  },
  {
   "cell_type": "code",
   "execution_count": 4,
   "id": "4121bf75-57f9-444f-893d-5c67a4a6bf8a",
   "metadata": {},
   "outputs": [
    {
     "name": "stdout",
     "output_type": "stream",
     "text": [
      "required_time =\n",
      "\n",
      "   19950\n",
      "    7980\n",
      "\n"
     ]
    }
   ],
   "source": [
    "required_time = A * [cheapo; deluxe]  % minutes"
   ]
  },
  {
   "cell_type": "code",
   "execution_count": 5,
   "id": "3c14c25e-a7be-4d4e-b871-5f0cc809225c",
   "metadata": {},
   "outputs": [
    {
     "name": "stdout",
     "output_type": "stream",
     "text": [
      "permitted_time =\n",
      "\n",
      "   20000\n",
      "    8000\n",
      "\n"
     ]
    }
   ],
   "source": [
    "permitted_time = b  % minutes"
   ]
  },
  {
   "cell_type": "markdown",
   "id": "ad96be40-cb1a-4b47-989f-59454c721b5e",
   "metadata": {},
   "source": [
    "Thus the problem is optimally solved.\n",
    "Not a single deluxe or cheapo could be manufactured with the given time budget:"
   ]
  },
  {
   "cell_type": "code",
   "execution_count": 6,
   "id": "5205ff77-34eb-459c-9abd-bc51f62e5d0e",
   "metadata": {},
   "outputs": [
    {
     "name": "stdout",
     "output_type": "stream",
     "text": [
      "remaining_budget =\n",
      "\n",
      "   50\n",
      "   20\n",
      "\n"
     ]
    }
   ],
   "source": [
    "remaining_budget = permitted_time - required_time  % minutes"
   ]
  }
 ],
 "metadata": {
  "kernelspec": {
   "display_name": "Octave",
   "language": "octave",
   "name": "octave"
  },
  "language_info": {
   "file_extension": ".m",
   "help_links": [
    {
     "text": "GNU Octave",
     "url": "https://www.gnu.org/software/octave/support.html"
    },
    {
     "text": "Octave Kernel",
     "url": "https://github.com/Calysto/octave_kernel"
    },
    {
     "text": "MetaKernel Magics",
     "url": "https://metakernel.readthedocs.io/en/latest/source/README.html"
    }
   ],
   "mimetype": "text/x-octave",
   "name": "octave",
   "version": "6.4.0"
  }
 },
 "nbformat": 4,
 "nbformat_minor": 5
}
