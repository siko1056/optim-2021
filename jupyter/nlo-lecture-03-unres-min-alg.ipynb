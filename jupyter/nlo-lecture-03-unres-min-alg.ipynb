{
 "cells": [
  {
   "cell_type": "markdown",
   "id": "9f8ac141-c662-4df3-9da7-a4ca6042449e",
   "metadata": {},
   "source": [
    "# Unconstrained minimization algorithms\n",
    "\n",
    "Consider the following quadratic unconstrained problem\n",
    "\n",
    "$$\n",
    "\\begin{array}{lll}\n",
    "\\textrm{minimize}   & f(x) = \\frac{1}{2}x^{T}Ax + b^{T}x + c & \\\\\n",
    "\\end{array}\n",
    "$$\n",
    "\n",
    "where $A$ is a symmetric $n \\times n$ matrix, $x,b \\in \\mathbb{R}^{n}$, and $c \\in \\mathbb{R}$.\n",
    "\n",
    "$f$ is a $C^{\\infty}$-function with\n",
    "\n",
    "$$\n",
    "\\nabla f(x) = Ax + b \\quad\\text{and}\\quad \\nabla^{2} f(x) = A.\n",
    "$$\n",
    "\n"
   ]
  },
  {
   "cell_type": "markdown",
   "id": "25d9d858-e1be-4209-adad-36b57ee4bde9",
   "metadata": {},
   "source": [
    "- $f$ is convex $\\iff A \\succeq 0$ (positive semi-definite).\n",
    "  - **Local minima are global for convex functions!** (See [Theorem 6](Theorem6)).\n",
    "- $f$ is strict convex $\\iff A \\succ 0$ (positive definite).\n",
    "  - $A$ invertible and $x^{*} = -A^{-1}b$ is the **unique global minimum**.\n",
    "- $A \\nsucceq 0 \\implies f$ has no local minima."
   ]
  },
  {
   "cell_type": "markdown",
   "id": "f5e09e83-1659-4f7d-b425-97089477aae7",
   "metadata": {},
   "source": [
    "(gradient_methods)=\n",
    "## Gradient methods\n",
    "\n",
    "The general idea of gradient methods is\n",
    "to find the minimum of an optimization problem of the form\n",
    "\n",
    "$$\n",
    "\\begin{array}{lll}\n",
    "\\textrm{minimize} & f(x), & \\\\\n",
    "\\end{array}\n",
    "$$\n",
    "\n",
    "with $x \\in \\mathbb{R}^{n}$ and $f \\in C^{1}(\\mathbb{R}^{n},\\mathbb{R})$."
   ]
  },
  {
   "cell_type": "markdown",
   "id": "0dd172c4-12e0-4efc-b584-94ecf195bde3",
   "metadata": {},
   "source": [
    "Many common solution strategies try to find the minimum step-wise.\n",
    "From a **starting point** $x^{0} \\in \\mathbb{R}^{n}$\n",
    "in each step $k = 0, 1, \\ldots$ those strategies determine\n",
    "\n",
    "1. a **descent direction** $d^{k} \\in \\mathbb{R}^{n}$ and\n",
    "2. a positive bounded **step size** $0 < \\alpha^{k} < \\delta$,\n",
    "   with $\\alpha^{k}, \\delta \\in \\mathbb{R}$,\n",
    "\n",
    "such that the objective function value at a new point\n",
    "\n",
    "$$\n",
    "x^{k + 1} = x^{k} + \\alpha^{k} d^{k}, \\quad k = 0, 1, \\ldots\n",
    "$$\n",
    "\n",
    "is smaller than the previous one $f(x^{k + 1}) < f(x^{k})$."
   ]
  },
  {
   "cell_type": "markdown",
   "id": "bfd07a94-c242-48f9-87ae-d73ecf6a629a",
   "metadata": {},
   "source": [
    "A vector $d^{k} \\in \\mathbb{R}^{n}$ is called **descent direction**\n",
    "in a point $x^{k} \\in \\mathbb{R}^{n}$,\n",
    "if there exists a $\\delta > 0$ such that for all\n",
    "$0 < \\alpha^{k} < \\delta$ the inequality\n",
    "\n",
    "$$\n",
    "f(x^{k} + \\alpha^{k} d^{k}) < f(x^{k})\n",
    "$$\n",
    "\n",
    "holds."
   ]
  },
  {
   "cell_type": "markdown",
   "id": "6b2816e8-74fd-4e9f-839e-9e797917b65f",
   "metadata": {},
   "source": [
    "The following figure sketches\n",
    "$\\Phi(\\alpha^{k}) = f(x^{k} + \\alpha^{k} d^{k})$,\n",
    "that is the objective function value\n",
    "as function of the step size $\\alpha^{k}$\n",
    "for a given descent direction $d^{k}$ at a given point $x^{k}$."
   ]
  },
  {
   "cell_type": "code",
   "execution_count": 1,
   "id": "bf77b654-acd4-4449-94bc-2c70e8318986",
   "metadata": {
    "jupyter": {
     "source_hidden": true
    },
    "tags": [
     "hide_input"
    ]
   },
   "outputs": [
    {
     "data": {
      "image/png": "[encoded data removed]",
      "text/plain": [
       "<IPython.core.display.Image object>"
      ]
     },
     "metadata": {},
     "output_type": "display_data"
    }
   ],
   "source": [
    "alpha = linspace (-0.5, 5, 100);\n",
    "phi = (alpha - 2).^2 + 2;\n",
    "plot (alpha, phi, 'LineWidth', 2, 'b');\n",
    "hold on;\n",
    "plot ([-2, 0, 4, 6], [6, 6, 6, 6], 'LineWidth', 4, 'ro--');\n",
    "xlim ([-1, 5]);\n",
    "ylim ([ 1, 12]);\n",
    "axis off;\n",
    "tprops = {'FontSize', 18};\n",
    "text (0.0, 6.7, '0', tprops{:});\n",
    "text (1.6, 6.7, '\\leq     \\alpha^{k}     \\leq', tprops{:});\n",
    "text (3.8, 6.7, '\\delta', tprops{:});\n",
    "text (4.1, 10, '\\Phi(\\alpha^{k})', tprops{:});"
   ]
  },
  {
   "cell_type": "markdown",
   "id": "678eb5a4-6cc7-4baa-b56a-06c32c063ae6",
   "metadata": {},
   "source": [
    "According to **Taylor's theorem**,\n",
    "close to a point $x^{k} \\in \\mathbb{R}^{n}$\n",
    "a function $f \\in C^{1}(\\mathbb{R}^{n},\\mathbb{R})$\n",
    "can be locally approximated by a linear function\n",
    "\n",
    "$$\n",
    "\\tilde{f}(x^{k} + \\alpha^{k} d^{k}) := f(x^{k}) + \\nabla f(x^{k})^{T}(\\alpha^{k} d^{k})\n",
    "$$\n",
    "\n",
    "or if $f \\in C^{2}(\\mathbb{R}^{n},\\mathbb{R})$ by a quadratic function\n",
    "\n",
    "$$\n",
    "\\tilde{f}(x^{k} + \\alpha^{k} d^{k}) := f(x^{k}) + \\nabla f(x^{k})^{T}(\\alpha^{k} d^{k})\n",
    "  + \\frac{1}{2}(\\alpha^{k} d^{k})^{T}\\nabla^{2} f(x^{k})(\\alpha^{k} d^{k}).\n",
    "$$"
   ]
  },
  {
   "cell_type": "markdown",
   "id": "c025c03e-7d9e-4afb-a5f9-1acfd0bc4cd8",
   "metadata": {},
   "source": [
    ":::{admonition} **Theorem 5:** Descent direction\n",
    ":class: tip\n",
    "\n",
    "If $\\nabla f(x^{k})^{T}d^{k} < 0$ holds, then $d^{k}$ is a descent direction of $f$ in the point $x^{k}$.\n",
    "\n",
    ":::"
   ]
  },
  {
   "cell_type": "markdown",
   "id": "6b5d7b1d-c9e6-44ae-8177-d5894e2a6722",
   "metadata": {},
   "source": [
    ":::{dropdown} *Proof:*\n",
    "\n",
    "For the $C^{1}$-function $\\Phi(\\alpha^{k}) := \\tilde{f}(x^{k} + \\alpha^{k} d^{k})$\n",
    "there is $\\Phi'(0) = \\nabla f(x^{k})^{T} d^{k}$ < 0.\n",
    "From this follows the assertion.\n",
    "\n",
    "$$\\tag*{$\\Box$}$$\n",
    "\n",
    ":::"
   ]
  },
  {
   "cell_type": "markdown",
   "id": "83d96700-3867-4974-bc9e-af998d4c9922",
   "metadata": {},
   "source": [
    "### Gradient Descent\n",
    "\n",
    "The most obvious choice for such a descent direction\n",
    "is $d^{k} := -\\nabla f(x^{k})$.\n",
    "This leads to the first algorithm for unconstrained minimization problems."
   ]
  },
  {
   "cell_type": "markdown",
   "id": "3ef92aac-6ced-4385-bf98-798a3196c3ec",
   "metadata": {},
   "source": [
    ":::{note}\n",
    "\n",
    "**Gradient descent** or **steepest descent** performs the iteration:\n",
    "\n",
    "$$\n",
    "x^{k + 1} = x^{k} - \\alpha^{k} \\nabla f(x^{k}), \\quad k = 0, 1, \\ldots\n",
    "$$\n",
    "\n",
    ":::"
   ]
  },
  {
   "cell_type": "markdown",
   "id": "1d4eae96-0851-425b-889e-406250d189c9",
   "metadata": {},
   "source": [
    "#### What can go wrong?\n",
    "\n",
    "Consider the function $f(x) = x^2$,\n",
    "the descent directions $d^{k} = (-1)^{k + 1}$,\n",
    "the step sizes $\\alpha^{k} = 2 + \\frac{3}{2^{k + 1}}$\n",
    "and a starting point $x_{0} = 2$."
   ]
  },
  {
   "cell_type": "code",
   "execution_count": 2,
   "id": "601dd5c7-f574-428b-b9a6-7600158c80aa",
   "metadata": {
    "jupyter": {
     "source_hidden": true
    },
    "tags": [
     "hide_input"
    ]
   },
   "outputs": [
    {
     "data": {
      "image/png": "[encoded data removed]",
      "text/plain": [
       "<IPython.core.display.Image object>"
      ]
     },
     "metadata": {},
     "output_type": "display_data"
    }
   ],
   "source": [
    "f = @(x) x.^2;\n",
    "x = linspace (-2, 2, 100);\n",
    "plot (x, f(x), 'k', 'LineWidth', 2);\n",
    "hold on;\n",
    "\n",
    "alpha = @(k) 2 + 3 / 2^(k + 1);\n",
    "\n",
    "N = 10;\n",
    "x = zeros (1, N);\n",
    "x(1) = 2;\n",
    "for k = 1:(N - 1)\n",
    "  x(k + 1) = x(k) + alpha(k - 1) * (-1)^(k);\n",
    "end\n",
    "\n",
    "plot (x, f(x), 'ro-', 'LineWidth', 2);"
   ]
  },
  {
   "cell_type": "markdown",
   "id": "5dc9bdba-630a-4ab6-82c3-97861cc8dae2",
   "metadata": {},
   "source": [
    "**Step size too large:** convergence against pair $\\pm 1$."
   ]
  },
  {
   "cell_type": "markdown",
   "id": "12e418c3-991c-4640-bd9b-23e94e9eb029",
   "metadata": {},
   "source": [
    "Consider the function $f(x) = x^2$,\n",
    "the descent directions $d^{k} = -1$,\n",
    "the step sizes $\\alpha^{k} = \\frac{1}{2^{k + 1}}$\n",
    "and a starting point $x_{0} = 2$."
   ]
  },
  {
   "cell_type": "code",
   "execution_count": 3,
   "id": "c77b5a08-c85f-482d-8732-01bf6e15dd7f",
   "metadata": {
    "jupyter": {
     "source_hidden": true
    },
    "tags": [
     "hide_input"
    ]
   },
   "outputs": [
    {
     "data": {
      "image/png": "[encoded data removed]",
      "text/plain": [
       "<IPython.core.display.Image object>"
      ]
     },
     "metadata": {},
     "output_type": "display_data"
    }
   ],
   "source": [
    "f = @(x) x.^2;\n",
    "x = linspace (-2, 2, 100);\n",
    "plot (x, f(x), 'k', 'LineWidth', 2);\n",
    "hold on;\n",
    "\n",
    "alpha = @(k) 1 / 2^(k + 1);\n",
    "\n",
    "N = 10;\n",
    "x = zeros (1, N);\n",
    "x(1) = 2;\n",
    "for k = 1:(N - 1)\n",
    "  x(k + 1) = x(k) + alpha(k - 1) * (-1);\n",
    "end\n",
    "\n",
    "plot (x, f(x), 'ro-', 'LineWidth', 2);"
   ]
  },
  {
   "cell_type": "markdown",
   "id": "3daf3d99-9556-4efc-92f3-bf70ca2c7430",
   "metadata": {},
   "source": [
    "**Step size too short.**"
   ]
  },
  {
   "cell_type": "markdown",
   "id": "1aa77e39-2d1c-4dbb-9ac9-3a1f210ad0fc",
   "metadata": {},
   "source": [
    "#### Choosing the step size\n",
    "\n",
    "From the two (admittedly constructed) examples of the previous section\n",
    "it becomes apparent\n",
    "that not any **step size** $\\alpha^{k}$ is suiteable\n",
    "for the **gradient descent method** or other **gradient methods**.\n",
    "\n",
    "One classical method to choose the step size\n",
    "is the **Armijo rule**.\n",
    "This method is in general not efficient,\n",
    "but illustrates key ideas\n",
    "about other step size determination methods."
   ]
  },
  {
   "cell_type": "markdown",
   "id": "4943249f-106f-44d0-bcd4-ae84f65fb708",
   "metadata": {},
   "source": [
    "A possible Matlab/Octave implementation of the Armijo rule\n",
    "is given in the following listing.\n",
    "To improve readability,\n",
    "the step index $k$ has been omitted.\n",
    "\n",
    "The inputs of the `armijo_rule` function are:\n",
    "a $C^{1}$-function $f$,\n",
    "a current iteration point $x := x^{k}$\n",
    "with its first derivate $\\texttt{dfx} := \\nabla f(x^{k})$,\n",
    "and a descent direction $d := d^{k}$.\n",
    "\n",
    "Furthermore,\n",
    "three parameters are defined in the function:\n",
    "a start value for the step size $\\texttt{alpha} := \\alpha^{k}$,\n",
    "$\\texttt{beta} := \\beta$ with $0 < \\beta < 1$,\n",
    "and a shrink factor $\\texttt{tau} := \\tau$ with $0 < \\tau < 1$."
   ]
  },
  {
   "cell_type": "code",
   "execution_count": 4,
   "id": "89966e31-a575-4b23-b3e2-db1fe027ed48",
   "metadata": {},
   "outputs": [],
   "source": [
    "function alpha = armijo_rule (f, x, dfx, d)\n",
    "  alpha = 1;    % initial value\n",
    "  beta  = 0.1;\n",
    "  tau   = 0.5;  % shrink factor\n",
    "  fx    = f(x);\n",
    "  while (f(x + alpha * d) > fx + alpha * beta * (dfx' * d))\n",
    "    alpha = tau * alpha;  % shrink alpha\n",
    "  end\n",
    "end"
   ]
  },
  {
   "cell_type": "markdown",
   "id": "af433cfc-6128-4cd0-86c7-f1601d6d2a57",
   "metadata": {},
   "source": [
    "An illustration of the algorithm is given in the following Figure.\n",
    "\n",
    "Starting with some value for $\\alpha^{k}$,\n",
    "the value is shrunk by $\\tau$\n",
    "until the objective function value\n",
    "$f(x^{k} + \\alpha^{k} d^{k})$\n",
    "is below the red line, depending on $\\beta$.\n",
    "\n",
    "This ensures a decreasing objective function value.\n",
    "However,\n",
    "a bad parameter choice might slow the convergence down."
   ]
  },
  {
   "cell_type": "code",
   "execution_count": 5,
   "id": "a647487a-db3c-43ee-87c0-68915144538c",
   "metadata": {
    "jupyter": {
     "source_hidden": true
    },
    "tags": [
     "hide_input"
    ]
   },
   "outputs": [
    {
     "data": {
      "image/png": "[encoded data removed]",
      "text/plain": [
       "<IPython.core.display.Image object>"
      ]
     },
     "metadata": {},
     "output_type": "display_data"
    }
   ],
   "source": [
    "alpha = linspace (-0.6, 4.5, 100);\n",
    "phi = (alpha - 2).^2 + 2;\n",
    "plot (alpha, phi, 'LineWidth', 2, 'k');\n",
    "hold on;\n",
    "plot ([-2, 0, 4, 9], [6, 6, 6, 6], 'LineWidth', 2, 'mo:');\n",
    "alpha = linspace (-0.25, 1.5, 10);\n",
    "plot (alpha,        -4 * alpha + 6, 'LineWidth', 4, 'b-');\n",
    "beta = 0.2;\n",
    "alpha = linspace (-0.5, 4, 10);\n",
    "plot (alpha, beta * -4 * alpha + 6, 'LineWidth', 4, 'r-');\n",
    "plot (2, 2, 'LineWidth', 4, 'ro');\n",
    "plot (2.8, 0.8^2 + 2, 'LineWidth', 4, 'ko');\n",
    "xlim ([-1, 6.5]);\n",
    "ylim ([ 0, 9]);\n",
    "axis off;\n",
    "tprops = {'FontSize', 18};\n",
    "text (0.0, 6.7, '0', tprops{:});\n",
    "text (1.6, 6.7, '\\leq     \\alpha^{k}     \\leq', tprops{:});\n",
    "text (3.8, 6.7, '\\delta', tprops{:});\n",
    "text (2.8, 2.1, 'f(x^{k} + \\alpha^{k} d^{k})', tprops{:});\n",
    "text (3.6, 3.4, 'f(x^{k}) + \\beta \\alpha^{k} \\nabla f(x^{k})^{T}d^{k}', ...\n",
    "      tprops{:}, 'Color', 'red');\n",
    "text (1.75, 0.5, 'f(x^{k}) + \\alpha^{k} \\nabla f(x^{k})^{T}d^{k}', ...\n",
    "      tprops{:}, 'Color', 'blue');\n",
    "text (1.8, 2.5, '\\alpha^{k}_{opt}', tprops{:}, 'Color', 'red');\n",
    "quiver (0.6, 4, 0.8, 0.8, 'LineWidth', 2, 'r');\n",
    "text (1, 4, '\\beta \\rightarrow 0', tprops{:}, 'Color', 'red');"
   ]
  },
  {
   "cell_type": "markdown",
   "id": "302800ed-aa29-419c-92f6-341a17713643",
   "metadata": {},
   "source": [
    "In the optimization literature,\n",
    "depending on the given particular problem,\n",
    "there are better algorithms for choosing the step size available."
   ]
  },
  {
   "cell_type": "markdown",
   "id": "302a0ae3-7e21-481d-a874-ffe217d18a23",
   "metadata": {},
   "source": [
    "#### Example: gradient descent zig-zagging\n",
    "\n",
    "Consider the quadratic unconstrained problem\n",
    "with the quadratic objective function\n",
    "\n",
    "$$\n",
    "f(x,y) = \\frac{1}{2}(x^2 + M y^2)\n",
    "       = \\frac{1}{2}\\begin{pmatrix} x & y \\end{pmatrix}\n",
    "                    \\begin{pmatrix} 1 & 0 \\\\ 0 & M \\end{pmatrix}\n",
    "                    \\begin{pmatrix} x \\\\ y \\end{pmatrix}\n",
    "$$\n",
    "\n",
    "and with the respective gradient\n",
    "\n",
    "$$\n",
    "\\nabla f(x,y) = \\begin{pmatrix} x \\\\ My \\end{pmatrix}.\n",
    "$$\n",
    "\n",
    "The step sizes $\\alpha^{k}$ are determined by the **Armijo rule**\n",
    "and consider the starting point $x_{0} = (M, 1)^{T}$\n",
    "for different values of $M$."
   ]
  },
  {
   "cell_type": "code",
   "execution_count": 6,
   "id": "d8019818-199c-4d06-afa0-da85876a7259",
   "metadata": {
    "jupyter": {
     "source_hidden": true
    },
    "tags": [
     "hide_input"
    ]
   },
   "outputs": [
    {
     "data": {
      "image/png": "[encoded data removed]",
      "text/plain": [
       "<IPython.core.display.Image object>"
      ]
     },
     "metadata": {},
     "output_type": "display_data"
    }
   ],
   "source": [
    "MM = [1, 5];\n",
    "for i = 1:2\n",
    "  subplot (2, 1, i);\n",
    "  M = MM(i);\n",
    "  f = @(x,y) (x.^2 + M * y.^2) / 2;\n",
    "  [x, y] = meshgrid (linspace (-6, 6, 40), ...\n",
    "                     linspace (-3, 3, 40));\n",
    "  contour (x, y, f(x,y));\n",
    "  hold on;\n",
    "\n",
    "  f = @(x) (x(1,:).^2 + M * x(2,:).^2) / 2;\n",
    "  df = @(x) [x(1); M * x(2)];  % Gradient\n",
    "\n",
    "  N = 10;\n",
    "  x = zeros (2, N);\n",
    "  x(:,1) = [5; 1];\n",
    "  for k = 1:(N - 1)\n",
    "    d = df(x(:,k));\n",
    "    alpha = armijo_rule (f, x(:,k), d, -d);\n",
    "    x(:,k + 1) = x(:,k) - alpha * d;\n",
    "  end\n",
    "  plot3 (x(1,:), x(2,:), f(x), 'ro-', 'LineWidth', 2);\n",
    "  axis equal;\n",
    "  title (['M = ', num2str(M)]);\n",
    "  xlabel ('x');\n",
    "  ylabel ('y');\n",
    "end"
   ]
  },
  {
   "cell_type": "markdown",
   "id": "6d391dc5-e6b4-43b5-9b45-0d14f960d24f",
   "metadata": {},
   "source": [
    "- Fast convergence, if $M$ close to 1.\n",
    "  The gradient \"points\" in the direction of the global minimum.\n",
    "\n",
    "- Slow zig-zagging, if $M \\gg 1$ or $M \\ll 1$.\n",
    "  In each step the gradient \"points away\" from the global minimum.\n",
    "\n",
    "- **Note:** with optimal step size, the convergence behavior is similar."
   ]
  },
  {
   "cell_type": "markdown",
   "id": "d0aabdf4-aefe-4c15-96f8-389fbe1582f9",
   "metadata": {
    "tags": []
   },
   "source": [
    "(Newtons_method)=\n",
    "### Newton's method\n",
    "\n",
    "A more sophisticated choice for the descent direction $d^{k}$\n",
    "can be obtained from the quadratic Taylor approximation.\n",
    "\n",
    "Like in the example from the introduction\n",
    "this is a quadratic unconstrained problem\n",
    "and it has a unique global minimum,\n",
    "if the Hessian matrix is positive definite.\n",
    "\n",
    "Thus deriving the quadratic Taylor approximation to $d^{k}$\n",
    "and choosing without loss of generality $\\alpha^{k} = 1$,\n",
    "one obtains for the first order necessary condition\n",
    "\n",
    "$$\n",
    "\\nabla \\tilde{f}(x^{k} + d^{k}) := \\nabla f(x^{k}) + \\nabla^{2} f(x^{k}) d^{k} = 0.\n",
    "$$\n",
    "\n",
    "Finally, the descent direction $d^{k}$ is the solution of the following\n",
    "linear system of equations:\n",
    "\n",
    "$$\n",
    "\\nabla^{2} f(x^{k}) d^{k} = -\\nabla f(x^{k}).\n",
    "$$"
   ]
  },
  {
   "cell_type": "markdown",
   "id": "2f07f0f3-857b-4406-96f3-9be8ef060b67",
   "metadata": {},
   "source": [
    ":::{note}\n",
    "\n",
    "**Newton's method** performs the iteration:\n",
    "\n",
    "$$\n",
    "x^{k + 1} = x^{k} - \\alpha^{k} (\\nabla^{2} f(x^{k}))^{-1} \\nabla f(x^{k}), \\quad k = 0, 1, \\ldots\n",
    "$$\n",
    "\n",
    ":::"
   ]
  },
  {
   "cell_type": "markdown",
   "id": "278a0c6a-b007-432e-b62d-705572caa465",
   "metadata": {},
   "source": [
    "#### Example: Newton's method\n",
    "\n",
    "Consider again the previous quadratic unconstrained problem\n",
    "with the objective function\n",
    "$f(x,y) = \\frac{1}{2}(x^2 + M y^2)$.\n",
    "\n",
    "The step sizes are $\\alpha^{k} = 1$\n",
    "and consider the starting point $x_{0} = (M, 1)^{T}$\n",
    "for different values of $M$."
   ]
  },
  {
   "cell_type": "code",
   "execution_count": 7,
   "id": "908f4394-629d-40c1-ae15-2c5ab2c18528",
   "metadata": {
    "jupyter": {
     "source_hidden": true
    },
    "tags": [
     "hide_input"
    ]
   },
   "outputs": [
    {
     "data": {
      "image/png": "[encoded data removed]",
      "text/plain": [
       "<IPython.core.display.Image object>"
      ]
     },
     "metadata": {},
     "output_type": "display_data"
    }
   ],
   "source": [
    "MM = [1, 5];\n",
    "for i = 1:2\n",
    "  subplot (2, 1, i);\n",
    "  M = MM(i);\n",
    "  f = @(x,y) (x.^2 + M * y.^2) / 2;\n",
    "  [x, y] = meshgrid (linspace (-6, 6, 40), ...\n",
    "                     linspace (-3, 3, 40));\n",
    "  contour (x, y, f(x,y));\n",
    "  hold on;\n",
    "\n",
    "  f = @(x) (x(1,:).^2 + M * x(2,:).^2) / 2;\n",
    "  fgrad = @(x) [x(1); M * x(2)];  % Gradient\n",
    "  fhess = [1, 0; 0, M];           % Hessian matrix\n",
    "\n",
    "  N = 10;\n",
    "  x = zeros (2, N);\n",
    "  x(:,1) = [5; 1];\n",
    "  for k = 1:(N - 1)\n",
    "    d = fhess \\ -fgrad(x(:,k));\n",
    "    x(:,k + 1) = x(:,k) + d;\n",
    "  end\n",
    "  plot3 (x(1,:), x(2,:), f(x), 'ro-', 'LineWidth', 2);\n",
    "  axis equal;\n",
    "  title (['M = ', num2str(M)]);\n",
    "  xlabel ('x');\n",
    "  ylabel ('y');\n",
    "end"
   ]
  },
  {
   "cell_type": "markdown",
   "id": "102bcf4c-c652-4323-a9e7-cf593e934c64",
   "metadata": {},
   "source": [
    "While the gradient descent method converged in the latter case zig-zagging,\n",
    "Newton's method seems unaffected by the elliptic shape of the objective function\n",
    "and converges in one step.\n",
    "\n",
    "This beneficial convergence behavior\n",
    "comes at the price of having to evaluate the Hessian matrix\n",
    "and solving a linear system of equations in each iteration step."
   ]
  },
  {
   "cell_type": "markdown",
   "id": "a989c98e-b3be-4504-9a34-c230532dc224",
   "metadata": {},
   "source": [
    "## Choices of stopping criteria\n",
    "\n",
    "As important as good convergence towards the minimal point,\n",
    "is to decide when to stop the optimization algorithm.\n",
    "\n",
    "In literature there is a huge choice of stopping criteria,\n",
    "just to list a few:"
   ]
  },
  {
   "cell_type": "markdown",
   "id": "4346d209-5d5e-4771-a8e7-9b5c2d94f9fa",
   "metadata": {},
   "source": [
    "1. $\\quad f(x^{k-1}) - f(x^{k}) \\quad \\leq \\quad \\text{TOL} (1 + \\lvert f(x^{k}) \\rvert )$\n",
    "\n",
    "2. $\\quad \\lVert x^{k-1} - x^{k} \\rVert \\quad \\leq \\quad \\text{TOL} (1 + \\lVert x^{k} \\rVert )$\n",
    "\n",
    "3. $\\quad \\lVert \\nabla f(x^{k}) \\rVert \\quad \\leq \\quad \\text{TOL} (1 + \\lvert f(x^{k}) \\rvert )$\n",
    "\n",
    "4. $\\quad \\lVert \\nabla f(x^{k}) \\rVert \\quad \\leq \\quad$ machine precision\n",
    "\n",
    "5. $\\quad k \\quad \\geq \\quad k_{\\max}$"
   ]
  },
  {
   "cell_type": "markdown",
   "id": "093141c0-644e-44b8-bc9f-b7e6d62b171e",
   "metadata": {},
   "source": [
    "Criteria 1 to 3 monitor the progress of the algorithm,\n",
    "while criteria 4 and 5 can be regarded as \"emergency breaks\".\n",
    "It is useful to implement criteria like 4 and 5\n",
    "to avoid **infinite loops** or to stop stuck algorithm runs.\n",
    "\n",
    "However, it often depends on the given problem\n",
    "which other stopping criteria are useful.\n",
    "For example,\n",
    "if the objective function is expensive to evaluate,\n",
    "\"cheap\" stopping criteria which do not cause computational overhead\n",
    "or are computed by the algorithms anyways might be preferable."
   ]
  },
  {
   "cell_type": "markdown",
   "id": "aa474dfc-84f1-493f-a9cb-9458bca44200",
   "metadata": {
    "tags": []
   },
   "source": [
    "## Further approaches\n",
    "\n",
    "Other gradient methods follow in principal the form\n",
    "\n",
    "$$\n",
    "x^{k + 1} = x^{k} - \\alpha^{k} D^{k} \\nabla f(x^{k}), \\quad k = 0, 1, \\ldots,\n",
    "$$\n",
    "\n",
    "where $D^{k} \\succ 0$ is a symmetric positive definite matrix.\n",
    "\n",
    "For example:\n",
    "\n",
    "- **Diagonally scaled steepest descent**\n",
    "\n",
    "  $D^{k}$ is a diagonal approximation to $(\\nabla^{2} f(x^{k}))^{-1}$\n",
    "\n",
    "- **Modified Newton's method**\n",
    "\n",
    "  $$\n",
    "  D^{k} = (\\nabla^{2} f(x^{0}))^{-1}, \\quad k = 0, 1, \\ldots\n",
    "  $$"
   ]
  },
  {
   "cell_type": "markdown",
   "id": "1c78eb4d-bd69-4c95-b16d-3ee0cc95011f",
   "metadata": {},
   "source": [
    "- **Discretized Newton's method**\n",
    "\n",
    "  $$\n",
    "  D^{k} = (H(x^{k}))^{-1}, \\quad k = 0, 1, \\ldots,\n",
    "  $$\n",
    "  \n",
    "  where $H(x^{k})$ is a finite difference based approximation of $\\nabla^{2} f(x^{k})$.\n",
    "\n",
    "  For example the **forward-** and **central finite difference** formulas:\n",
    "  \n",
    "  $$\n",
    "  \\frac{\\partial f(x^{k})}{\\partial x_{i}} \\approx \\frac{1}{h}\n",
    "    \\left( f(x^{k} + he_{i}) - f(x^{k}) \\right),\n",
    "  $$\n",
    "  \n",
    "  $$\n",
    "  \\frac{\\partial f(x^{k})}{\\partial x_{i}} \\approx \\frac{1}{2h}\n",
    "    \\left( f(x^{k} + he_{i}) - f(x^{k} - he_{i}) \\right),\n",
    "  $$\n",
    "  \n",
    "  where $e_{i}$ is the $i$-th unit vector and $h$ an appropriate small quantity\n",
    "  taller than the machine precision."
   ]
  },
  {
   "cell_type": "markdown",
   "id": "9008a048-336a-4607-9f62-1d1cb20be380",
   "metadata": {},
   "source": [
    "- **Quasi Newton Methods**\n",
    "\n",
    "  Another strategy to avoid the computationally expensive evaluation\n",
    "  of the whole Hessian matrix in each step is to\n",
    "  **update the existing Hessian matrix** in the so-called\n",
    "  **Broyden–Fletcher–Goldfarb–Shanno (BFGS) algorithm**:\n",
    "  \n",
    "  Determine a new step $x^{k + 1}$ from solving the Newton direction\n",
    "  with Hessian matrix approximation $D^{k}$.\n",
    "  Then set\n",
    "  $q^{k} = x^{k + 1} - x^{k}$ and\n",
    "  $p^{k} = \\nabla f(x^{k + 1}) - \\nabla f(x^{k})$\n",
    "  and finally update the current Hessian matrix approximation\n",
    "\n",
    "  $$\n",
    "  D^{k + 1} = D^{k} + \\frac{p^{k}p^{k^{T}}}{p^{k^{T}}q^{k}}\n",
    "                    - \\frac{D^{k}q^{k}q^{k^{T}}D^{k}}{q^{k^{T}}D^{k}q^{k}}.\n",
    "  $$\n"
   ]
  },
  {
   "cell_type": "markdown",
   "id": "236eaa3b-f4d5-4058-ace7-0830bc830a9b",
   "metadata": {},
   "source": [
    "## Summary\n",
    "\n",
    "The zoo of optimization algorithms and their flavors grows steadily.\n",
    "It is beyond the scope of a seminar to cover them all in detail.\n",
    "\n",
    "**Gradient descent** and **Newton's methods**\n",
    "are well-studied in the optimization literature\n",
    "and have been presented without detailed analysis or proof\n",
    "of their convergence behavior.\n",
    "\n",
    "Summarizing, typical pitfalls for **gradient methods** are:\n",
    "\n",
    "- Step size too long or short (\"damping\", Armijo rule, etc.).\n",
    "\n",
    "- Convergence to stationary points ($\\nabla f(x) = 0$)\n",
    "  that are no local minima (e.g. saddle points).\n",
    "\n",
    "- Stagnation when starting at a stationary point.\n",
    "\n",
    "- Alternating sequence of iteration points.\n",
    "\n",
    "- No or slow convergence\n",
    "  if started \"too far\" away from the local optimum.\n",
    "\n",
    "- In case of Newton's method: $\\nabla^{2} f(x^{k}) \\nsucc 0$, convergence unknown."
   ]
  }
 ],
 "metadata": {
  "kernelspec": {
   "display_name": "Octave",
   "language": "octave",
   "name": "octave"
  },
  "language_info": {
   "file_extension": ".m",
   "help_links": [
    {
     "text": "GNU Octave",
     "url": "https://www.gnu.org/software/octave/support.html"
    },
    {
     "text": "Octave Kernel",
     "url": "https://github.com/Calysto/octave_kernel"
    },
    {
     "text": "MetaKernel Magics",
     "url": "https://metakernel.readthedocs.io/en/latest/source/README.html"
    }
   ],
   "mimetype": "text/x-octave",
   "name": "octave",
   "version": "6.4.0"
  }
 },
 "nbformat": 4,
 "nbformat_minor": 5
}
