{
 "cells": [
  {
   "cell_type": "markdown",
   "id": "9f8ac141-c662-4df3-9da7-a4ca6042449e",
   "metadata": {},
   "source": [
    "# Unconstrained minimization algorithms\n",
    "\n",
    "Consider the following quadratic unconstrained problem\n",
    "\n",
    "$$\n",
    "\\begin{array}{lll}\n",
    "\\textrm{minimize}   & f(x) = \\frac{1}{2}x^{T}Ax + b^{T}x + c & \\\\\n",
    "\\end{array}\n",
    "$$\n",
    "\n",
    "where $A$ is a symmetrix $n \\times n$ matrix, $x,b \\in \\mathbb{R}^{n}$, and $c \\in \\mathbb{R}$.\n",
    "\n",
    "$f$ is a $C^{\\infty}$-function with\n",
    "\n",
    "$$\n",
    "\\nabla f(x) = Ax + b \\quad\\text{and}\\quad \\nabla^{2} f(x) = A.\n",
    "$$\n",
    "\n"
   ]
  },
  {
   "cell_type": "markdown",
   "id": "25d9d858-e1be-4209-adad-36b57ee4bde9",
   "metadata": {},
   "source": [
    "- $f$ is convex $\\iff A \\succeq 0$ (positive semi-definite).\n",
    "  - **Local minima are also global!**\n",
    "- $f$ is strict convex $\\iff A \\succ 0$ (positive definite).\n",
    "  - $A$ invertible and $x^{*} = -A^{-1}b$ is the **unique global minimum**.\n",
    "- $A \\nsucceq 0 \\implies f$ has no local minima."
   ]
  },
  {
   "cell_type": "code",
   "execution_count": null,
   "id": "9a5050b9-d3b4-4914-95ac-99b2fa2086d5",
   "metadata": {},
   "outputs": [],
   "source": []
  }
 ],
 "metadata": {
  "kernelspec": {
   "display_name": "Octave",
   "language": "octave",
   "name": "octave"
  },
  "language_info": {
   "file_extension": ".m",
   "help_links": [
    {
     "text": "GNU Octave",
     "url": "https://www.gnu.org/software/octave/support.html"
    },
    {
     "text": "Octave Kernel",
     "url": "https://github.com/Calysto/octave_kernel"
    },
    {
     "text": "MetaKernel Magics",
     "url": "https://metakernel.readthedocs.io/en/latest/source/README.html"
    }
   ],
   "mimetype": "text/x-octave",
   "name": "octave",
   "version": "6.3.0"
  }
 },
 "nbformat": 4,
 "nbformat_minor": 5
}
