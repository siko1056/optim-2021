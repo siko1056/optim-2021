{
 "cells": [
  {
   "cell_type": "markdown",
   "id": "5dc545e3-1e6a-4448-b42e-d3e2adfcd944",
   "metadata": {},
   "source": [
    "# Nelder–Mead method\n",
    "\n",
    "In the previous subsection,\n",
    "the **gradient methods** require the objective function\n",
    "to be once or twice continously differentiable.\n",
    "\n",
    "The **Nelder–Mead method** {cite}`Nelder1965`\n",
    "described in this subsection,\n",
    "requires the objective function to be **continous only**.\n",
    "Therefore it is an example\n",
    "of a **derivative-free** optimization method.\n",
    "\n",
    "This method is implemented in the Matlab/Octave function\n",
    "[`fminsearch`](https://www.mathworks.com/help/matlab/ref/fminsearch.html).\n",
    "See {cite}`Lagarias1998` and {cite}`Price2002` for modifications\n",
    "and references."
   ]
  },
  {
   "cell_type": "markdown",
   "id": "7a87731e-cb17-4889-99c2-cadf526e44c6",
   "metadata": {},
   "source": [
    "Basic concept of this method is a **simplex** (**polyhedron**),\n",
    "here defined as a set of $n + 1$ linear independent points\n",
    "$P = \\{ x_1, x_2, \\ldots, x_{n + 1} \\} \\subset \\mathbb{R}^{n}$\n",
    "(the vertices of the simplex).\n",
    "\n",
    "In geometry the convex hull of $P$ is usually defined as simplex.\n",
    "For dimension $n = 2$,\n",
    "the simplex is a **non-degenerate triangle**,\n",
    "as in the following figure.\n",
    "For dimension $n = 3$, a non-degenerate tetrahedron."
   ]
  },
  {
   "cell_type": "code",
   "execution_count": 1,
   "id": "09d8e851-b2d8-4563-93bb-5ebec25a02b3",
   "metadata": {
    "jupyter": {
     "source_hidden": true
    },
    "tags": [
     "hide_input"
    ]
   },
   "outputs": [
    {
     "data": {
      "image/png": "[encoded data removed]",
      "text/plain": [
       "<IPython.core.display.Image object>"
      ]
     },
     "metadata": {},
     "output_type": "display_data"
    }
   ],
   "source": [
    "x1 = [ 0.0, 0.0];\n",
    "x2 = [-0.4, 1.0];\n",
    "x3 = [-1.0, 0.2];\n",
    "x = [x1; x2; x3; x1];\n",
    "x_label = {'x_1', 'x_2', 'x_3'};\n",
    "plot (x(:,1), x(:,2), 'ko-');\n",
    "hold on;\n",
    "\n",
    "tprops = {'FontSize', 18};\n",
    "for i = 1:3\n",
    "  if (x(i,1) < 0)\n",
    "    x_offset = -0.08;\n",
    "  else\n",
    "    x_offset = 0.02;\n",
    "  end\n",
    "  text (x(i,1) + x_offset, x(i,2), x_label{i}, tprops{:});\n",
    "end\n",
    "\n",
    "text (-0.5, 0.4, 'P', tprops{:});\n",
    "axis equal;\n",
    "axis off;"
   ]
  },
  {
   "cell_type": "markdown",
   "id": "3c4e2bde-78ce-42bc-9e4a-9a72c30a7303",
   "metadata": {},
   "source": [
    "## Iteration step of the simplex method ($n \\geq 2$)\n",
    "\n",
    "1. Compute the following indices $s, a, b \\in \\{ 1, \\ldots, n + 1 \\}$:\n",
    "\n",
    "   - $x^{s} := \\operatorname{argmax} \\{ f(x) \\colon x \\in P \\}$ (worst point)\n",
    "\n",
    "   - $x^{a} := \\operatorname{argmax} \\{ f(x) \\colon x \\in P, a \\neq s \\}$ (second worst point)\n",
    "\n",
    "   - $x^{b} := \\operatorname{argmin} \\{ f(x) \\colon x \\in P, b \\neq s, b \\neq a \\}$ (best point)"
   ]
  },
  {
   "cell_type": "markdown",
   "id": "3e416967-eaa5-4fe6-878b-1c485fb503df",
   "metadata": {},
   "source": [
    "2. Compute the **centroid** $m$ of the $n$ best points\n",
    "\n",
    "   $$\n",
    "   m := \\frac{1}{n} \\sum_{\\substack{i = 0 \\\\ i \\neq s}}^{n + 1} x^i,\n",
    "   $$\n",
    "   \n",
    "   and the point $r$ **reflected** at the center $m$\n",
    "   \n",
    "   $$\n",
    "   r := m + \\alpha (m - x^s),\n",
    "   $$\n",
    "   \n",
    "   with $\\alpha = 1$."
   ]
  },
  {
   "cell_type": "code",
   "execution_count": 2,
   "id": "651a1163-13c6-446a-8eaf-61aa69d39ac0",
   "metadata": {
    "jupyter": {
     "source_hidden": true
    },
    "tags": [
     "hide_input"
    ]
   },
   "outputs": [
    {
     "data": {
      "image/png": "[encoded data removed]",
      "text/plain": [
       "<IPython.core.display.Image object>"
      ]
     },
     "metadata": {},
     "output_type": "display_data"
    }
   ],
   "source": [
    "function plot_line (points, LineSpec)\n",
    "  plot (points(:,1), points(:,2), LineSpec{:});\n",
    "end\n",
    "\n",
    "function plot_triangle (points, LineSpec)\n",
    "  % Repeat first point.\n",
    "  plot_line ([points; points(1,:)], LineSpec);  \n",
    "end\n",
    "\n",
    "xb = [ 0.0, 0.0];\n",
    "xa = [-0.4, 1.0];\n",
    "xs = [-1.0, 0.2];\n",
    "m = xb + 0.5 * (xa - xb);\n",
    "r = m  +        (m - xs);\n",
    "\n",
    "points = [xb; xa; xs; m; r];\n",
    "plabel = {'x^b', 'x^a', 'x^s', 'm', 'r'};\n",
    "\n",
    "plot_triangle ([xb; xa; xs], {'bo-'});\n",
    "hold on;\n",
    "quiver (xs(1), xs(2), m(1) - xs(1), m(2) - xs(2), 'ko-', 'LineWidth', 4);\n",
    "plot_line ([r ; m], {'ko-', 'LineWidth', 4});\n",
    "\n",
    "tprops = {'FontSize', 18};\n",
    "for i = 1:length (plabel)\n",
    "  if (points(i,1) < -0.3)\n",
    "    x_offset = -0.08;\n",
    "    y_offset = 0.0;\n",
    "  else\n",
    "    x_offset = 0.04;\n",
    "    y_offset = -0.04;\n",
    "  end\n",
    "  text (points(i,1) + x_offset, points(i,2) + y_offset, plabel{i}, tprops{:});\n",
    "end\n",
    "\n",
    "axis equal;\n",
    "axis off;"
   ]
  },
  {
   "cell_type": "markdown",
   "id": "75d0cf59-131b-43d3-9375-824bd3bb611b",
   "metadata": {},
   "source": [
    "### Case 1: Reflect\n",
    "\n",
    "> \"New point is good.\"\n",
    "\n",
    "Replace $x^s$ by $r$, if $f(x^b) \\leq f(r) \\leq f(x^a)$ and **case 2** does not apply."
   ]
  },
  {
   "cell_type": "code",
   "execution_count": 3,
   "id": "635a1658-57e5-454f-bb6a-ab48343efbaf",
   "metadata": {
    "jupyter": {
     "source_hidden": true
    },
    "tags": [
     "hide_input"
    ]
   },
   "outputs": [
    {
     "data": {
      "image/png": "[encoded data removed]",
      "text/plain": [
       "<IPython.core.display.Image object>"
      ]
     },
     "metadata": {},
     "output_type": "display_data"
    }
   ],
   "source": [
    "function plot_line (points, LineSpec)\n",
    "  plot (points(:,1), points(:,2), LineSpec{:});\n",
    "end\n",
    "\n",
    "function plot_triangle (points, LineSpec)\n",
    "  % Repeat first point.\n",
    "  plot_line ([points; points(1,:)], LineSpec);  \n",
    "end\n",
    "\n",
    "xb = [ 0.0, 0.0];\n",
    "xa = [-0.4, 1.0];\n",
    "xs = [-1.0, 0.2];\n",
    "m = xb + 0.5 * (xa - xb);\n",
    "r = m  +        (m - xs);\n",
    "\n",
    "points = [xb; xa; xs; m; r];\n",
    "plabel = {'x^b', 'x^a', 'x^s', 'm', 'r'};\n",
    "\n",
    "plot_triangle ([xb; xa; xs], {'ko--'});\n",
    "hold on;\n",
    "plot_triangle ([xb; xa; r] , {'bo-'});\n",
    "quiver (xs(1), xs(2), m(1) - xs(1), m(2) - xs(2), 'ko-', 'LineWidth', 4);\n",
    "plot_line ([r ; m], {'ko-', 'LineWidth', 4});\n",
    "\n",
    "tprops = {'FontSize', 18};\n",
    "for i = 1:length (plabel)\n",
    "  if (points(i,1) < -0.3)\n",
    "    x_offset = -0.08;\n",
    "    y_offset = 0.0;\n",
    "  else\n",
    "    x_offset = 0.04;\n",
    "    y_offset = -0.04;\n",
    "  end\n",
    "  text (points(i,1) + x_offset, points(i,2) + y_offset, plabel{i}, tprops{:});\n",
    "end\n",
    "\n",
    "axis equal;\n",
    "axis off;"
   ]
  },
  {
   "cell_type": "markdown",
   "id": "fb9f624e-9fd1-43f1-824f-621b08508f7e",
   "metadata": {},
   "source": [
    "### Case 2: Expand\n",
    "\n",
    "> \"New point is excellent.\"\n",
    "\n",
    "If $f(r) < f(x^b)$, compute **expanded point**\n",
    "\n",
    "$$\n",
    "e := m + \\beta (m - x^s),\n",
    "$$\n",
    "\n",
    "with $\\beta > \\alpha$, here $\\beta = 2$.\n",
    "\n",
    "Replace $x^s$ by $e$, if $f(e) < f(r)$, otherwise replace $x^s$ by $r$."
   ]
  },
  {
   "cell_type": "code",
   "execution_count": 4,
   "id": "bd23a496-48a4-4ac0-874e-c4f418509fad",
   "metadata": {
    "jupyter": {
     "source_hidden": true
    },
    "tags": [
     "hide_input"
    ]
   },
   "outputs": [
    {
     "data": {
      "image/png": "[encoded data removed]",
      "text/plain": [
       "<IPython.core.display.Image object>"
      ]
     },
     "metadata": {},
     "output_type": "display_data"
    }
   ],
   "source": [
    "function plot_line (points, LineSpec)\n",
    "  plot (points(:,1), points(:,2), LineSpec{:});\n",
    "end\n",
    "\n",
    "function plot_triangle (points, LineSpec)\n",
    "  % Repeat first point.\n",
    "  plot_line ([points; points(1,:)], LineSpec);  \n",
    "end\n",
    "\n",
    "xb = [ 0.0, 0.0];\n",
    "xa = [-0.4, 1.0];\n",
    "xs = [-1.0, 0.2];\n",
    "m = xb + 0.5 * (xa - xb);\n",
    "r = m  + 1.0 *  (m - xs);\n",
    "e = m  + 2.0 *  (m - xs);\n",
    "\n",
    "points = [xb; xa; xs; m; r; e];\n",
    "plabel = {'x^b', 'x^a', 'x^s', 'm', 'r', 'e'};\n",
    "\n",
    "plot_triangle ([xb; xa; xs], {'ko--'});\n",
    "hold on;\n",
    "plot_triangle ([xb; xa; r] , {'ko--'});\n",
    "plot_triangle ([xb; xa; e] , {'bo-'});\n",
    "quiver (xs(1), xs(2), m(1) - xs(1), m(2) - xs(2), 'ko-', 'LineWidth', 4);\n",
    "plot_line ([e; r; m], {'ko-', 'LineWidth', 4});\n",
    "\n",
    "tprops = {'FontSize', 18};\n",
    "for i = 1:length (plabel)\n",
    "  if (points(i,1) < -0.3)\n",
    "    x_offset = -0.12;\n",
    "    y_offset = 0.0;\n",
    "  else\n",
    "    x_offset = 0.04;\n",
    "    y_offset = -0.04;\n",
    "  end\n",
    "  text (points(i,1) + x_offset, points(i,2) + y_offset, plabel{i}, tprops{:});\n",
    "end\n",
    "\n",
    "axis equal;\n",
    "axis off;"
   ]
  },
  {
   "cell_type": "markdown",
   "id": "7170440f-3187-40af-8a99-ca92ef24ec58",
   "metadata": {},
   "source": [
    "### Case 3: Contract / Shrink\n",
    "\n",
    "> \"New point is worse.\"\n",
    "\n",
    "If $f(r) > f(x^a)$, compute a contracting point\n",
    "with $0 < \\gamma < \\alpha$, here $\\gamma = 0.5$:\n",
    "\n",
    "- If $f(r) > f(x^s)$, **contract inside**\n",
    "\n",
    "  $$\n",
    "  c := m - \\gamma (m - x^s)\n",
    "  $$\n",
    "\n",
    "- Otherwise **contract outside**\n",
    "\n",
    "  $$\n",
    "  c := m + \\gamma (m - x^s)\n",
    "  $$\n",
    "\n",
    "Replace $x^s$ by $c$, if $f(c) < f(x^s)$, otherwise\n",
    "**shrink** (case 4) the whole simplex around $x^b$:\n",
    "\n",
    "$$\n",
    "x^i := \\frac{x^i + x^b}{2},\n",
    "$$\n",
    "\n",
    "for all $i = 1, \\ldots, n + 1$."
   ]
  },
  {
   "cell_type": "code",
   "execution_count": 6,
   "id": "7f58f0c4-0e03-4186-a5f2-c1cb703af205",
   "metadata": {
    "jupyter": {
     "source_hidden": true
    },
    "tags": [
     "hide_input"
    ]
   },
   "outputs": [
    {
     "data": {
      "image/png": "[encoded data removed]",
      "text/plain": [
       "<IPython.core.display.Image object>"
      ]
     },
     "metadata": {},
     "output_type": "display_data"
    }
   ],
   "source": [
    "function plot_line (points, LineSpec)\n",
    "  plot (points(:,1), points(:,2), LineSpec{:});\n",
    "end\n",
    "\n",
    "function plot_triangle (points, LineSpec)\n",
    "  % Repeat first point.\n",
    "  plot_line ([points; points(1,:)], LineSpec);  \n",
    "end\n",
    "\n",
    "xb = [ 0.0, 0.0];\n",
    "xa = [-0.4, 1.0];\n",
    "xs = [-1.0, 0.2];\n",
    "m = xb + 0.5 * (xa - xb);\n",
    "r =  m + 1.0 *  (m - xs);\n",
    "co = m + 0.5 *  (m - xs);\n",
    "ci = m - 0.5 *  (m - xs);\n",
    "\n",
    "points = [xb; xa; xs; m; r; co; ci];\n",
    "plabel = {'x^b', 'x^a', 'x^s', 'm', 'r', 'c_{outside}', 'c_{inside}'};\n",
    "\n",
    "plot_triangle ([xb; xa; xs], {'ko--'});\n",
    "hold on;\n",
    "plot_triangle ([xb; xa; co] , {'ko--'});\n",
    "plot_triangle ([xb; xa; ci] , {'bo-'});\n",
    "quiver (xs(1), xs(2), m(1) - xs(1), m(2) - xs(2), 'ko-', 'LineWidth', 4);\n",
    "plot_line ([r; m], {'ko-', 'LineWidth', 4});\n",
    "\n",
    "tprops = {'FontSize', 18};\n",
    "for i = 1:length (plabel)\n",
    "  if (points(i,1) < -0.3)\n",
    "    x_offset = -0.12;\n",
    "    y_offset = 0.0;\n",
    "  else\n",
    "    x_offset = 0.04;\n",
    "    y_offset = -0.04;\n",
    "  end\n",
    "  if (i == 7)  % c_{inner}\n",
    "    x_offset = -0.02;\n",
    "    y_offset = -0.07;\n",
    "  end\n",
    "  text (points(i,1) + x_offset, points(i,2) + y_offset, plabel{i}, tprops{:});\n",
    "end\n",
    "\n",
    "axis equal;\n",
    "axis off;"
   ]
  },
  {
   "cell_type": "markdown",
   "id": "2bb902bc-7c5e-4353-9c13-6357bc18433e",
   "metadata": {},
   "source": [
    "This concludes one step of the simplex method.\n",
    "There is no guarantee for convergence to a local minimum.\n",
    "\n",
    "Potential stopping criteria are:\n",
    "\n",
    "- \n",
    "  $$\n",
    "  \\forall i,j \\in \\{ 1, \\ldots, n + 1 \\} \\colon\\quad \\lVert x^i - x^j \\rVert \\leq \\text{TOL}.\n",
    "  $$\n",
    "\n",
    "- \n",
    "  $$\n",
    "  \\frac{1}{n + 1} \\sum _{i = 1}^{n + 1} \\left( f(x^i) - f(m) \\right)^2 \\leq (\\text{TOL})^2.\n",
    "  $$\n",
    "\n",
    "- \n",
    "  $$\n",
    "  \\frac{1}{n + 1} \\sum _{i = 1}^{n + 1} \\left( f(x^i) - \\bar{f} \\right)^2 \\leq (\\text{TOL})^2, \\quad\n",
    "  \\bar{f} := \\frac{1}{n + 1} \\sum _{i = 1}^{n + 1} f(x^i).\n",
    "  $$"
   ]
  },
  {
   "cell_type": "markdown",
   "id": "a53d5ad8-95ce-462c-90ca-b2324d5eb14f",
   "metadata": {},
   "source": [
    "## Start simplex\n",
    "\n",
    "Given one vertex $x^1$ and one edge length $l$, a regular simplex can be constructed as follows:\n",
    "\n",
    "-\n",
    "  $$\n",
    "  p := \\frac{l}{\\sqrt{2}} \\frac{\\sqrt{n + 1} - 1}{n}\n",
    "  $$\n",
    "\n",
    "-\n",
    "  $$\n",
    "  q := p (1, \\ldots, 1)^{T} \\in \\mathbb{R}^{n}\n",
    "  $$\n",
    "\n",
    "-\n",
    "  $$\n",
    "  x^j := x^1 + q + \\frac{l}{\\sqrt{2}} e^{j-1}, \\quad j = 2, \\ldots, n + 1,\n",
    "  $$\n",
    "  \n",
    "  where $e^1, \\ldots, e^n$ are the standard unit vectors in $\\mathbb{R}^{n}$."
   ]
  }
 ],
 "metadata": {
  "kernelspec": {
   "display_name": "Octave",
   "language": "octave",
   "name": "octave"
  },
  "language_info": {
   "file_extension": ".m",
   "help_links": [
    {
     "text": "GNU Octave",
     "url": "https://www.gnu.org/software/octave/support.html"
    },
    {
     "text": "Octave Kernel",
     "url": "https://github.com/Calysto/octave_kernel"
    },
    {
     "text": "MetaKernel Magics",
     "url": "https://metakernel.readthedocs.io/en/latest/source/README.html"
    }
   ],
   "mimetype": "text/x-octave",
   "name": "octave",
   "version": "6.3.0"
  }
 },
 "nbformat": 4,
 "nbformat_minor": 5
}
