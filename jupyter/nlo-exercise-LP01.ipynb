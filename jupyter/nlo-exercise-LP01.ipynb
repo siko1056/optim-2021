{
 "cells": [
  {
   "cell_type": "markdown",
   "id": "b32f45d9-e60f-4d77-9846-2a128d6a5943",
   "metadata": {},
   "source": [
    "(LP01)=\n",
    "# LP01"
   ]
  },
  {
   "cell_type": "markdown",
   "id": "76826979-eb13-4b97-ab63-e9f46c928163",
   "metadata": {},
   "source": [
    "## Collection of Linear Programming (LP) exercises\n",
    "\n",
    "See the [section about Linear Programming](LP) before working on the exercises."
   ]
  },
  {
   "cell_type": "markdown",
   "id": "68cf9a56-d1e5-47fb-b3b7-1ff1a638a426",
   "metadata": {},
   "source": [
    "## Example 1: Car factory\n",
    "\n",
    "![convex_sets](res/quantamagazine_lp.png)\n",
    "\n",
    "Source: [quantamagazine (2021-11-01)](https://www.quantamagazine.org/surprising-limits-discovered-in-quest-for-optimal-solutions-20211101/)."
   ]
  },
  {
   "cell_type": "code",
   "execution_count": 1,
   "id": "971a9fec-9a63-4fee-b9e3-ff3f7c598f44",
   "metadata": {},
   "outputs": [
    {
     "name": "stdout",
     "output_type": "stream",
     "text": [
      "x =\n",
      "\n",
      "    95.238\n",
      "   171.429\n",
      "\n",
      "fval = -4.3810e+06\n",
      "exitflag = 0\n"
     ]
    }
   ],
   "source": [
    "c = -[ 10000 20000 ];  % Maximize profit margin\n",
    "A = [ 30 100; ...\n",
    "      30  30 ];\n",
    "b = [ 20000; 8000 ];\n",
    "Aeq = []; % No equality constraints\n",
    "beq = [];\n",
    "lb = [   0   0 ];\n",
    "ub = [ inf inf ];\n",
    "CTYPE = repmat ('U', 2, 1);  % Octave: A(i,:)*x <= b(i)\n",
    "x0 = [];  % default start value\n",
    "%[x,fval,exitflag] = linprog(c,A,b,Aeq,beq,lb,ub,x0)  % Matlab: exitflag=1 success\n",
    "[x,fval,exitflag] = glpk(c,A,b,lb,ub,CTYPE)           % Octave: exitflag=0 success"
   ]
  },
  {
   "cell_type": "markdown",
   "id": "78ebcdc9-3557-46f9-892b-02105b43148b",
   "metadata": {},
   "source": [
    "This result is of course very \"technical\" and needs interpretation to be useful for the car company.\n",
    "\n",
    "The quantity of produced cars should be integers.\n",
    "A safe strategy is rounding the results down:"
   ]
  },
  {
   "cell_type": "code",
   "execution_count": 2,
   "id": "98961b0e-10a3-4873-a139-d76a63792470",
   "metadata": {},
   "outputs": [
    {
     "name": "stdout",
     "output_type": "stream",
     "text": [
      "cheapo = 95\n",
      "deluxe = 171\n"
     ]
    }
   ],
   "source": [
    "cheapo = floor (x(1))\n",
    "deluxe = floor (x(2))"
   ]
  },
  {
   "cell_type": "markdown",
   "id": "43cf0a90-742d-42b5-9191-2ad9c1209a15",
   "metadata": {},
   "source": [
    "The computed profit `fval` is negative.\n",
    "However to adapt to the standard form of a minimization problem,\n",
    "the objective function was negated.\n",
    "\n",
    "Furthermore,\n",
    "after rounding the values, the new profit can be computed from the objective function:"
   ]
  },
  {
   "cell_type": "code",
   "execution_count": 3,
   "id": "85627a17-5448-450e-a297-cbd6f0a6a3ef",
   "metadata": {},
   "outputs": [
    {
     "name": "stdout",
     "output_type": "stream",
     "text": [
      "profit = 4370000\n"
     ]
    }
   ],
   "source": [
    "profit = -c * [cheapo; deluxe]  % dollar"
   ]
  },
  {
   "cell_type": "markdown",
   "id": "9f6be3d4-96d4-43b1-93fe-95aff3da1b91",
   "metadata": {},
   "source": [
    "Finally,\n",
    "the budgets for the painting and assembly line time can be checked with `A` and `b`:"
   ]
  },
  {
   "cell_type": "code",
   "execution_count": 4,
   "id": "4121bf75-57f9-444f-893d-5c67a4a6bf8a",
   "metadata": {},
   "outputs": [
    {
     "name": "stdout",
     "output_type": "stream",
     "text": [
      "required_time =\n",
      "\n",
      "   19950\n",
      "    7980\n",
      "\n"
     ]
    }
   ],
   "source": [
    "required_time = A * [cheapo; deluxe]  % minutes"
   ]
  },
  {
   "cell_type": "code",
   "execution_count": 5,
   "id": "3c14c25e-a7be-4d4e-b871-5f0cc809225c",
   "metadata": {},
   "outputs": [
    {
     "name": "stdout",
     "output_type": "stream",
     "text": [
      "permitted_time =\n",
      "\n",
      "   20000\n",
      "    8000\n",
      "\n"
     ]
    }
   ],
   "source": [
    "permitted_time = b  % minutes"
   ]
  },
  {
   "cell_type": "markdown",
   "id": "ad96be40-cb1a-4b47-989f-59454c721b5e",
   "metadata": {},
   "source": [
    "Thus the problem is optimally solved.\n",
    "Not a single deluxe or cheapo could be manufactured with the given time budget:"
   ]
  },
  {
   "cell_type": "code",
   "execution_count": 6,
   "id": "5205ff77-34eb-459c-9abd-bc51f62e5d0e",
   "metadata": {},
   "outputs": [
    {
     "name": "stdout",
     "output_type": "stream",
     "text": [
      "remaining_budget =\n",
      "\n",
      "   50\n",
      "   20\n",
      "\n"
     ]
    }
   ],
   "source": [
    "remaining_budget = permitted_time - required_time  % minutes"
   ]
  },
  {
   "cell_type": "markdown",
   "id": "aaaafa24-ea0f-40f0-b19f-0a6d3da9db8c",
   "metadata": {},
   "source": [
    "## Example 2: Alloy production\n",
    "\n",
    "Source: {cite}`Luenberger2016` (p. 27).\n",
    "\n",
    "A manufacturer wishes to produce an alloy that is,\n",
    "by weight, 30 % metal A and 70 % metal B.\n",
    "Five alloys are available at various prices as indicated below:\n",
    "\n",
    "$$\n",
    "\\begin{array}{rccccc}\n",
    "\\text{Alloy}         &  1 &  2 &  3 &  4 &  5 \\\\\\hline\n",
    "\\% A                 & 10 & 25 & 50 & 75 & 95 \\\\\n",
    "\\% B                 & 90 & 75 & 50 & 25 &  5 \\\\\\hline\n",
    "\\text{Price [\\$]/kg} &  5 &  4 &  3 &  2 &  1.5\n",
    "\\end{array}\n",
    "$$\n",
    "\n",
    "The desired alloy will be produced by combining some of the other alloys.\n",
    "The manufacturer wishes to find the amounts of the various alloys\n",
    "needed and to determine the least expensive combination.\n",
    "Formulate this problem as a linear program."
   ]
  },
  {
   "cell_type": "code",
   "execution_count": 7,
   "id": "945ca7d4-73f3-42a4-8146-6712997ff938",
   "metadata": {
    "collapsed": true,
    "jupyter": {
     "outputs_hidden": true,
     "source_hidden": true
    },
    "tags": [
     "hide_input",
     "hide_output"
    ]
   },
   "outputs": [
    {
     "name": "stdout",
     "output_type": "stream",
     "text": [
      "x =\n",
      "\n",
      "        0\n",
      "   0.9000\n",
      "        0\n",
      "   0.1000\n",
      "        0\n",
      "\n",
      "fval = 3.8000\n",
      "exitflag = 0\n"
     ]
    }
   ],
   "source": [
    "c = [ 5 4 3 2 1.5 ];  % Minimize price\n",
    "A = []; % No inequality constraints\n",
    "b = [];\n",
    "Aeq = [ 10 25 50 75 95; ...\n",
    "        90 75 50 25  5 ];\n",
    "beq = [ 30; 70 ];\n",
    "lb = zeros(5,0);\n",
    "ub =  +inf(5,0);\n",
    "CTYPE = repmat ('S', 2, 1);  % Octave: A(i,:)*x = b(i)\n",
    "x0 = [];  % default start value\n",
    "%[x,fval,exitflag] = linprog(c,A,b,Aeq,beq,lb,ub,x0)  % Matlab: exitflag=1 success\n",
    "[x,fval,exitflag] = glpk(c,Aeq,beq,lb,ub,CTYPE)       % Octave: exitflag=0 success"
   ]
  },
  {
   "cell_type": "markdown",
   "id": "4bebebaf-ce6f-4119-9379-f0b4cf0abaca",
   "metadata": {},
   "source": [
    "## Example 3: Oil refinery\n",
    "\n",
    "Source: {cite}`Luenberger2016` (p. 28).\n",
    "\n",
    "An oil refinery has two sources of crude oil:\n",
    "a light crude that costs 35 dollar/barrel\n",
    "and a heavy crude that costs 30 dollar/barrel.\n",
    "The refinery produces gasoline, heating oil,\n",
    "and jet fuel from crude in the amounts per barrel\n",
    "indicated in the following table:\n",
    "\n",
    "$$\n",
    "\\begin{array}{rccc}\n",
    "& \\text{Gasoline} & \\text{Heating oil} & \\text{Jet fuel} \\\\\\hline\n",
    "\\text{Light crude} & 0.3 & 0.4 & 0.3 \\\\\n",
    "\\text{Heavy crude} & 0.3 & 0.2 & 0.2\n",
    "\\end{array}\n",
    "$$\n",
    "\n",
    "The refinery has contracted to supply\n",
    "900,000 barrels of gasoline,\n",
    "800,000 barrels of heating oil,\n",
    "and 500,000 barrels of jet fuel.\n",
    "The refinery wishes to find the amounts of light and heavy crude\n",
    "to purchase so as to be able to meet its obligations at minimum cost.\n",
    "Formulate this problem as a linear program."
   ]
  },
  {
   "cell_type": "code",
   "execution_count": 8,
   "id": "4e708cb2-eb5b-4173-96d0-a820d83d641d",
   "metadata": {
    "collapsed": true,
    "jupyter": {
     "outputs_hidden": true,
     "source_hidden": true
    },
    "tags": [
     "hide_input",
     "hide_output"
    ]
   },
   "outputs": [
    {
     "name": "stdout",
     "output_type": "stream",
     "text": [
      "glp_simplex: unable to recover undefined or non-optimal solution\n",
      "x =\n",
      "\n",
      "    NA\n",
      "    NA\n",
      "\n",
      "fval =  NA\n",
      "exitflag = 10\n"
     ]
    }
   ],
   "source": [
    "% Formulation with equality constraints not solvable.\n",
    "\n",
    "c = [ 35 30 ];  % Minimize price\n",
    "A = []; % No inequality constraints\n",
    "b = [];\n",
    "Aeq = [ 0.3 0.3; ...\n",
    "        0.4 0.2; ...\n",
    "        0.3 0.2 ];\n",
    "beq = [ 900000; 800000; 500000 ];\n",
    "lb = zeros(2,0);\n",
    "ub =  +inf(2,0);\n",
    "CTYPE = repmat ('S', 3, 1);  % Octave: A(i,:)*x = b(i)\n",
    "x0 = [];  % default start value\n",
    "%[x,fval,exitflag] = linprog(c,A,b,Aeq,beq,lb,ub,x0)  % Matlab: exitflag=1 success\n",
    "[x,fval,exitflag] = glpk(c,Aeq,beq,lb,ub,CTYPE)       % Octave: exitflag=0 success"
   ]
  },
  {
   "cell_type": "code",
   "execution_count": 9,
   "id": "1eca06f5-3d34-45ef-9534-fa3f026f39b5",
   "metadata": {
    "collapsed": true,
    "jupyter": {
     "outputs_hidden": true,
     "source_hidden": true
    },
    "tags": [
     "hide_input",
     "hide_output"
    ]
   },
   "outputs": [
    {
     "name": "stdout",
     "output_type": "stream",
     "text": [
      "x =\n",
      "\n",
      "   1.0000e+06\n",
      "   2.0000e+06\n",
      "\n",
      "fval = 9.5000e+07\n",
      "exitflag = 0\n"
     ]
    }
   ],
   "source": [
    "% Formulation with inequality constraints.\n",
    "\n",
    "c = [ 35 30 ];  % Minimize price\n",
    "A = -[ 0.3 0.3; ...\n",
    "       0.4 0.2; ...\n",
    "       0.3 0.2 ];\n",
    "b = -[ 900000; 800000; 500000 ];\n",
    "Aeq = []; % No equality constraints\n",
    "beq = [];\n",
    "lb = zeros(2,0);\n",
    "ub =  +inf(2,0);\n",
    "CTYPE = repmat ('U', 3, 1);  % Octave: -A(i,:)*x <= -b(i)\n",
    "x0 = [];  % default start value\n",
    "%[x,fval,exitflag] = linprog(c,A,b,Aeq,beq,lb,ub,x0)  % Matlab: exitflag=1 success\n",
    "[x,fval,exitflag] = glpk(c,A,b,lb,ub,CTYPE)           % Octave: exitflag=0 success"
   ]
  },
  {
   "cell_type": "code",
   "execution_count": 10,
   "id": "63ba6530-9c4b-4e7a-8ad0-ddc4944d67d8",
   "metadata": {
    "collapsed": true,
    "jupyter": {
     "outputs_hidden": true,
     "source_hidden": true
    },
    "tags": [
     "hide_input",
     "hide_output"
    ]
   },
   "outputs": [
    {
     "name": "stdout",
     "output_type": "stream",
     "text": [
      "ans =\n",
      "\n",
      "        0\n",
      "        0\n",
      "   200000\n",
      "\n"
     ]
    }
   ],
   "source": [
    "-A * x + b  % barrel overproduction"
   ]
  },
  {
   "cell_type": "markdown",
   "id": "4a629f1d-fcf9-4095-945c-f38addef94de",
   "metadata": {},
   "source": [
    "## Example 4: Car parts\n",
    "\n",
    "Source: {cite}`Luenberger2016` (p. 28-29).\n",
    "\n",
    "A small firm specializes in making five types of spare automobile parts.\n",
    "Each part is first cast from iron in the casting shop\n",
    "and then sent to the finishing shop where holes are drilled,\n",
    "surfaces are turned, and edges are ground.\n",
    "The required worker-hours (per 100 units) for each of the parts of the two shops\n",
    "are shown below:\n",
    "\n",
    "\n",
    "$$\n",
    "\\begin{array}{rccccc}\n",
    "\\text{Part}      & 1 & 2 & 3 & 4 & 5 \\\\\\hline\n",
    "\\text{Casting}   & 2 & 1 & 3 & 3 & 1 \\\\\n",
    "\\text{Finishing} & 3 & 2 & 2 & 1 & 1\n",
    "\\end{array}\n",
    "$$\n",
    "\n",
    "The profits (in dollar per 100 units) from the parts are\n",
    "30, 20, 40, 25, and 10, respectively.\n",
    "The capacities of the casting and finishing shops over the next month are\n",
    "700 and 1,000 worker-hours, respectively.\n",
    "Formulate the problem of determining the quantities of each spare part\n",
    "to be made during the month so as to maximize profit."
   ]
  },
  {
   "cell_type": "code",
   "execution_count": 11,
   "id": "590cc3a7-d3f3-4540-9f88-0851ceba017f",
   "metadata": {
    "collapsed": true,
    "jupyter": {
     "outputs_hidden": true,
     "source_hidden": true
    },
    "tags": [
     "hide_input",
     "hide_output"
    ]
   },
   "outputs": [
    {
     "name": "stdout",
     "output_type": "stream",
     "text": [
      "x =\n",
      "\n",
      "     0\n",
      "   400\n",
      "   100\n",
      "     0\n",
      "     0\n",
      "\n",
      "fval = -12000\n",
      "exitflag = 0\n"
     ]
    }
   ],
   "source": [
    "c = -[ 30 20 40 25 10 ];  % Maximize profit\n",
    "A = []; % No inequality constraints\n",
    "b = [];\n",
    "Aeq = [ 2 1 3 3 1; ...\n",
    "        3 2 2 1 1 ];\n",
    "beq = [ 700; 1000 ];\n",
    "lb = zeros(5,0);\n",
    "ub =  +inf(5,0);\n",
    "CTYPE = repmat ('S', 2, 1);  % Octave: A(i,:)*x = b(i)\n",
    "x0 = [];  % default start value\n",
    "%[x,fval,exitflag] = linprog(c,A,b,Aeq,beq,lb,ub,x0)  % Matlab: exitflag=1 success\n",
    "[x,fval,exitflag] = glpk(c,Aeq,beq,lb,ub,CTYPE)       % Octave: exitflag=0 success"
   ]
  },
  {
   "cell_type": "markdown",
   "id": "4387944e-17d0-4881-92da-d0fc5398f43f",
   "metadata": {},
   "source": [
    "## Example 5: Transport cost minimization\n",
    "\n",
    "Source: {cite}`Luenberger2016` (p. 29).\n",
    "\n",
    "A large textile firm has two manufacturing plants,\n",
    "two sources of raw material,\n",
    "and three market centers.\n",
    "The transportation costs (dollar per ton) between the sources and the plants\n",
    "and between the plants and the markets are as follows:\n",
    "\n",
    "$$\n",
    "\\begin{array}{rcc}\n",
    "\\text{Plant}    & \\text{A} & \\text{B} \\\\\\hline\n",
    "\\text{Source 1} & 1 & 1.5 \\\\\n",
    "\\text{Source 2} & 2 & 1.5\n",
    "\\end{array}\n",
    "$$\n",
    "\n",
    "$$\n",
    "\\begin{array}{rccc}\n",
    "\\text{Market}  & 1 & 2 & 3 \\\\\\hline\n",
    "\\text{Plant A} & 4 & 2 & 1 \\\\\n",
    "\\text{Plant B} & 3 & 4 & 2\n",
    "\\end{array}\n",
    "$$\n",
    "\n",
    "Ten tons are available from source 1 and 15 tons from source 2.\n",
    "The three market centers require 8 tons, 14 tons, and 3 tons.\n",
    "The plants have unlimited processing capacity.\n",
    "\n",
    "- Formulate the problem of finding the shipping patterns from sources\n",
    "  to plants to markets that minimizes the total transportation cost.\n",
    "- Reduce the problem to a single standard transportation problem\n",
    "  with two sources and three destinations.\n",
    "  (Hint: Find minimum cost paths from sources to markets.)"
   ]
  },
  {
   "cell_type": "code",
   "execution_count": 18,
   "id": "6e47b55f-1a42-4638-9331-7be89b9b94d8",
   "metadata": {
    "collapsed": true,
    "jupyter": {
     "outputs_hidden": true,
     "source_hidden": true
    },
    "tags": [
     "hide_input",
     "hide_output"
    ]
   },
   "outputs": [
    {
     "name": "stdout",
     "output_type": "stream",
     "text": [
      "ans =\n",
      "\n",
      "    0   10    0    0    0    0    0    4    3    8    0    0\n",
      "\n",
      "fval = 91\n",
      "exitflag = 0\n"
     ]
    }
   ],
   "source": [
    "A1 = [ 1 1.5; ...\n",
    "       2 1.5 ];\n",
    "A2 = [ 4 2 1; ...\n",
    "       3 4 2 ];\n",
    "% Minimize transport cost.\n",
    "%\n",
    "% x = [ S1 to A to M1,\n",
    "%               to M2,\n",
    "%               to M3,\n",
    "%       S1 to B to M1,\n",
    "%               to M2,\n",
    "%               to M3,\n",
    "%       S2 to A to M1,\n",
    "%               to M2,\n",
    "%               to M3,\n",
    "%       S2 to B to M1,\n",
    "%               to M2,\n",
    "%               to M3 ]\n",
    "c = [ A1(1,1) + A2(1,:), ...\n",
    "      A1(1,2) + A2(2,:), ...\n",
    "      A1(2,1) + A2(1,:), ...\n",
    "      A1(2,2) + A2(2,:) ];\n",
    "A = []; % No inequality constraints\n",
    "b = [];\n",
    "Aeq = [ 1 1 1 1 1 1 0 0 0 0 0 0; ...  % Sum of Source 1\n",
    "        0 0 0 0 0 0 1 1 1 1 1 1; ...  % Sum of Source 2\n",
    "        1 0 0 1 0 0 1 0 0 1 0 0; ...  % Sum of Market 1\n",
    "        0 1 0 0 1 0 0 1 0 0 1 0; ...  % Sum of Market 2\n",
    "        0 0 1 0 0 1 0 0 1 0 0 1 ];    % Sum of Market 3\n",
    "beq = [ 10; 15; 8; 14; 3 ];\n",
    "lb = zeros(12,0);\n",
    "ub =  +inf(12,0);\n",
    "CTYPE = repmat ('S', 5, 1);  % Octave: A(i,:)*x = b(i)\n",
    "x0 = [];  % default start value\n",
    "%[x,fval,exitflag] = linprog(c,A,b,Aeq,beq,lb,ub,x0);  % Matlab: exitflag=1 success\n",
    "[x,fval,exitflag] = glpk(c,Aeq,beq,lb,ub,CTYPE);       % Octave: exitflag=0 success\n",
    "x'\n",
    "fval\n",
    "exitflag"
   ]
  }
 ],
 "metadata": {
  "kernelspec": {
   "display_name": "Octave",
   "language": "octave",
   "name": "octave"
  },
  "language_info": {
   "file_extension": ".m",
   "help_links": [
    {
     "text": "GNU Octave",
     "url": "https://www.gnu.org/software/octave/support.html"
    },
    {
     "text": "Octave Kernel",
     "url": "https://github.com/Calysto/octave_kernel"
    },
    {
     "text": "MetaKernel Magics",
     "url": "https://metakernel.readthedocs.io/en/latest/source/README.html"
    }
   ],
   "mimetype": "text/x-octave",
   "name": "octave",
   "version": "6.4.0"
  }
 },
 "nbformat": 4,
 "nbformat_minor": 5
}
