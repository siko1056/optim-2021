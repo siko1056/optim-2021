{
 "cells": [
  {
   "cell_type": "markdown",
   "id": "5e612455-6a8d-42b0-a301-bbacb1d9880e",
   "metadata": {},
   "source": [
    "(RM03)=\n",
    "# RM03"
   ]
  },
  {
   "cell_type": "markdown",
   "id": "f44e8d3b-e7a5-4350-a9a8-a20111d8b2d3",
   "metadata": {},
   "source": [
    "Consider the following constrained optimization problem:\n",
    "\n",
    "$$\n",
    "\\begin{array}{lll}\n",
    "\\textrm{minimize}   & f(x_1, x_2)     &= x_1 + x_2 & \\\\\n",
    "\\textrm{subject to} & g_{1}(x_1, x_2) &= (x_1 - 1)^2 + {x_2}^2 - 1 &= 0, \\\\\n",
    "                    & g_{2}(x_1, x_2) &= (x_1 - 2)^2 + {x_2}^2 - 4 &= 0, \\\\\n",
    "\\end{array}\n",
    "$$\n",
    "\n",
    "with\n",
    "\n",
    "$$\n",
    "\\nabla     f(x_1, x_2) = \\begin{pmatrix} 1 \\\\ 1 \\end{pmatrix}, \\quad\n",
    "\\nabla g_{1}(x_1, x_2) = \\nabla g_{2}(x_1, x_2)\n",
    "= \\begin{pmatrix} 2(x_1 - 1) \\\\ 2 x_2 \\end{pmatrix}.\n",
    "$$"
   ]
  },
  {
   "cell_type": "markdown",
   "id": "b1b9d5e2-7b2b-46e1-8dad-4b2c4cca5052",
   "metadata": {},
   "source": [
    "The optimal point is\n",
    "$\\begin{pmatrix} {x_1}^{*} \\\\ {x_2}^{*} \\end{pmatrix} = \\begin{pmatrix} 0 \\\\ 0 \\end{pmatrix}$\n",
    "with $f({x_1}^{*}, {x_2}^{*}) = 0$.\n",
    "\n",
    "However,\n",
    "because $\\nabla g_{1}(x_1, x_2) = \\nabla g_{2}(x_1, x_2)$\n",
    "are not linear independent,\n",
    "the regularity constraint qualification (LICQ) is violated.\n",
    "The KKT conditions cannot be satisfied."
   ]
  },
  {
   "cell_type": "code",
   "execution_count": 16,
   "id": "42f59591-ab95-498d-8b24-1429aae3615c",
   "metadata": {
    "jupyter": {
     "source_hidden": true
    },
    "tags": [
     "hide_input"
    ]
   },
   "outputs": [
    {
     "data": {
      "image/png": "[encoded data removed]",
      "text/plain": [
       "<IPython.core.display.Image object>"
      ]
     },
     "metadata": {},
     "output_type": "display_data"
    }
   ],
   "source": [
    "% Optimal point.\n",
    "px = 0;\n",
    "py = 0;\n",
    "\n",
    "function circle (x, y, r)\n",
    "  t = 0:(pi / 50):2*pi;\n",
    "  x = r * cos (t) + x;\n",
    "  y = r * sin (t) + y;\n",
    "  plot (x, y, 'b', 'LineWidth', 4);\n",
    "end\n",
    "\n",
    "% Visualize constrained set of feasible solutions (blue).\n",
    "circle (1, 0, 1);\n",
    "hold on;\n",
    "circle (2, 0, 2);\n",
    "\n",
    "% Visualize scaled gradients of objective function (red arrow)\n",
    "% and constraint functions (cyan arrows).\n",
    "quiver (px, py, -1,    0,   'LineWidth', 2, 'c');\n",
    "quiver (px, py, -0.6, -0.6, 'LineWidth', 2, 'r');\n",
    "text (-1.0, -0.9, '- \\nabla f ({x_1}^{*}, {x_2}^{*})', 'FontSize', 14);\n",
    "text (-1.8,  0.2, '\\nabla g_2 ({x_1}^{*}, {x_2}^{*})', 'FontSize', 14);\n",
    "text (-1.8, -0.2, '\\nabla g_1 ({x_1}^{*}, {x_2}^{*})', 'FontSize', 14);\n",
    "axis equal;\n",
    "xlim ([-2 4]);\n",
    "xlabel ('x_1');\n",
    "ylabel ('x_2');\n",
    "title ('Contour plot');"
   ]
  },
  {
   "cell_type": "markdown",
   "id": "9fd02412-ef24-4d7b-b577-546abd4372b8",
   "metadata": {},
   "source": [
    "## Numerical experiment (only Matlab)"
   ]
  },
  {
   "cell_type": "code",
   "execution_count": null,
   "id": "79a34d0a-ea32-4d8b-8ca7-4153977815bb",
   "metadata": {},
   "outputs": [],
   "source": [
    "function RM03()\n",
    "  % Nonlinear objective function.\n",
    "  fun = @(x) x(1) + x(2);\n",
    "\n",
    "  % Starting point.\n",
    "  x0 = [0, 0];\n",
    "\n",
    "  % Linear inequality constraints A * x <= b.\n",
    "  A = [];\n",
    "  b = [];\n",
    "\n",
    "  % Linear equality constraints Aeq * x = beq.\n",
    "  Aeq = [];\n",
    "  beq = [];\n",
    "\n",
    "  % Bounds lb <= x <= ub\n",
    "  lb = [];\n",
    "  ub = [];\n",
    "\n",
    "  % Call solver.\n",
    "  [x,fval,exitflag,output,lambda,grad,hessian] = fmincon (fun,x0,A,b,Aeq,beq,lb,ub,@nonlcon);\n",
    "  \n",
    "  % Display interesting details.\n",
    "  \n",
    "  exitflag  % == 1 success\n",
    "  output\n",
    "  x         % optimal solution\n",
    "  fval      % function value at optimal solution\n",
    "  grad      % gradient of fun at optimal solution\n",
    "  hessian   % Hessian matrix of fun at optimal solution\n",
    "  lambda    % Lagrange parameter\n",
    "  lambda.eqnonlin  % lambda_1 and lambda_2\n",
    "  \n",
    "  disp ('\"=\"-Constraints')\n",
    "  [(x(1) - 1).^2 + x(2).^2 - 1; ...\n",
    "   (x(1) - 2).^2 + x(2).^2 - 4]\n",
    "end\n",
    "\n",
    "% Nonlinear constraint function for g_1.\n",
    "function [c,ceq] = nonlcon(x)\n",
    "  c = 0;\n",
    "  ceq = [(x(1) - 1).^2 + x(2).^2 - 1; ...\n",
    "         (x(1) - 2).^2 + x(2).^2 - 4];\n",
    "end"
   ]
  }
 ],
 "metadata": {
  "kernelspec": {
   "display_name": "Octave",
   "language": "octave",
   "name": "octave"
  },
  "language_info": {
   "file_extension": ".m",
   "help_links": [
    {
     "text": "GNU Octave",
     "url": "https://www.gnu.org/software/octave/support.html"
    },
    {
     "text": "Octave Kernel",
     "url": "https://github.com/Calysto/octave_kernel"
    },
    {
     "text": "MetaKernel Magics",
     "url": "https://metakernel.readthedocs.io/en/latest/source/README.html"
    }
   ],
   "mimetype": "text/x-octave",
   "name": "octave",
   "version": "6.4.0"
  }
 },
 "nbformat": 4,
 "nbformat_minor": 5
}
