{
 "cells": [
  {
   "cell_type": "markdown",
   "id": "e0f2fef1-da30-456a-9ac4-ebaaa372649a",
   "metadata": {
    "tags": []
   },
   "source": [
    "# Linear and Nonlinear Optimization\n",
    "\n",
    "![Tokyo Woman's Christian University (TWCU)](res/twcu_logo.png)\n",
    "\n",
    "- Kai Torben OHLHUS\n",
    "  - email: <ohlhus@lab.twcu.ac.jp>\n",
    "- Winter 2021\n",
    "- Last update: 2021-09-20\n",
    "  \n",
    "> This optimization course is based on lecture material by\n",
    "> [C. Jansson](https://www.tuhh.de/ti3/jansson/) and\n",
    "> [H. Oberle](https://www.math.uni-hamburg.de/home/oberle/skripte/optimierung.html)."
   ]
  },
  {
   "cell_type": "markdown",
   "id": "c14b7b9d-ed02-4d0f-9f36-e9eb725647be",
   "metadata": {},
   "source": [
    "## Introduction\n",
    "\n",
    "This one semester course is prepared for students\n",
    "of engineering and computer science.\n",
    "It will introduce the **classical optimization methods**.\n",
    "The topics covered in this course include:\n",
    "\n",
    "- Optimality conditions for finite-dimensional (un-)constrained continuous problems\n",
    "- (Un-)constrained optimization methods\n",
    "- Convex analysis\n",
    "- Many examples\n",
    "\n",
    "Duration: 14 weeks, 1.5 hours per week\n",
    "\n",
    "**Prerequisites: Knowledge of elementary Calculus and Linear Algebra.**\n",
    "\n",
    "> **Please note:** these lecture notes are **not complete**.\n",
    "> Several additional parts, comments, proofs, and intermediate calculations\n",
    "> are given on the blackboard."
   ]
  },
  {
   "cell_type": "markdown",
   "id": "04b05b5a-251f-42f7-b023-d1cf793650f3",
   "metadata": {},
   "source": [
    "## Literature\n",
    "\n",
    "- Cottle, Thapa:\n",
    "  *Linear and Nonlinear Optimization*,\n",
    "  Springer, 2017.\n",
    "  [doi:10.1007/978-1-4939-7055-1](https://doi.org/10.1007/978-1-4939-7055-1)\n",
    "  (ISBN: 978-1-4939-7053-7)\n",
    "\n",
    "- Luenberger, Ye:\n",
    "  *Linear and Nonlinear Programming*,\n",
    "  Springer, 2016.\n",
    "  [doi:10.1007/978-3-319-18842-3](https://doi.org/10.1007/978-3-319-18842-3)\n",
    "  (ISBN: 978-3-319-18841-6)\n",
    "\n",
    "- Bertsekas:\n",
    "  *Nonlinear Programming*,\n",
    "  Athena Scientific, 2016.\n",
    "  <http://www.athenasc.com/nonlinbook.html>\n",
    "  (ISBN: 978-1-886529-05-2)\n",
    "\n",
    "- Griva, Nash, Sofer:\n",
    "  *Linear and Nonlinear Optimization*,\n",
    "  SIAM, 2008.\n",
    "  <http://bookstore.siam.org/OT108/>\n",
    "  (ISBN: 978-0-89871-661-0)\n",
    "\n",
    "- Boyd, Vandenberghe:\n",
    "  *Convex Optimization*,\n",
    "  Cambridge University Press, 2004.\n",
    "  <https://web.stanford.edu/~boyd/cvxbook/>\n",
    "  (ISBN: 978-0-521-83378-3)"
   ]
  },
  {
   "cell_type": "markdown",
   "id": "eed49a8b-d86c-4438-bcbb-d609fc0e14c1",
   "metadata": {},
   "source": [
    "## The optimization problem\n",
    "\n",
    "$$\n",
    "\\begin{array}{lll}\n",
    "\\textrm{minimize}   & f(x)             & \\\\\n",
    "\\textrm{subject to} & f_{i}(x) \\leq 0, & i = 1, \\ldots, m, \\\\\n",
    "                    & h_{j}(x) =    0, & j = 1, \\ldots, p, \\\\\n",
    "\\end{array}\n",
    "$$\n",
    "\n",
    "- $x = (x_{1}, x_{2}, \\ldots)$:\n",
    "  **optimization variables**\n",
    "\n",
    "- $f \\colon \\mathcal{X} \\to \\mathbb{R}$:\n",
    "  **objective function** (目的関数)\n",
    "\n",
    "- $g_{i} \\colon \\mathcal{X} \\to \\mathbb{R}, i = 1, \\ldots, m$:\n",
    "  **inequality constraint** functions\n",
    "\n",
    "- $h_{j} \\colon \\mathcal{X} \\to \\mathbb{R}, j = 1, \\ldots, p$:\n",
    "  **equality constraint** functions\n",
    "\n",
    "Decision set $\\mathcal{X}$ may be finite $\\mathbb{R}^{n}$,\n",
    "a set of matrices,\n",
    "a discrete set $\\mathbb{Z}^{n}$,\n",
    "or an infinite dimensional set.\n",
    "\n",
    "The **constraint functions** (制約関数) limit the decision set $\\mathcal{X}$\n",
    "to a set of **feasible points** (実行可能領域) $x \\in X \\subset \\mathcal{X}$.\n",
    "\n",
    "> **Optimal solution** (最適解) $\\forall x \\in X \\colon f(x^{*}) \\leq f(x)$.\n",
    ">\n",
    "> The Optimal solution $x^{*} \\in X$ has smallest value of $f$\n",
    "> among all feasible points that \"satisfy the constraints\"."
   ]
  },
  {
   "cell_type": "markdown",
   "id": "5cb66b31-93b6-4ef8-8226-845d5eb7586d",
   "metadata": {},
   "source": [
    "### Classes of optimizations problems\n",
    "\n",
    "- Unconstrained optimization: $m = p = 0$\n",
    "- Constrained optimization $m > 0$ or $p > 0$\n",
    "- Linear Programming: $f$ linear, $g_{i}$, $h_{j}$ affin-linear\n",
    "- Quadratic Programming: $f(x) = \\frac{1}{2}x^{T}Ax + b^{T}x +c$, $g_{i}$, $h_{j}$ affin-linear\n",
    "- Convex Optimization: $f$ convex, $g_{i}$ convex, $h_{j}$ affin-linear"
   ]
  },
  {
   "cell_type": "markdown",
   "id": "88e678fd-d376-4366-a873-3e7898dd753b",
   "metadata": {},
   "source": [
    "### Local and global optima\n",
    "\n",
    "Consider the following piecewise defined function:"
   ]
  },
  {
   "cell_type": "code",
   "execution_count": 13,
   "id": "09b39c72-0835-4c46-aa8b-76c2666a1957",
   "metadata": {
    "jupyter": {
     "source_hidden": true
    },
    "tags": []
   },
   "outputs": [
    {
     "data": {
      "image/png": "[encoded data removed]",
      "text/plain": [
       "<IPython.core.display.Image object>"
      ]
     },
     "metadata": {},
     "output_type": "display_data"
    }
   ],
   "source": [
    "f = {@(x) -(x - 2).^2 + 2, ...\n",
    "     @(x) 2, ...\n",
    "     @(x) -(x - 7) / 2, ...\n",
    "     @(x) 3/2, ...\n",
    "     @(x) (x - 6).^3 + 5/2, ...\n",
    "     @(x) -(x - 11) / 2, ...\n",
    "     @(x) (x - 7).^2 / 4 + 2};\n",
    "for i = 1:7\n",
    "  fun = f{i};\n",
    "  x = linspace (i, i + 1, 40);\n",
    "  y = fun (x);\n",
    "  plot (x, y, 'b');\n",
    "  hold on;\n",
    "end\n",
    "xlim ([0, 10]);\n",
    "ylim ([0.5, 3]);\n",
    "xlabel ('x');\n",
    "ylabel ('f(x)');\n",
    "fmt = {'FontSize', 16};\n",
    "plot (1, 1.00, 'ro'); text (0.5, 0.9, 'Global minimum', fmt{:});\n",
    "plot (6, 2.50, 'ro'); text (5.5, 2.6, 'Global maximum', fmt{:});\n",
    "plot (7, 2.00, 'ro'); text (5.5, 1.9, 'A (strict) local minimum', fmt{:});\n",
    "plot (8, 2.25, 'ro'); text (6.5, 2.4, 'A (strict) local maximium', fmt{:});\n",
    "plot (2:3, [2, 2],     'r'); text (2, 2.1, 'A local maximium', fmt{:});\n",
    "plot (4:5, [3, 3] / 2, 'r'); text (4, 1.4, 'A local minimium', fmt{:});\n",
    "plot ([1, 8], [0.75, 0.75], 'b', 'LineWidth', 6);\n",
    "text (3, 0.65, 'X (feasible points)', fmt{:});"
   ]
  },
  {
   "cell_type": "markdown",
   "id": "2d146c56-4a73-4d4c-9cf7-4bf010d1ea8a",
   "metadata": {},
   "source": [
    "Local and global optima of a two-dimensional function."
   ]
  },
  {
   "cell_type": "code",
   "execution_count": 1,
   "id": "01387621-68b3-425a-8516-ce8370089db7",
   "metadata": {
    "jupyter": {
     "source_hidden": true
    },
    "tags": []
   },
   "outputs": [
    {
     "data": {
      "image/png": "[encoded data removed]",
      "text/plain": [
       "<IPython.core.display.Image object>"
      ]
     },
     "metadata": {},
     "output_type": "display_data"
    }
   ],
   "source": [
    "N = 3;\n",
    "[X,Y] = meshgrid (linspace (-N, N, 40));\n",
    "\n",
    "% Gaussian probability density function (PDF)\n",
    "GAUSS = @(sigma, mu)  1 / (sigma * sqrt (2*pi)) * ...\n",
    "                      exp (-0.5 * ((X - mu(1)).^2 + (Y - mu (2)).^2) / sigma^2);\n",
    "\n",
    "Z = 9 * GAUSS (0.6, [ 0.0,  2.0]) + 5 * GAUSS (0.5, [ 1.0,  0.0]) ...\n",
    "  + 3 * GAUSS (0.4, [-0.5,  0.0]) - 3 * GAUSS (0.3, [-1.5,  0.5]) ...\n",
    "  - 7 * GAUSS (0.5, [ 0.0, -2.0]);\n",
    "\n",
    "surf (X, Y, Z);\n",
    "xlabel ('x');\n",
    "ylabel ('y');\n",
    "zlabel ('z(x,y)');\n",
    "colormap ('jet');\n",
    "props = {'FontSize', 18};\n",
    "text ( 0.0, -2.0, -6.2, 'Global Minimum', props{:});\n",
    "text ( 0.0,  2.0,  7.2, 'Global Maximum', props{:});\n",
    "text (-1.5,  0.5, -5.5, 'A Local Minimum', props{:});\n",
    "text ( 1.0,  0.0,  5.0, 'A Local Maximum', props{:});\n",
    "view (-55, 21)"
   ]
  },
  {
   "cell_type": "markdown",
   "id": "dcbfbad3-5dac-41ac-9ff7-45c974bf3a66",
   "metadata": {},
   "source": [
    "### Two-dimensional constrained example\n",
    "\n",
    "A simple problem can be defined by the constraints\n",
    "$$\n",
    "\\begin{array}{l}\n",
    "x_1 \\geq 0, \\\\\n",
    "x_2 \\geq 0, \\\\\n",
    "x_1^2 + x_2^2 \\geq 1, \\\\\n",
    "x_1^2 + x_2^2 \\leq 2,\n",
    "\\end{array}\n",
    "$$\n",
    "with an objective function to be maximized\n",
    "$$\n",
    "f(x) = x_1 + x_2\n",
    "$$"
   ]
  },
  {
   "cell_type": "code",
   "execution_count": 30,
   "id": "356aaabb-1f02-4be7-9035-3c81d501248e",
   "metadata": {
    "jupyter": {
     "source_hidden": true
    },
    "tags": []
   },
   "outputs": [
    {
     "data": {
      "image/png": "[encoded data removed]",
      "text/plain": [
       "<IPython.core.display.Image object>"
      ]
     },
     "metadata": {},
     "output_type": "display_data"
    }
   ],
   "source": [
    "% Visualize constrained set of feasible solutions (blue).\n",
    "circ = @(x) sqrt (max(x)^2 - x.^2);\n",
    "x_11 = 0:0.01:sqrt(2);\n",
    "x_21 = circ (x_11);\n",
    "x_12 = 1:-0.01:0;\n",
    "x_22 = circ (x_12);\n",
    "area ([x_11, x_12], [x_21, x_22], 'FaceColor', 'blue');\n",
    "\n",
    "% Visualize level set of the objective function (magenta)\n",
    "% and its scaled gradient (red arrow).\n",
    "hold on;\n",
    "plot ([0 2], [2 0], 'LineWidth', 4, 'm');\n",
    "quiver (1, 1, 0.3, 0.3, 'LineWidth', 4, 'r');\n",
    "axis equal\n",
    "xlim ([0 2])\n",
    "ylim ([0 2])\n",
    "xlabel ('x_1')\n",
    "ylabel ('x_2')"
   ]
  },
  {
   "cell_type": "markdown",
   "id": "94bc0a12-5c04-42df-b16d-5b1b1e291ae5",
   "metadata": {},
   "source": [
    "The intersection of the level-set of the objective function ($f(x) = 2 = const.$)\n",
    "and the constrained set of feasible solutions represents the solution.\n",
    "\n",
    "> $\\max f(x) = -\\min -f(x)$\n",
    "\n",
    "In these lectures we are mainly interested in methods for computing local minima."
   ]
  },
  {
   "cell_type": "markdown",
   "id": "315d7b9f-3b61-429c-9ae2-623d4db23586",
   "metadata": {},
   "source": [
    "### Applications, examples and software\n",
    "\n",
    "Good ressource is the homepage by Hans D. Mittelman:\n",
    "<http://plato.asu.edu/guide.html>.\n",
    "\n",
    "- **problems/software:** software sorted by problem to be solve\n",
    "- **benchmarks:** collection of test results and performance tests\n",
    "- **test cases:** example files ready to use with existing software, in different formats\n",
    "- **books/tutorials:** a short list of introductory texts, some online\n",
    "- **tools:** software which helps formulating an optimization problem or simplifying its solution"
   ]
  },
  {
   "cell_type": "markdown",
   "id": "897816f5-2593-4eaa-b1c9-1c285723f43b",
   "metadata": {
    "tags": []
   },
   "source": [
    "### Modelling\n",
    "\n",
    "- **Real world problem:** mathematical formulation, preferable as a tractable (linear or convex) problem.\n",
    "- **Software:** try to classify the problem, in order to find the appropriate software.\n",
    "- **Solution:** depends on your choice of the mathematical model, and the input data.\n",
    "\n",
    "Nearly all scientific and engineering fields make knowingly or unknowingly use of some kind of optimization techiques. \n",
    "Starting with \"Operations Research\", \"Machine Learning\", ... It is superfluous to write them all down.\n",
    "\n",
    "Even nature optimizes.\n",
    "The basic laws of nature can be formulated in terms of least action principles.\n",
    "Therefore only two small examples with typical properties."
   ]
  },
  {
   "cell_type": "markdown",
   "id": "62f727f6-b7f4-49b2-aaef-59304ea82368",
   "metadata": {},
   "source": [
    "### Notation\n",
    "\n",
    "Vectors $x \\in \\mathbb{R}^{n}$ are column vectors.\n",
    "$x^{T}$ is the transposed row vector.\n",
    "\n",
    "A norm in $\\mathbb{R}^{n}$ is denoted by $\\lVert \\cdot \\rVert$\n",
    "and corresponds to the Euclidean norm:\n",
    "\n",
    "$$\n",
    "\\lVert x \\rVert = \\lVert x \\rVert_{2} = \\left( x^{T}x \\right)^{\\frac{1}{2}}\n",
    "= \\sqrt{x_{1}^{2} + \\ldots + x_{n}^{2}}.\n",
    "$$\n",
    "\n",
    "Is $\\lVert \\cdot \\rVert$ a norm on $\\mathbb{R}^{n}$, then\n",
    "\n",
    "$$\n",
    "\\lVert A \\rVert := \\max\\left\\{ \\lVert Ax \\rVert \\colon \\lVert x \\rVert \\leq 1 \\right\\}\n",
    "$$\n",
    "\n",
    "defines the matrix norm (operator norm) for $A \\in \\mathbb{R}^{n \\times n}$.\n",
    "\n",
    "For the Euclidean vector norm this is\n",
    "\n",
    "$$\n",
    "\\lVert A \\rVert = \\sqrt{\\lambda_{\\max}(A^{T}A)} = \\sigma_{\\max}(A),\n",
    "$$\n",
    "\n",
    "where $\\lambda_{\\max}(\\cdot)$ denotes the maximal eigenvalue\n",
    "and $\\sigma_{\\max}(\\cdot)$ the maximal singular value of a matrix."
   ]
  },
  {
   "cell_type": "markdown",
   "id": "1f889029-01dd-47a0-a2fd-b8ea2ed54ec9",
   "metadata": {},
   "source": [
    "The open ball with center $x \\in \\mathbb{R}^{n}$ and radius $\\varepsilon > 0$\n",
    "is denoted by\n",
    "\n",
    "$$\n",
    "B_{\\varepsilon}(x) := \\{ y \\in \\mathbb{R}^{n} \\colon \\lVert y - x \\rVert < \\varepsilon \\}.\n",
    "$$\n",
    "\n",
    "The interior of a set $X \\subset \\mathbb{R}^{n}$ is denoted by $int(X)$\n",
    "and the border by $\\partial X$.\n",
    "For $x \\in int(X)$ and $\\varepsilon > 0$ there is $B_{\\varepsilon}(x) \\subset X$.\n",
    "\n",
    "A subset $X \\subset \\mathbb{R}^{n}$ is called **\"open\"**, if $int(X) = X$.\n",
    "(\"The border $\\partial X$ is not included.\")\n",
    "\n",
    "A closed subset $X \\subset \\mathbb{R}^{n}$ is called **\"compact\"**,\n",
    "if every open cover of $X$ has a finite subcover.\n",
    "(\"No holes in $X$, border included.\")."
   ]
  },
  {
   "cell_type": "markdown",
   "id": "08e7b614-8937-416b-b8ee-8abe193672c6",
   "metadata": {},
   "source": [
    "Let $f \\colon \\mathbb{R}^{n} \\to \\mathbb{R}$ be continuously differentiable\n",
    "($f \\in C^{1}$), then the **gradient** of $f$ in $x$ is denoted by\n",
    "the column vector:\n",
    "\n",
    "$$\n",
    "\\nabla f(x) =\n",
    "\\begin{pmatrix}\n",
    "\\dfrac{\\strut\\partial}{\\strut\\partial x_{1}} f(x) \\\\\n",
    " \\vdots \\\\\n",
    "\\dfrac{\\strut\\partial}{\\strut\\partial x_{n}} f(x)\n",
    "\\end{pmatrix}\n",
    "$$\n",
    "\n",
    "Let $f \\colon \\mathbb{R}^{n} \\to \\mathbb{R}$ be twice continuously differentiable\n",
    "($f \\in C^{2}$), then the symmetric **Hessian matrix** of $f$ in $x$ is denoted by:\n",
    "\n",
    "$$\n",
    "\\nabla^{2} f(x) =\n",
    "\\begin{pmatrix}\n",
    "\\dfrac{\\strut\\partial^{2}}{\\strut\\partial x_{1}\\strut\\partial x_{1}} f(x)\n",
    "& \\cdots\n",
    "& \\dfrac{\\strut\\partial^{2}}{\\strut\\partial x_{1}\\strut\\partial x_{n}} f(x) \\\\\n",
    "\\vdots & \\ddots & \\vdots \\\\\n",
    "\\dfrac{\\strut\\partial^{2}}{\\strut\\partial x_{n} \\strut\\partial x_{1}} f(x)\n",
    "& \\cdots\n",
    "& \\dfrac{\\strut\\partial^{2}}{\\strut\\partial x_{n} \\strut\\partial x_{n}} f(x)\n",
    "\\end{pmatrix}\n",
    "$$\n",
    "\n",
    "A real symmetric matrix $A \\in \\mathbb{R}^{n \\times n}$ is positive semi-definte,\n",
    "if $d^{T}Ad \\geq 0$ for all $d \\in \\mathbb{R}^{n} \\setminus \\{ 0 \\}$\n",
    "and is denoted by $A \\succeq 0$.\n",
    "\n",
    "A real symmetric matrix $A \\in \\mathbb{R}^{n \\times n}$ is positive definte,\n",
    "if $d^{T}Ad > 0$ for all $d \\in \\mathbb{R}^{n} \\setminus \\{ 0 \\}$\n",
    "and is denoted by $A \\succ 0$."
   ]
  },
  {
   "cell_type": "markdown",
   "id": "c10f9c45-c07e-4ee9-af52-caa3d18985cf",
   "metadata": {},
   "source": [
    "The **Landau symbol** is defined by\n",
    "\n",
    "$$\n",
    "\\phi(d) = o\\left(\\lVert d \\rVert^{k}\\right)\n",
    "\\iff \\lim_{d \\to 0} \\frac{\\phi(d)}{\\lVert d \\rVert^{k}} = 0.\n",
    "$$\n",
    "\n",
    "**Taylor's theorem** (only linear and quadratic)\n",
    "\n",
    "Let $f \\in C^{1}$, $X \\subset \\mathbb{R}^{n}$ open, $x \\in X$, $d \\in \\mathbb{R}^{n}$\n",
    "and $\\lVert d \\rVert$ sufficiently small, then:\n",
    "\n",
    "$$\n",
    "f(x + d) = f(x) + \\nabla f(x)^{T}d + o(\\lVert d \\rVert).\n",
    "$$\n",
    "\n",
    "Additionally, if $f \\in C^{2}$ and for $0 < \\theta < 1$,\n",
    "the remainder is expressible by\n",
    "\n",
    "$$\n",
    "f(x + d) = f(x) + \\nabla f(x)^{T}d + \\frac{1}{2}d^{T}\\nabla^{2} f(x + \\theta d)d.\n",
    "$$\n",
    "\n",
    "Let $f \\in C^{2}$, $X \\subset \\mathbb{R}^{n}$ open, $x \\in X$, $d \\in \\mathbb{R}^{n}$\n",
    "and $\\lVert d \\rVert$ sufficiently small, then:\n",
    "\n",
    "$$\n",
    "f(x + d) = f(x) + \\nabla f(x)^{T}d + \\frac{1}{2}d^{T}\\nabla^{2} f(x)d + o(\\lVert d \\rVert^{2}).\n",
    "$$"
   ]
  },
  {
   "cell_type": "markdown",
   "id": "502b0b08-ada1-4f61-be89-44883f5c6a02",
   "metadata": {},
   "source": [
    "## Extreme value theorem\n",
    "\n",
    "> Let $X \\subset \\mathbb{R}^{n}$ non-empty and compact\n",
    "> and $f \\colon \\mathbb{R}^{n} \\to \\mathbb{R}$ continous.\n",
    "> Then there exists a **global minimum** of $f$ over $X$.\n",
    "\n",
    "If a real-valued function $f$ is continuous on the closed interval $[a,b]$,\n",
    "then $f$ must attain a maximum and a minimum, each at least once!"
   ]
  },
  {
   "cell_type": "markdown",
   "id": "7a09c44f-940d-4539-b0d7-b3f6ebfd2cd4",
   "metadata": {
    "tags": []
   },
   "source": [
    "## Necessary conditions for a local minimum\n",
    "\n",
    "### 1st order optimality condition\n",
    "\n",
    "Zero slope at a local minimum $x^{*}$:\n",
    "\n",
    "$$\n",
    "\\nabla f(x^{*}) = 0\n",
    "$$\n",
    "\n",
    "> Let the open set $X \\subset \\mathbb{R}^{n}$ and let $f \\in C^{1}$.\n",
    "> If the point $x^{*} \\in X$ is a local miminum of $f$ over $X$,\n",
    "> then $\\nabla f(x^{*}) = 0$.\n",
    "\n",
    "*Proof:*\n",
    "Let $d \\in \\mathbb{R}^{n} \\setminus \\{0\\}$.\n",
    "Because $X$ is an open set and $x^{*}$ is a local minimum\n",
    "$x^{*} + td \\in X$, \n",
    "$x^{*} - td \\in X$,\n",
    "$f(x^{*} + td) - f(x^{*}) \\geq 0$, and\n",
    "$f(x^{*} - td) - f(x^{*}) \\geq 0$\n",
    "hold for sufficiently small $t > 0$.\n",
    "Because $f \\in C^{1}$ it follows\n",
    "$$\n",
    "0 \\leq \\lim_{t \\to +0}\n",
    "\\frac{f(x^{*} + td) - f(x^{*})}{t} = \\nabla f(x^{*})^{T}d\n",
    "$$\n",
    "and\n",
    "$$\n",
    "0 \\leq \\lim_{t \\to +0}\n",
    "\\frac{f(x^{*} - td) - f(x^{*})}{t} = -\\nabla f(x^{*})^{T}d\n",
    "$$\n",
    "and it follows $\\nabla f(x^{*}) = 0$.\n",
    "\n",
    "$$\n",
    "\\tag*{$\\Box$}\n",
    "$$"
   ]
  },
  {
   "cell_type": "markdown",
   "id": "c1bf98b0-394d-4a74-81ef-85f81ae0b48e",
   "metadata": {},
   "source": [
    "### 2st order optimality condition\n",
    "\n",
    "Nonnegative curvature at a local minimum $x^{*}$:\n",
    "\n",
    "$$\n",
    "\\nabla^{2} f(x^{*}) \\quad\\text{is positive semi-definite}\n",
    "$$\n",
    "\n",
    "> Let the open set $X \\subset \\mathbb{R}^{n}$ and $f \\in C^{2}$.\n",
    "> If the point $x^{*} \\in X$ is a local miminum of $f$ over $X$,\n",
    "> then the Hessian matrix $\\nabla^{2} f(x^{*})$ is positive semi-definite.\n",
    "\n",
    "*Proof:*\n",
    "Let $d \\in \\mathbb{R}^{n} \\setminus \\{0\\}$ and $|t|$ sufficiently small\n",
    "(such that $x^{*} + td \\in X$ for all $t$ with $|t| < t_{0}$).\n",
    "\n",
    "Using Taylor's theorem (differentiation with chain-rule)\n",
    "and regarding $\\nabla f(x^{*}) = 0$ gives\n",
    "\n",
    "$$\n",
    "f(x^{*} + td) = f(x^{*}) + \\frac{1}{2}t^{2}d^{T}\\nabla^{2} f(x^{*})d + o(t^{2}).\n",
    "$$\n",
    "\n",
    "If $\\nabla^{2} f(x^{*})$ was not positive semi-definite,\n",
    "there exists a $d \\in \\mathbb{R}^{n} \\setminus \\{0\\}$\n",
    "with $d^{T}\\nabla^{2} f(x^{*})d < 0$.\n",
    "This is a contradiction for the minimality of $x^{*}$.\n",
    "\n",
    "$$\n",
    "\\tag*{$\\Box$}\n",
    "$$"
   ]
  },
  {
   "cell_type": "markdown",
   "id": "d3d80195-13e4-4a6c-96b1-068907742654",
   "metadata": {},
   "source": [
    "**Remark:** There may exist points that satisfy the **necessary** 1st and 2nd order conditions\n",
    "but are not local minima.  For example:"
   ]
  },
  {
   "cell_type": "code",
   "execution_count": 7,
   "id": "27d35a0a-d6df-488b-8617-5d90b7ac7b86",
   "metadata": {
    "jupyter": {
     "source_hidden": true
    },
    "tags": []
   },
   "outputs": [
    {
     "data": {
      "image/png": "[encoded data removed]",
      "text/plain": [
       "<IPython.core.display.Image object>"
      ]
     },
     "metadata": {},
     "output_type": "display_data"
    }
   ],
   "source": [
    "x = linspace (-0.5, 0.5, 50);\n",
    "fstr = {'|x|^3', 'x^3', '-|x|^3'};\n",
    "f = {@(x) abs(x).^3, @(x) x.^3, @(x) -abs(x).^3};\n",
    "for i = 1:3\n",
    "  fun = f{i};\n",
    "  subplot (1, 3, i);\n",
    "  plot (x, fun(x));\n",
    "  hold on;\n",
    "  plot (0, 0, 'ro');\n",
    "  grid on;\n",
    "  xlim ([-0.5, 0.5]);\n",
    "  ylim ([-0.05, 0.05]);\n",
    "  xlabel ('x');\n",
    "  ylabel ('f(x)');\n",
    "  title (['f(x) = ', fstr{i}]);\n",
    "end"
   ]
  },
  {
   "cell_type": "markdown",
   "id": "b3abb411-db56-4569-ac5d-58046bedc406",
   "metadata": {},
   "source": [
    "## Sufficient condition for a strict local minimum\n",
    "\n",
    "Positive curvature at a local minimum $x^{*}$:\n",
    "\n",
    "$$\n",
    "\\nabla^{2} f(x^{*}) \\quad\\text{is positive definite}\n",
    "$$\n",
    "\n",
    "> Let $f \\in C^{2}$ and $x^{*} \\in X \\subset \\mathbb{R}^{n}$ with\n",
    "> $\\nabla f(x^{*}) = 0$ and $\\nabla^{2} f(x^{*}) \\succeq 0$ (positive definite),\n",
    "> then $x^{*}$ is a strict local minimum of $f$ over $X$.\n",
    "\n",
    "*Proof:*\n",
    "Application of the Rayleigh–Ritz method,\n",
    "for symmetric matrix $A \\in \\mathbb{R}^{n \\times n}$\n",
    "and $d \\in \\mathbb{R}^{n} \\setminus \\{ 0 \\}$ there is\n",
    "\n",
    "$$\n",
    "\\lambda_{\\min}(A) \\leq \\frac{d^{T}Ad}{d^{T}d} \\leq \\lambda_{\\max}(A),\n",
    "$$\n",
    "\n",
    "where the minimum or maximum is attained\n",
    "for the respective eigenvectors $d$ of the minimal and maximal eigenvalue.\n",
    "\n",
    "For a positive definite, symmetric matrix $A = \\nabla^{2} f(x^{*})$\n",
    "there is $\\lambda := \\lambda_{\\min}(A) > 0$:\n",
    "\n",
    "$$\n",
    "d^{T}\\nabla^{2} f(x^{*}) d \\geq \\lambda \\lVert d \\rVert_{2}^{2},\n",
    "\\qquad\\forall d \\in \\mathbb{R}^{n}.\n",
    "$$\n",
    "\n",
    "Applying Taylor's theorem to $f$ at $x^{*}$ (with remainder) gives\n",
    "\n",
    "$$\n",
    "f(x^{*} + d) = f(x^{*}) + \\nabla f(x^{*})^{T}d + \\frac{1}{2}d^{T} \\nabla^{2} f(\\tilde{x})d\n",
    "$$\n",
    "\n",
    "with $\\tilde{x} := x^{*} + \\theta d$, $0 < \\theta < 1$.\n",
    "\n",
    "Using $\\nabla f(x^{*}) = 0$ and an expansion:\n",
    "\n",
    "$$\n",
    "\\begin{aligned}\n",
    "f(x^{*} + d) &= f(x^{*})\n",
    "+ \\frac{1}{2}\\underbrace{d^{T} \\nabla^{2} f(x^{*})d}_{\\geq \\lambda \\lVert d \\rVert_{2}^{2}}\n",
    "+ \\frac{1}{2}\\underbrace{d^{T} (\\nabla^{2} f(\\tilde{x}) - \\nabla^{2} f(x^{*}))d}_{\\text{Cauchy-Schwarz inequality}} \\\\\n",
    "&\\geq f(x^{*}) + \\frac{1}{2} (\\lambda - \\lVert \\nabla^{2} f(\\tilde{x}) - \\nabla^{2} f(x^{*}) \\rVert_{2}) \\lVert d \\rVert_{2}^{2}\n",
    "\\end{aligned}\n",
    "$$\n",
    "\n",
    "Because the Hessian matrix is continuous,\n",
    "there is $f(x^{*} + d) > f(x^{*})$ for all $d \\neq 0$ with a sufficiently small norm.\n",
    "\n",
    "$$\n",
    "\\tag*{$\\Box$}\n",
    "$$"
   ]
  },
  {
   "cell_type": "markdown",
   "id": "7260aa80-795f-423c-9dad-0ccbd4a84ce8",
   "metadata": {},
   "source": [
    "**Remark:** The suffient condition is not necessary.\n",
    "See for example $f(x) = x_{1}^{2} + x_{2}^{4}$.\n",
    "$x = 0$ is a strict local minimum, however, the Hessian matrix is not positive definite."
   ]
  },
  {
   "cell_type": "code",
   "execution_count": null,
   "id": "6565e06e-2287-4cf5-b723-bc977ad93663",
   "metadata": {},
   "outputs": [],
   "source": []
  }
 ],
 "metadata": {
  "kernelspec": {
   "display_name": "Octave",
   "language": "octave",
   "name": "octave"
  },
  "language_info": {
   "file_extension": ".m",
   "help_links": [
    {
     "text": "GNU Octave",
     "url": "https://www.gnu.org/software/octave/support.html"
    },
    {
     "text": "Octave Kernel",
     "url": "https://github.com/Calysto/octave_kernel"
    },
    {
     "text": "MetaKernel Magics",
     "url": "https://metakernel.readthedocs.io/en/latest/source/README.html"
    }
   ],
   "mimetype": "text/x-octave",
   "name": "octave",
   "version": "6.3.0"
  }
 },
 "nbformat": 4,
 "nbformat_minor": 5
}
