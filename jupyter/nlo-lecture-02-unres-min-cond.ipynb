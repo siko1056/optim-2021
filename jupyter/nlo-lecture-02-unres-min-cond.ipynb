{
 "cells": [
  {
   "cell_type": "markdown",
   "id": "5fddf088-763a-4ac4-a2b0-9973b71e27a0",
   "metadata": {},
   "source": [
    "# Unconstrained minimization problems\n",
    "\n",
    "This section considers the minimization of a function $f \\colon \\mathbb{R}^{n} \\to \\mathbb{R}$\n",
    "without any constraint functions."
   ]
  },
  {
   "cell_type": "markdown",
   "id": "7a09c44f-940d-4539-b0d7-b3f6ebfd2cd4",
   "metadata": {
    "tags": []
   },
   "source": [
    "## Necessary conditions for a local minimum\n",
    "\n",
    "### 1st order optimality condition\n",
    "\n",
    "Zero slope at a local minimum $x^{*}$:\n",
    "\n",
    "$$\n",
    "\\nabla f(x^{*}) = 0\n",
    "$$\n",
    "\n",
    "> Let the open set $X \\subset \\mathbb{R}^{n}$ and let $f \\in C^{1}(\\mathbb{R}^{n},\\mathbb{R})$.\n",
    "> If the point $x^{*} \\in X$ is a local miminum of $f$ over $X$,\n",
    "> then $\\nabla f(x^{*}) = 0$.\n",
    "\n",
    "*Proof:*\n",
    "Let $d \\in \\mathbb{R}^{n} \\setminus \\{0\\}$.\n",
    "Because $X$ is an open set and $x^{*}$ is a local minimum\n",
    "$x^{*} + td \\in X$, \n",
    "$x^{*} - td \\in X$,\n",
    "$f(x^{*} + td) - f(x^{*}) \\geq 0$, and\n",
    "$f(x^{*} - td) - f(x^{*}) \\geq 0$\n",
    "hold for sufficiently small $t > 0$.\n",
    "Because $f \\in C^{1}(\\mathbb{R}^{n},\\mathbb{R})$ it follows\n",
    "\n",
    "$$\n",
    "0 \\leq \\lim_{t \\to +0}\n",
    "\\frac{f(x^{*} + td) - f(x^{*})}{t} = \\nabla f(x^{*})^{T}d\n",
    "$$\n",
    "\n",
    "and\n",
    "\n",
    "$$\n",
    "0 \\leq \\lim_{t \\to +0}\n",
    "\\frac{f(x^{*} - td) - f(x^{*})}{t} = -\\nabla f(x^{*})^{T}d\n",
    "$$\n",
    "\n",
    "and it follows $\\nabla f(x^{*}) = 0$.\n",
    "\n",
    "$$\n",
    "\\tag*{$\\Box$}\n",
    "$$"
   ]
  },
  {
   "cell_type": "markdown",
   "id": "c1bf98b0-394d-4a74-81ef-85f81ae0b48e",
   "metadata": {},
   "source": [
    "### 2st order optimality condition\n",
    "\n",
    "Non-negative curvature at a local minimum $x^{*}$:\n",
    "\n",
    "$$\n",
    "\\nabla^{2} f(x^{*}) \\succeq 0 \\quad\\text{is positive semi-definite}\n",
    "$$\n",
    "\n",
    "> Let the open set $X \\subset \\mathbb{R}^{n}$ and $f \\in C^{2}(\\mathbb{R}^{n},\\mathbb{R})$.\n",
    "> If the point $x^{*} \\in X$ is a local minimum of $f$ over $X$,\n",
    "> then the Hessian matrix $\\nabla^{2} f(x^{*})$ is positive semi-definite.\n",
    "\n",
    "*Proof:*\n",
    "Let $d \\in \\mathbb{R}^{n} \\setminus \\{0\\}$ and $|t|$ sufficiently small\n",
    "(such that $x^{*} + td \\in X$ for all $t$ with $|t| < t_{0}$).\n",
    "\n",
    "Using Taylor's theorem (differentiation with chain-rule)\n",
    "and regarding $\\nabla f(x^{*}) = 0$ gives\n",
    "\n",
    "$$\n",
    "f(x^{*} + td) = f(x^{*}) + \\frac{1}{2}t^{2}d^{T}\\nabla^{2} f(x^{*})d + o(t^{2}).\n",
    "$$\n",
    "\n",
    "If $\\nabla^{2} f(x^{*})$ was not positive semi-definite,\n",
    "there exists a $d \\in \\mathbb{R}^{n} \\setminus \\{0\\}$\n",
    "with $d^{T}\\nabla^{2} f(x^{*})d < 0$.\n",
    "This is a contradiction for the minimality of $x^{*}$.\n",
    "\n",
    "$$\n",
    "\\tag*{$\\Box$}\n",
    "$$"
   ]
  },
  {
   "cell_type": "markdown",
   "id": "d3d80195-13e4-4a6c-96b1-068907742654",
   "metadata": {},
   "source": [
    "**Remark:** There may exist points that satisfy the **necessary** 1st and 2nd order conditions\n",
    "but are not local minima.  For example:"
   ]
  },
  {
   "cell_type": "code",
   "execution_count": 1,
   "id": "27d35a0a-d6df-488b-8617-5d90b7ac7b86",
   "metadata": {
    "jupyter": {
     "source_hidden": true
    },
    "tags": [
     "hide_input"
    ]
   },
   "outputs": [
    {
     "data": {
      "image/png": "[encoded data removed]",
      "text/plain": [
       "<IPython.core.display.Image object>"
      ]
     },
     "metadata": {},
     "output_type": "display_data"
    }
   ],
   "source": [
    "x = linspace (-0.5, 0.5, 50);\n",
    "fstr = {'|x|^3', 'x^3', '-|x|^3'};\n",
    "f = {@(x) abs(x).^3, @(x) x.^3, @(x) -abs(x).^3};\n",
    "for i = 1:3\n",
    "  fun = f{i};\n",
    "  subplot (1, 3, i);\n",
    "  plot (x, fun(x));\n",
    "  hold on;\n",
    "  plot (0, 0, 'ro');\n",
    "  grid on;\n",
    "  xlim ([-0.5, 0.5]);\n",
    "  ylim ([-0.05, 0.05]);\n",
    "  xlabel ('x');\n",
    "  ylabel ('f(x)');\n",
    "  title (['f(x) = ', fstr{i}]);\n",
    "end"
   ]
  },
  {
   "cell_type": "markdown",
   "id": "b3abb411-db56-4569-ac5d-58046bedc406",
   "metadata": {},
   "source": [
    "## Sufficient condition for a strict local minimum\n",
    "\n",
    "Positive curvature at a local minimum $x^{*}$:\n",
    "\n",
    "$$\n",
    "\\nabla^{2} f(x^{*}) \\succ 0 \\quad\\text{is positive definite}\n",
    "$$\n",
    "\n",
    "> Let $f \\in C^{2}(\\mathbb{R}^{n},\\mathbb{R})$ and $x^{*} \\in X \\subset \\mathbb{R}^{n}$ with\n",
    "> $\\nabla f(x^{*}) = 0$ and $\\nabla^{2} f(x^{*}) \\succeq 0$ (positive definite),\n",
    "> then $x^{*}$ is a strict local minimum of $f$ over $X$.\n",
    "\n",
    "*Proof:*\n",
    "Application of the Rayleigh–Ritz method,\n",
    "for symmetric matrix $A \\in \\mathbb{R}^{n \\times n}$\n",
    "and $d \\in \\mathbb{R}^{n} \\setminus \\{ 0 \\}$ there is\n",
    "\n",
    "$$\n",
    "\\lambda_{\\min}(A) \\leq \\frac{d^{T}Ad}{d^{T}d} \\leq \\lambda_{\\max}(A),\n",
    "$$\n",
    "\n",
    "where the minimum or maximum is attained\n",
    "for the respective eigenvectors $d$ of the minimal and maximal eigenvalue.\n",
    "\n",
    "For a positive definite, symmetric matrix $A = \\nabla^{2} f(x^{*})$\n",
    "there is $\\lambda := \\lambda_{\\min}(A) > 0$:\n",
    "\n",
    "$$\n",
    "d^{T}\\nabla^{2} f(x^{*}) d \\geq \\lambda \\lVert d \\rVert_{2}^{2},\n",
    "\\qquad\\forall d \\in \\mathbb{R}^{n}.\n",
    "$$\n",
    "\n",
    "Applying Taylor's theorem to $f$ at $x^{*}$ (with remainder) gives\n",
    "\n",
    "$$\n",
    "f(x^{*} + d) = f(x^{*}) + \\nabla f(x^{*})^{T}d + \\frac{1}{2}d^{T} \\nabla^{2} f(\\tilde{x})d\n",
    "$$\n",
    "\n",
    "with $\\tilde{x} := x^{*} + \\theta d$, $0 < \\theta < 1$.\n",
    "\n",
    "Using $\\nabla f(x^{*}) = 0$ and an expansion:\n",
    "\n",
    "$$\n",
    "\\begin{aligned}\n",
    "f(x^{*} + d) &= f(x^{*})\n",
    "+ \\frac{1}{2}\\underbrace{d^{T} \\nabla^{2} f(x^{*})d}_{\\geq \\lambda \\lVert d \\rVert_{2}^{2}}\n",
    "+ \\frac{1}{2}\\underbrace{d^{T} (\\nabla^{2} f(\\tilde{x}) - \\nabla^{2} f(x^{*}))d}_{\\text{Cauchy-Schwarz inequality}} \\\\\n",
    "&\\geq f(x^{*}) + \\frac{1}{2} (\\lambda - \\lVert \\nabla^{2} f(\\tilde{x}) - \\nabla^{2} f(x^{*}) \\rVert_{2}) \\lVert d \\rVert_{2}^{2}\n",
    "\\end{aligned}\n",
    "$$\n",
    "\n",
    "Because the Hessian matrix is continuous,\n",
    "there is $f(x^{*} + d) > f(x^{*})$ for all $d \\neq 0$ with a sufficiently small norm.\n",
    "\n",
    "$$\n",
    "\\tag*{$\\Box$}\n",
    "$$"
   ]
  },
  {
   "cell_type": "markdown",
   "id": "7260aa80-795f-423c-9dad-0ccbd4a84ce8",
   "metadata": {},
   "source": [
    "**Remark:** The sufficient condition is not necessary.\n",
    "See for example $f(x) = x_{1}^{2} + x_{2}^{4}$.\n",
    "$x = 0$ is a strict local minimum, however, the Hessian matrix is not positive definite."
   ]
  }
 ],
 "metadata": {
  "kernelspec": {
   "display_name": "Octave",
   "language": "octave",
   "name": "octave"
  },
  "language_info": {
   "file_extension": ".m",
   "help_links": [
    {
     "text": "GNU Octave",
     "url": "https://www.gnu.org/software/octave/support.html"
    },
    {
     "text": "Octave Kernel",
     "url": "https://github.com/Calysto/octave_kernel"
    },
    {
     "text": "MetaKernel Magics",
     "url": "https://metakernel.readthedocs.io/en/latest/source/README.html"
    }
   ],
   "mimetype": "text/x-octave",
   "name": "octave",
   "version": "6.3.0"
  }
 },
 "nbformat": 4,
 "nbformat_minor": 5
}
