{
 "cells": [
  {
   "cell_type": "markdown",
   "id": "b32f45d9-e60f-4d77-9846-2a128d6a5943",
   "metadata": {},
   "source": [
    "(RM06)=\n",
    "# RM06\n",
    "\n",
    "## Linear classification\n",
    "\n",
    "See also {cite}`Boyd2004` (chapter 8.6)."
   ]
  },
  {
   "cell_type": "markdown",
   "id": "cb96d66c-1de9-4dbf-8a99-0d672fa99a18",
   "metadata": {},
   "source": [
    "### Creation of labeled measurements (\"training data\")\n",
    "\n",
    "Create $m$ random data pairs $(w_i, l_i)$ of weights and lengths."
   ]
  },
  {
   "cell_type": "code",
   "execution_count": 1,
   "id": "1937b4d5-e55e-4060-abc4-7b7386f227eb",
   "metadata": {},
   "outputs": [],
   "source": [
    "m = 300;\n",
    "w = rand(m,1);  % weight\n",
    "l = rand(m,1);  % length"
   ]
  },
  {
   "cell_type": "markdown",
   "id": "be234278-e336-47d2-aa9e-1ceb3222f054",
   "metadata": {},
   "source": [
    "Split the measurements into two sets,\n",
    "such that a data pair $(w_i, l_i)$ is considered as **\"good\"** for $1 \\leq i \\leq k \\leq m$\n",
    "and **\"bad\"** otherwise."
   ]
  },
  {
   "cell_type": "code",
   "execution_count": 2,
   "id": "b9fde748-a652-44e0-a7fa-915e1faff8d7",
   "metadata": {},
   "outputs": [],
   "source": [
    "k = m / 3;\n",
    "w = [w(1:k); w((k+1):m) + 1];\n",
    "l = [l(1:k); l((k+1):m) + 1];"
   ]
  },
  {
   "cell_type": "markdown",
   "id": "a3c39951-a897-422c-b07a-2f88c47e7432",
   "metadata": {},
   "source": [
    "Plot the resulting data to discriminate."
   ]
  },
  {
   "cell_type": "code",
   "execution_count": 3,
   "id": "45e9a175-cde9-475c-b1b1-e3b93b6170c3",
   "metadata": {
    "jupyter": {
     "source_hidden": true
    },
    "tags": [
     "hide_input"
    ]
   },
   "outputs": [
    {
     "data": {
      "image/png": "[encoded data removed]",
      "text/plain": [
       "<IPython.core.display.Image object>"
      ]
     },
     "metadata": {},
     "output_type": "display_data"
    }
   ],
   "source": [
    "axis equal\n",
    "scatter(w(1:k),   l(1:k),   'o');  % good\n",
    "hold on;\n",
    "scatter(w(k+1:m), l(k+1:m), 'x');  % bad\n",
    "xlabel('weight');\n",
    "ylabel('length');\n",
    "legend ({'good', 'bad'});"
   ]
  },
  {
   "cell_type": "markdown",
   "id": "ea1c1204-e7f3-4acf-9ea3-b2053c36c634",
   "metadata": {},
   "source": [
    "### Classification\n",
    "\n",
    "Looking at the figure above,\n",
    "it seems possible to find a seperating hyperplane.\n",
    "That is a linear function with unknown coefficients $x_0$, $x_1$, and $x_2$\n",
    "\n",
    "$$\n",
    "f_{\\text{linear}}(w_i,l_i)\n",
    "= x_0 + \\begin{pmatrix} x_1 \\\\ x_2 \\end{pmatrix}^{T} \\begin{pmatrix} w_i \\\\ l_i \\end{pmatrix}\n",
    "= x_0 + x_1 \\cdot w_i + x_2 \\cdot l_i\n",
    "$$\n",
    "\n",
    "to seperate\n",
    "- the **\"good\"** blue cicles: $f_{\\text{linear}}(w_i,l_i) \\leq -1$ for $1 \\leq i \\leq k \\leq m$ and\n",
    "- the **\"bad\"** red crosses: $f_{\\text{linear}}(w_i,l_i) \\geq 1$ for $k < i \\leq m$.\n",
    "\n",
    "**Note:** $w_i$ and $l_i$ are the variables of $f_{\\text{linear}}(w_i,l_i)$!"
   ]
  },
  {
   "cell_type": "markdown",
   "id": "8fbd12b9-aa92-424f-afcd-098697ea81f2",
   "metadata": {},
   "source": [
    "### Feasibility problem as Linear Program (LP)\n",
    "\n",
    "This classification problem can be formulated as LP:\n",
    "\n",
    "$$\n",
    "\\begin{array}{lrll}\n",
    "\\textrm{minimize}   & \\begin{pmatrix} 0 & 0 & 0 \\end{pmatrix} & x & \\\\\n",
    "\\textrm{subject to} &\n",
    "\\begin{pmatrix}\n",
    "1 & w_i & l_i\n",
    "\\end{pmatrix}\n",
    "& x \\leq -1, & i = 1, \\ldots, k, \\\\\n",
    "& -\\begin{pmatrix}\n",
    "1 & w_i & l_i\n",
    "\\end{pmatrix}\n",
    "& x \\leq -1, & i = k + 1, \\ldots, m,\n",
    "\\end{array}\n",
    "$$"
   ]
  },
  {
   "cell_type": "code",
   "execution_count": 4,
   "id": "971a9fec-9a63-4fee-b9e3-ff3f7c598f44",
   "metadata": {},
   "outputs": [
    {
     "name": "stdout",
     "output_type": "stream",
     "text": [
      "x =\n",
      "\n",
      "  -23.712\n",
      "   10.969\n",
      "   11.999\n",
      "\n",
      "exitflag = 0\n"
     ]
    }
   ],
   "source": [
    "c = [0 0 0];\n",
    "A = [ ones(k,  1),  w(1:k),    l(1:k); ...\n",
    "     -ones(m-k,1), -w(k+1:m), -l(k+1:m) ];\n",
    "b = -ones(m,1);\n",
    "Aeq = []; % No equality constraints\n",
    "beq = [];\n",
    "lb = -inf(3,1);  % x0 to x2 are free variables\n",
    "ub =  inf(3,1);\n",
    "CTYPE = repmat ('U', m, 1);  % Octave: A(i,:)*x <= b(i)\n",
    "x0 = [];  % default start value\n",
    "%[x,~,exitflag] = linprog(c,A,b,Aeq,beq,lb,ub,x0);  % Matlab: exitflag=1 success\n",
    "[x,~,exitflag] = glpk(c,A,b,lb,ub,CTYPE)            % Octave: exitflag=0 success"
   ]
  },
  {
   "cell_type": "markdown",
   "id": "632248c2-2d35-4c95-bf27-1864c2ec16e7",
   "metadata": {},
   "source": [
    "The computed solution $x$ are the sought coefficients for $f_{\\text{linear}}(w_i,l_i)$.\n",
    "Plotting the resulting function shows that it perfectly discriminates the measurements (test data)."
   ]
  },
  {
   "cell_type": "code",
   "execution_count": 5,
   "id": "2c9b394a-6c31-477d-8c56-2c640263f1db",
   "metadata": {
    "jupyter": {
     "source_hidden": true
    },
    "tags": [
     "hide_input"
    ]
   },
   "outputs": [
    {
     "data": {
      "image/png": "[encoded data removed]",
      "text/plain": [
       "<IPython.core.display.Image object>"
      ]
     },
     "metadata": {},
     "output_type": "display_data"
    }
   ],
   "source": [
    "axis equal\n",
    "scatter(w(1:k),   l(1:k),   'o');  % good\n",
    "hold on;\n",
    "scatter(w(k+1:m), l(k+1:m), 'x');  % bad\n",
    "\n",
    "f_quad = @(w,l) 1.*x(1) + w.*x(2) + l.*x(3);\n",
    "ezplot (f_quad, [0,2,0,2]);\n",
    "\n",
    "title ('');\n",
    "xlabel('weight');\n",
    "ylabel('length');\n",
    "legend ({'good', 'bad', 'f_{linear}'});"
   ]
  },
  {
   "cell_type": "markdown",
   "id": "277b66a0-8ca4-43c0-9fa6-42f7f9c3cbfd",
   "metadata": {},
   "source": [
    "After this \"training\" the linear discrimination function $f_{\\text{linear}}(w_i,l_i)$\n",
    "can be used to classify other data pairs as well."
   ]
  }
 ],
 "metadata": {
  "kernelspec": {
   "display_name": "Octave",
   "language": "octave",
   "name": "octave"
  },
  "language_info": {
   "file_extension": ".m",
   "help_links": [
    {
     "text": "GNU Octave",
     "url": "https://www.gnu.org/software/octave/support.html"
    },
    {
     "text": "Octave Kernel",
     "url": "https://github.com/Calysto/octave_kernel"
    },
    {
     "text": "MetaKernel Magics",
     "url": "https://metakernel.readthedocs.io/en/latest/source/README.html"
    }
   ],
   "mimetype": "text/x-octave",
   "name": "octave",
   "version": "6.4.0"
  }
 },
 "nbformat": 4,
 "nbformat_minor": 5
}
