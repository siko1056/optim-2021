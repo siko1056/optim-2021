{
 "cells": [
  {
   "cell_type": "markdown",
   "id": "b32f45d9-e60f-4d77-9846-2a128d6a5943",
   "metadata": {},
   "source": [
    "(LP)=\n",
    "# Linear Programming"
   ]
  },
  {
   "cell_type": "markdown",
   "id": "8fbd12b9-aa92-424f-afcd-098697ea81f2",
   "metadata": {},
   "source": [
    "Linear Programming (LP; same abbreviation for \"Linear Program\") is\n",
    "a linear optimization technique\n",
    "which became widely known\n",
    "for **resource planning tasks** after World War II.\n",
    "As the name suggests,\n",
    "the objective function and (in-)equality constraint functions are linear.\n",
    "\n",
    "> The term \"programming\" should be understood as \"planning\" or \"conception\",\n",
    "> rather than the action of writing a program in a particular programming language.\n",
    "\n",
    "In this work the following **LP standard form** is chosen:\n",
    "\n",
    "$$\n",
    "\\begin{array}{lll}\n",
    "\\textrm{minimize}   & c^{T} x \\\\\n",
    "\\textrm{subject to} & Ax = b \\\\\n",
    "& x \\geq 0,\n",
    "\\end{array}\n",
    "$$\n",
    "\n",
    "where $c,x \\in \\mathbb{R}^{n}$, $A \\in \\mathbb{R}^{m \\times n}$, and $b \\in \\mathbb{R}^{m}$."
   ]
  },
  {
   "cell_type": "markdown",
   "id": "619d05d1-f7b6-440a-ba75-121d4bb87986",
   "metadata": {},
   "source": [
    "## Meeting other LP standard forms\n",
    "\n",
    "To compute an optimal LP solution,\n",
    "there exist many functions or programs,\n",
    "which are referred to in short as **solver**.\n",
    "An LP solver usually specifies an own standard form.\n",
    "In the following a few **conversion techniques** are described."
   ]
  },
  {
   "cell_type": "markdown",
   "id": "92516a55-dcca-44f3-8bd3-637e07a01d18",
   "metadata": {},
   "source": [
    "- \"minimize $c^{T}x$\" is equivalent to \"maximize $-c^{T}x$\".\n",
    "  **Flip the sign** of the computed objective value.\n",
    "- **Slack variables** $s \\in \\mathbb{R}^{m}$\n",
    "  help expressing inequality constraints as equality constraints:\n",
    "  \n",
    "  $$\n",
    "  \\begin{array}{ll}\n",
    "  \\textrm{minimize}   & c^{T} x \\\\\n",
    "  \\textrm{subject to} & Ax {\\color{red}{\\;\\leq\\;}} b \\\\\n",
    "  & x \\geq 0\n",
    "  \\end{array}\n",
    "  \\quad\\iff\\quad\n",
    "  \\begin{array}{ll}\n",
    "  \\textrm{minimize}   & c^{T} x {\\color{red}{\\;+\\; [0]^{T} s}} \\\\\n",
    "  \\textrm{subject to} & Ax      {\\color{red}{\\;+\\; Is =}}\\; b \\\\\n",
    "  & x \\geq 0 \\\\\n",
    "  & {\\color{red}{s \\geq 0}}\n",
    "  \\end{array}\n",
    "  $$\n",
    "  \n",
    "  or\n",
    "  \n",
    "  $$\n",
    "  \\begin{array}{ll}\n",
    "  \\textrm{minimize}   & c^{T} x \\\\\n",
    "  \\textrm{subject to} & Ax {\\color{red}{\\;\\geq\\;}} b \\\\\n",
    "  & x \\geq 0\n",
    "  \\end{array}\n",
    "  \\quad\\iff\\quad\n",
    "  \\begin{array}{ll}\n",
    "  \\textrm{minimize}   & c^{T} x {\\color{red}{\\;+\\; [0]^{T} s}} \\\\\n",
    "  \\textrm{subject to} & Ax      {\\color{red}{\\;-\\; Is =}}\\; b \\\\\n",
    "  & x \\geq 0 \\\\\n",
    "  & {\\color{red}{s \\geq 0}}\n",
    "  \\end{array}\n",
    "  $$\n",
    "  \n",
    "  where $I$ is the $m \\times m$ unit matrix (main diagonal elements are $1$, $0$ otherwise)\n",
    "  and $[0] \\in \\mathbb{R}^{m}$ is a vector of zeros."
   ]
  },
  {
   "cell_type": "markdown",
   "id": "cf2b0e25-d7f2-4070-8ed4-9d4d0f7a2e33",
   "metadata": {},
   "source": [
    "- **Free variables** $y \\in \\mathbb{R}^{k}$ can be modeled\n",
    "  as difference of two non-negative LP variables $y := y^{+} - y^{-}$:\n",
    "\n",
    "  $$\n",
    "  \\begin{array}{ll}\n",
    "  \\textrm{minimize}   & c^{T} x {\\color{red}{\\;+\\;d^{T} y}} \\\\\n",
    "  \\textrm{subject to} & Ax {\\color{red}{\\;+\\;By}} = b \\\\\n",
    "  & x \\geq 0 \\\\\n",
    "  & {\\color{red}{y \\quad\\text{\"free\"}}}\n",
    "  \\end{array}\n",
    "  \\quad\\iff\\quad\n",
    "  \\begin{array}{ll}\n",
    "  \\textrm{minimize}   & c^{T} x {\\color{red}{\\;+\\;d^{T} y^{+} \\;-\\; d^{T} y^{-}}} \\\\\n",
    "  \\textrm{subject to} & Ax {\\color{red}{\\;+\\;By^{+} \\;-\\; By^{-}}} = b \\\\\n",
    "  & x \\geq 0 \\\\\n",
    "  & {\\color{red}{y^{+} \\geq 0}} \\\\\n",
    "  & {\\color{red}{y^{-} \\geq 0}}\n",
    "  \\end{array}\n",
    "  $$\n",
    "  \n",
    "  However,\n",
    "  due to the introduced redundancy this approach might fail in practical applications\n",
    "  and other techniques are known, see {cite}`Luenberger2016` (part I)."
   ]
  },
  {
   "cell_type": "markdown",
   "id": "ccce450d-7854-48c2-a8a3-f64541383218",
   "metadata": {},
   "source": [
    "- Expressing **box constraints** $l,x,u \\in \\mathbb{R}^{n}$.\n",
    "\n",
    "  $$\n",
    "  \\begin{array}{ll}\n",
    "  \\textrm{minimize}   & c^{T} x \\\\\n",
    "  \\textrm{subject to} & Ax = b \\\\\n",
    "  & {\\color{red}{l \\;\\leq\\; x \\;\\leq\\; u}}\n",
    "  \\end{array}\n",
    "  \\quad\\iff\\quad\n",
    "  \\begin{array}{ll}\n",
    "  \\textrm{minimize}   & c^{T} x \\\\\n",
    "  \\textrm{subject to} & Ax = b \\\\\n",
    "  & {\\color{red}{-Ix\\;\\leq\\;-l}} \\\\\n",
    "  & {\\color{red}{Ix\\;\\leq\\;u}} \\\\\n",
    "  & {\\color{red}{x \\quad\\text{\"free\"}}}\n",
    "  \\end{array}\n",
    "  $$\n",
    "  \n",
    "  where $I$ is the $n \\times n$ unit matrix (main diagonal elements are $1$, $0$ otherwise).\n",
    "  See also the note about \"free variables\" above."
   ]
  },
  {
   "cell_type": "markdown",
   "id": "16e45d1b-42ce-4894-a44c-fd64f9f17bf3",
   "metadata": {},
   "source": [
    "- Expressing equality constraints with inequality constraints.\n",
    "\n",
    "  $$\n",
    "  \\begin{array}{ll}\n",
    "  \\textrm{minimize}   & c^{T} x \\\\\n",
    "  \\textrm{subject to} & Ax {\\color{red}{\\;=\\;}} b \\\\\n",
    "  & x \\geq 0\n",
    "  \\end{array}\n",
    "  \\quad\\iff\\quad\n",
    "  \\begin{array}{ll}\n",
    "  \\textrm{minimize}   & c^{T} x \\\\\n",
    "  \\textrm{subject to} & Ax {\\color{red}{\\;\\leq\\;}} b\\; {\\color{red}{(\\;+\\;\\varepsilon)}} \\\\\n",
    "  & Ax {\\color{red}{\\;\\geq\\;}} b\\; {\\color{red}{(\\;-\\;\\varepsilon)}} \\\\\n",
    "  & x \\geq 0\n",
    "  \\end{array}\n",
    "  $$\n",
    "  \n",
    "  The resulting problem is usually ill-posed\n",
    "  and a small tolerance $\\varepsilon > 0$ can be added to each element of $b$ for numerical stability."
   ]
  },
  {
   "cell_type": "markdown",
   "id": "c3ac724d-269d-4e65-8957-93d3255516b1",
   "metadata": {},
   "source": [
    "For more information on LP and equivalent formulations,\n",
    "see {cite}`Luenberger2016` (part I) and {cite}`Boyd2004` (chapter 4)."
   ]
  }
 ],
 "metadata": {
  "kernelspec": {
   "display_name": "Octave",
   "language": "octave",
   "name": "octave"
  },
  "language_info": {
   "file_extension": ".m",
   "help_links": [
    {
     "text": "GNU Octave",
     "url": "https://www.gnu.org/software/octave/support.html"
    },
    {
     "text": "Octave Kernel",
     "url": "https://github.com/Calysto/octave_kernel"
    },
    {
     "text": "MetaKernel Magics",
     "url": "https://metakernel.readthedocs.io/en/latest/source/README.html"
    }
   ],
   "mimetype": "text/x-octave",
   "name": "octave",
   "version": "6.4.0"
  }
 },
 "nbformat": 4,
 "nbformat_minor": 5
}
