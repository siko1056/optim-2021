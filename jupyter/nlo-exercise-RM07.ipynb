{
 "cells": [
  {
   "cell_type": "markdown",
   "id": "b32f45d9-e60f-4d77-9846-2a128d6a5943",
   "metadata": {},
   "source": [
    "(RM07)=\n",
    "# RM07\n",
    "\n",
    "## Non-linear classification\n",
    "\n",
    "See also [exercise RM06](RM06) {cite}`Boyd2004` (chapter 8.6)."
   ]
  },
  {
   "cell_type": "markdown",
   "id": "cb96d66c-1de9-4dbf-8a99-0d672fa99a18",
   "metadata": {},
   "source": [
    "### Creation of labeled measurements (\"training data\")\n",
    "\n",
    "Create $m$ random data pairs $(w_i, l_i)$ of weights and lengths."
   ]
  },
  {
   "cell_type": "code",
   "execution_count": 1,
   "id": "1937b4d5-e55e-4060-abc4-7b7386f227eb",
   "metadata": {},
   "outputs": [],
   "source": [
    "m = 300;\n",
    "w = rand(m,1);  % weight\n",
    "l = rand(m,1);  % length"
   ]
  },
  {
   "cell_type": "markdown",
   "id": "be234278-e336-47d2-aa9e-1ceb3222f054",
   "metadata": {},
   "source": [
    "Split the measurements into two sets according to a non-linear function\n",
    "(in this case an unit circle),\n",
    "such that a data pair $(w_i, l_i)$ is considered as **\"good\"** for $1 \\leq i \\leq k \\leq m$\n",
    "and **\"bad\"** otherwise."
   ]
  },
  {
   "cell_type": "code",
   "execution_count": 2,
   "id": "b9fde748-a652-44e0-a7fa-915e1faff8d7",
   "metadata": {},
   "outputs": [],
   "source": [
    "idx = sqrt (w .^ 2 + l.^2) < 1;\n",
    "k = sum(idx);\n",
    "w = [w(idx); w(~idx)];\n",
    "l = [l(idx); l(~idx)];"
   ]
  },
  {
   "cell_type": "markdown",
   "id": "a3c39951-a897-422c-b07a-2f88c47e7432",
   "metadata": {},
   "source": [
    "Plot the resulting data to discriminate."
   ]
  },
  {
   "cell_type": "code",
   "execution_count": 3,
   "id": "45e9a175-cde9-475c-b1b1-e3b93b6170c3",
   "metadata": {
    "jupyter": {
     "source_hidden": true
    },
    "tags": [
     "hide_input"
    ]
   },
   "outputs": [
    {
     "data": {
      "image/png": "[encoded data removed]",
      "text/plain": [
       "<IPython.core.display.Image object>"
      ]
     },
     "metadata": {},
     "output_type": "display_data"
    }
   ],
   "source": [
    "axis equal\n",
    "scatter(w(1:k),   l(1:k),   'o');  % good\n",
    "hold on;\n",
    "scatter(w(k+1:m), l(k+1:m), 'x');  % bad\n",
    "xlabel('weight');\n",
    "ylabel('length');\n",
    "legend ({'good', 'bad'});"
   ]
  },
  {
   "cell_type": "markdown",
   "id": "ea1c1204-e7f3-4acf-9ea3-b2053c36c634",
   "metadata": {},
   "source": [
    "### Classification\n",
    "\n",
    "It is obvious,\n",
    "that linear discrimination fails.\n",
    "There exists no linear function\n",
    "\n",
    "$$\n",
    "f_{\\text{linear}}(w_i,l_i)\n",
    "= x_0 + \\begin{pmatrix} x_1 \\\\ x_2 \\end{pmatrix}^{T} \\begin{pmatrix} w_i \\\\ l_i \\end{pmatrix}\n",
    "= x_0 + x_1 \\cdot w_i + x_2 \\cdot l_i\n",
    "$$\n",
    "\n",
    "to seperate\n",
    "- the **\"good\"** blue cicles: $f_{\\text{linear}}(w_i,l_i) \\leq -1$ for $1 \\leq i \\leq k \\leq m$ and\n",
    "- the **\"bad\"** red crosses: $f_{\\text{linear}}(w_i,l_i) \\geq 1$ for $k < i \\leq m$."
   ]
  },
  {
   "cell_type": "markdown",
   "id": "4a85d44e-7859-4f28-bf72-14c31fe76f6f",
   "metadata": {},
   "source": [
    "However,\n",
    "using a quadratic discrimination function will work in this example:\n",
    "\n",
    "$$\n",
    "\\begin{aligned}\n",
    "f_{\\text{quad}}(w_i,l_i)\n",
    "&= x_0 + \\begin{pmatrix} x_1 \\\\ x_2 \\end{pmatrix}^{T} \\begin{pmatrix} w_i \\\\ l_i \\end{pmatrix}\n",
    " + \\begin{pmatrix} w_i \\\\ l_i \\end{pmatrix}^{T} \\begin{pmatrix} x_4 & x_3 \\\\ x_3 & x_5 \\end{pmatrix}\n",
    "   \\begin{pmatrix} w_i \\\\ l_i \\end{pmatrix} \\\\\n",
    "&= x_0 + x_1 \\cdot w_i + x_2 \\cdot l_i + 2 x_3 \\cdot w_i \\cdot l_i\n",
    " + x_4 \\cdot w_i^2 + x_5 \\cdot l_i^2\n",
    "\\end{aligned}\n",
    "$$\n",
    "\n",
    "Roughly speaking,\n",
    "the quadratic discrimination function maps the data into higher dimensions **(expanded measurement vector)**\n",
    "and projects it to a scalar value.\n",
    "The optimization problem becomes finding a separating hyperplane in the expanded measurement vector,\n",
    "which is a linear classifier with the parameters $x_0$ to $x_5$.\n",
    "This technique has been used in extending **neural network models for pattern recognition**.\n",
    "\n",
    "To illustrate the approach,\n",
    "consider the squared sum of the test data's weights and lengths:\n",
    "\n",
    "$$\n",
    "f_{wl}(i) = w_i^2 + l_i^2,\n",
    "$$\n",
    "\n",
    "with $1 \\leq i \\leq m$."
   ]
  },
  {
   "cell_type": "code",
   "execution_count": 4,
   "id": "2e967f20-a752-4470-a9e9-45e87a58853b",
   "metadata": {
    "jupyter": {
     "source_hidden": true
    },
    "tags": [
     "hide_input"
    ]
   },
   "outputs": [
    {
     "data": {
      "image/png": "[encoded data removed]",
      "text/plain": [
       "<IPython.core.display.Image object>"
      ]
     },
     "metadata": {},
     "output_type": "display_data"
    }
   ],
   "source": [
    "axis equal\n",
    "plot (1:k,   w(1:k) .^ 2   + l(1:k) .^ 2,   'bo');  % good\n",
    "hold on;\n",
    "plot (k+1:m, w(k+1:m) .^ 2 + l(k+1:m) .^ 2, 'rx');  % bad\n",
    "plot ([k,k],[0,2], 'k', 'LineWidth', 1);\n",
    "plot ([0,m],[1,1], 'm', 'LineWidth', 2);\n",
    "text (k + 5, 0.5, 'k', 'FontSize', 20);\n",
    "xlabel('i')\n",
    "ylabel('f_{wl}(i)')\n",
    "legend ({'good', 'bad'})"
   ]
  },
  {
   "cell_type": "markdown",
   "id": "a065e10f-4183-4693-8907-0e76cdcf5184",
   "metadata": {},
   "source": [
    "Regarding the construction of the data set above,\n",
    "it is no surprise that $f_{wl}(i) = w_i^2 + l_i^2 = 1$ is a separating hyperplane."
   ]
  },
  {
   "cell_type": "markdown",
   "id": "8fbd12b9-aa92-424f-afcd-098697ea81f2",
   "metadata": {},
   "source": [
    "### Feasibility problem as Linear Program (LP)\n",
    "\n",
    "For now let's pretend,\n",
    "that the structure of the measurements (test data) is not known,\n",
    "and a general quadratic classifier is sought.\n",
    "\n",
    "Like in [exercise RM05](RM05) this optimization problem\n",
    "can be formulated as LP on the expanded measurement vector:\n",
    "\n",
    "$$\n",
    "\\begin{array}{lrll}\n",
    "\\textrm{minimize}   & \\begin{pmatrix} 0 & 0 & 0 & 0 & 0 & 0 \\end{pmatrix} & x & \\\\\n",
    "\\textrm{subject to} &\n",
    "\\begin{pmatrix}\n",
    "1 & w_i & l_i & 2 w_i l_i & w_i^2 & l_i^2\n",
    "\\end{pmatrix}\n",
    "& x \\leq -1, & i = 1, \\ldots, k, \\\\\n",
    "& -\\begin{pmatrix}\n",
    "1 & w_i & l_i & 2 w_i l_i & w_i^2 & l_i^2\n",
    "\\end{pmatrix}\n",
    "& x \\leq -1, & i = k + 1, \\ldots, m,\n",
    "\\end{array}\n",
    "$$"
   ]
  },
  {
   "cell_type": "code",
   "execution_count": 5,
   "id": "971a9fec-9a63-4fee-b9e3-ff3f7c598f44",
   "metadata": {},
   "outputs": [
    {
     "name": "stdout",
     "output_type": "stream",
     "text": [
      "x =\n",
      "\n",
      "     6.6295\n",
      "  -113.1690\n",
      "  -171.7719\n",
      "    57.0760\n",
      "   115.8150\n",
      "   162.4596\n",
      "\n",
      "exitflag = 0\n"
     ]
    }
   ],
   "source": [
    "c = [0 0 0 0 0 0];\n",
    "A = [ ones(k,  1),  w(1:k),    l(1:k),    2.*w(1:k)  .*l(1:k),    w(1:k)  .^2,  l(1:k)  .^2; ...\n",
    "     -ones(m-k,1), -w(k+1:m), -l(k+1:m), -2.*w(k+1:m).*l(k+1:m), -w(k+1:m).^2, -l(k+1:m).^2 ];\n",
    "b = -ones(m,1);\n",
    "Aeq = []; % No equality constraints\n",
    "beq = [];\n",
    "lb = -inf(6,1);  % x0 to x5 are free variables\n",
    "ub =  inf(6,1);\n",
    "CTYPE = repmat ('U', m, 1);  % Octave: A(i,:)*x <= b(i)\n",
    "x0 = [];  % default start value\n",
    "%[x,~,exitflag] = linprog(c,A,b,Aeq,beq,lb,ub,x0);  % Matlab: exitflag=1 success\n",
    "[x,~,exitflag] = glpk(c,A,b,lb,ub,CTYPE)            % Octave: exitflag=0 success"
   ]
  },
  {
   "cell_type": "markdown",
   "id": "632248c2-2d35-4c95-bf27-1864c2ec16e7",
   "metadata": {},
   "source": [
    "The computed solution differs from the unit circle,\n",
    "but nevertheless perfectly discriminates the test data\n",
    "and a quadratic classifier is found\n",
    "without prior knowledge of the test data structure."
   ]
  },
  {
   "cell_type": "code",
   "execution_count": 6,
   "id": "2c9b394a-6c31-477d-8c56-2c640263f1db",
   "metadata": {
    "jupyter": {
     "source_hidden": true
    },
    "tags": [
     "hide_input"
    ]
   },
   "outputs": [
    {
     "data": {
      "image/png": "[encoded data removed]",
      "text/plain": [
       "<IPython.core.display.Image object>"
      ]
     },
     "metadata": {},
     "output_type": "display_data"
    }
   ],
   "source": [
    "axis equal\n",
    "scatter(w(1:k),   l(1:k),   'o');  % good\n",
    "hold on;\n",
    "scatter(w(k+1:m), l(k+1:m), 'x');  % bad\n",
    "\n",
    "f_quad = @(w,l) 1.*x(1) + w.*x(2) + l.*x(3) + 2.*w.*l.*x(4) + w.^2.*x(5) + l.^2.*x(6);\n",
    "ezplot (f_quad, [0,1,0,1]);\n",
    "\n",
    "title ('');\n",
    "xlabel('weight');\n",
    "ylabel('length');\n",
    "legend ({'good', 'bad', 'f_{quad}'});"
   ]
  },
  {
   "cell_type": "markdown",
   "id": "6578e862-f14f-4d31-a113-052bc2828456",
   "metadata": {},
   "source": [
    "The quadratic discrimination function $f_{quad}(w,l)$ maps all data into higher dimensions\n",
    "and projects it to a scalar value to distinguish \"good\" and \"bad\" data pairs."
   ]
  },
  {
   "cell_type": "code",
   "execution_count": 7,
   "id": "84af6b6c-f9d6-4ff0-9769-3bf87ee8c857",
   "metadata": {
    "jupyter": {
     "source_hidden": true
    },
    "tags": [
     "hide_input"
    ]
   },
   "outputs": [
    {
     "data": {
      "image/png": "[encoded data removed]",
      "text/plain": [
       "<IPython.core.display.Image object>"
      ]
     },
     "metadata": {},
     "output_type": "display_data"
    }
   ],
   "source": [
    "subplot (1, 2, 1)\n",
    "plot (zeros(k,1),   f_quad(w(1:k),   l(1:k)),   'bo');  % good\n",
    "hold on;\n",
    "plot (zeros(m-k,1), f_quad(w(k+1:m), l(k+1:m)), 'rx');  % bad\n",
    "xlabel('i')\n",
    "ylabel('f_{quad}')\n",
    "legend ({'good', 'bad'})\n",
    "ylim ([-100 100]);\n",
    "\n",
    "subplot (1, 2, 2)\n",
    "plot (zeros(k,1),   f_quad(w(1:k),   l(1:k)),   'bo');  % good\n",
    "hold on;\n",
    "plot (zeros(m-k,1), f_quad(w(k+1:m), l(k+1:m)), 'rx');  % bad\n",
    "plot ([-0.5, 0.5],  [1, 1], 'k');\n",
    "plot ([-0.5, 0.5], -[1, 1], 'k');\n",
    "xlabel('i')\n",
    "ylabel('f_{quad}')\n",
    "legend ({'good', 'bad'})\n",
    "ylim ([-10 10]);"
   ]
  },
  {
   "cell_type": "markdown",
   "id": "277b66a0-8ca4-43c0-9fa6-42f7f9c3cbfd",
   "metadata": {},
   "source": [
    "After this \"training\" the discrimination function can be used to classify other data pairs as well."
   ]
  }
 ],
 "metadata": {
  "kernelspec": {
   "display_name": "Octave",
   "language": "octave",
   "name": "octave"
  },
  "language_info": {
   "file_extension": ".m",
   "help_links": [
    {
     "text": "GNU Octave",
     "url": "https://www.gnu.org/software/octave/support.html"
    },
    {
     "text": "Octave Kernel",
     "url": "https://github.com/Calysto/octave_kernel"
    },
    {
     "text": "MetaKernel Magics",
     "url": "https://metakernel.readthedocs.io/en/latest/source/README.html"
    }
   ],
   "mimetype": "text/x-octave",
   "name": "octave",
   "version": "6.4.0"
  }
 },
 "nbformat": 4,
 "nbformat_minor": 5
}
