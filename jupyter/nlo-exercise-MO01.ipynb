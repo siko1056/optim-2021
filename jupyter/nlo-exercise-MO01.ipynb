{
 "cells": [
  {
   "cell_type": "markdown",
   "id": "6cbe9370-fd00-430e-830f-c36c8ab5f982",
   "metadata": {},
   "source": [
    "# MO01 - The illumination problem\n",
    "\n",
    "Source: https://see.stanford.edu/Course/EE364A\n",
    "([hw3extra.pdf](https://see.stanford.edu/materials/lsocoee364a/hw3extra.pdf) task 3)."
   ]
  },
  {
   "cell_type": "markdown",
   "id": "3557656d-857a-4d06-967e-467bf5d4b348",
   "metadata": {},
   "source": [
    "A [physical law from photometry](https://en.wikipedia.org/wiki/Photometry_(optics)) states\n",
    "\n",
    "$$\n",
    "I = \\frac{p}{r^{2}}\\cos(\\Theta),\n",
    "$$\n",
    "\n",
    "the **illuminance** on a screen\n",
    "$I$ (SI unit: lux $[lx = \\frac{lm}{m^{2}}]$)\n",
    "depends on:\n",
    "1. the **luminous intensity $p$** (SI unit: candela $[cd = \\frac{lm}{sr}]$)\n",
    "   of the lamps,\n",
    "2. the distance to the respective screen $r$ (SI unit: meter $[m]$),\n",
    "3. the angle $\\Theta$ to between the lamp and screen.\n",
    "\n",
    "![Lamp patch illustration](res/MO01_lamp.png)"
   ]
  },
  {
   "cell_type": "markdown",
   "id": "71fd0b8e-b6fd-4b44-83b1-0d3901e897e7",
   "metadata": {},
   "source": [
    "In case of the given problem data,\n",
    "there are $m = 10$ lamps $L_{j}$, $j = 1, \\ldots, m$,\n",
    "with assigned **luminous intensities** $p_{j}$\n",
    "and $n = 20$ screens with respective **illumination values**\n",
    "$I_{k}$, $k = 1, \\ldots, n$.\n",
    "\n",
    "In the following the SI units are neglected.\n",
    "The following linear dependencies between $I_{k}$ and $p_{j}$ hold:\n",
    "\n",
    "$$\n",
    "I_{k} = \\underbrace{\\dfrac{1}{r_{kj}^{2}} \\max(\\cos(\\Theta_{kj}), 0)}_{a_{kj}} \\; p_{j}\n",
    "$$\n",
    "\n",
    "with $r_{kj} = \\lVert dVI \\rVert$ and\n",
    "\n",
    "$$\n",
    "\\cos(\\Theta_{kj}) = \\dfrac{(dVI)^{T} (dVperp)}{\\lVert dVI\\rVert\\cdot\\lVert dVperp\\rVert}\n",
    "$$"
   ]
  },
  {
   "cell_type": "markdown",
   "id": "806963db-b6c1-4632-b0e6-88e99ca23e37",
   "metadata": {},
   "source": [
    "To regard all lamps $p_{j}$,\n",
    "the **luminous intensities** have to be summed up:\n",
    "\n",
    "$$\n",
    "I_{k} = \\sum_{j = 1}^{m} a_{kj} p_{j}.\n",
    "$$"
   ]
  },
  {
   "cell_type": "markdown",
   "id": "3f030a5d-ef28-45e7-b96a-eaf2d937ac60",
   "metadata": {},
   "source": [
    "Regarding all $n = 20$ screens,\n",
    "the following overdetermined linear system of equation\n",
    "$I = A \\cdot p$ follows:\n",
    "\n",
    "$$\n",
    "\\begin{pmatrix} I_{1} \\\\ \\\\ \\\\ \\vdots \\\\ \\\\ \\\\ I_{n} \\end{pmatrix}\n",
    "= \\begin{pmatrix} a_{1,1} & \\cdots & a_{1,m} \\\\  \\\\  \\\\ \\vdots & \\ddots & \\vdots \\\\  \\\\ \\\\  a_{n,1} & \\cdots & a_{n,m} \\end{pmatrix} \\begin{pmatrix} p_{1} \\\\ \\vdots \\\\ p_{m} \\end{pmatrix}.\n",
    "$$"
   ]
  },
  {
   "cell_type": "markdown",
   "id": "59f6a14d-b43c-47c1-bae3-0b84376331cf",
   "metadata": {},
   "source": [
    "As ultimate goal,\n",
    "all screens illuminations $I_{k}$\n",
    "should be as close as possible to the **desired illumination** $I_{des}$."
   ]
  },
  {
   "cell_type": "markdown",
   "id": "9e9b68f3-19f3-4072-bd66-f79e0790d5a8",
   "metadata": {},
   "source": [
    "Finally,\n",
    "the following constrained non-linear optimization problem can be formulated:\n",
    "\n",
    "$$\n",
    "\\begin{array}{ll}\n",
    "\\textrm{minimize}   & \\displaystyle\\max_{k = 1, \\ldots, n} |\\log{(I_{k})} - \\log{(I_{des})}|    \\\\\n",
    "\\textrm{subject to} & 0 \\leq p_{j} \\leq p_{max} \\quad j = 1, \\ldots, m.\n",
    "\\end{array}\n",
    "$$"
   ]
  },
  {
   "cell_type": "markdown",
   "id": "69800808-4043-424e-a32f-04bf3da994f6",
   "metadata": {},
   "source": [
    "The objective function formulates a quality measure $f_{optimal}(p)$\n",
    "depending on the **luminous intensity** of the lamps $p_{j}$,\n",
    "that minimizes the maximal logarithmic distance\n",
    "between the **actual** screen **illumination** $I_{k} = A_{(k,:)}p$\n",
    "and the **desired** screen **illumination** $I_{des}$."
   ]
  },
  {
   "cell_type": "markdown",
   "id": "32cecba4-7a5a-4fa2-bc7a-a2e4f55db21b",
   "metadata": {},
   "source": [
    "$$\n",
    "\\begin{aligned}\n",
    "f_{optimal}(p, I_{des})\n",
    ":=& \\max_{k = 1, \\ldots, n} \\lvert \\log{(I_{k})}      - \\log{(I_{des})} \\rvert \\\\\n",
    " =& \\max_{k = 1, \\ldots, n} \\lvert \\log{(A_{(k,:)}p)} - \\log{(I_{des})} \\rvert\n",
    "\\end{aligned}\n",
    "$$"
   ]
  },
  {
   "cell_type": "markdown",
   "id": "ce55acce-90f6-4bf1-a96a-474ecb2cbcbc",
   "metadata": {},
   "source": [
    "Last but not least,\n",
    "the constraints might seem trivial,\n",
    "but are for a practical application of importance:\n",
    "the **luminous intensity** of a lamp $p_{j}$\n",
    "has the physical constraints that it cannot \"shine negative\"\n",
    "and it cannot \"shine brighter than possible\",\n",
    "$0 \\leq p_{j} \\leq p_{\\max}$."
   ]
  },
  {
   "cell_type": "code",
   "execution_count": 12,
   "id": "78971fec-aa07-431c-ad2b-d69a2d05c97c",
   "metadata": {},
   "outputs": [
    {
     "data": {
      "image/png": "[encoded data removed]",
      "text/plain": [
       "<IPython.core.display.Image object>"
      ]
     },
     "metadata": {},
     "output_type": "display_data"
    }
   ],
   "source": [
    "L = [linspace(0,1,10);\n",
    "     1.9, 1.8, 1.0, 1.1, 1.9, 1.8, 1.9, 1.7, 1.5, 1.5];\n",
    "\n",
    "m = size (L, 2); % number of lamps\n",
    "\n",
    "% begin and endpoints of patches\n",
    "V = [linspace(0,1,21);\n",
    "     .4*[0.0, 0.1, 0.15, 0.2, 0.1, 0.2, 0.3, 0.0, 0.0, 0.0 , ...\n",
    "         0.1, 0.2, 0.2, 0.0, 0.1, 0.05, 0.1, 0.1, 0.0, 0.2, 0.1]];\n",
    "n = size (V, 2) - 1; % number of patches\n",
    "\n",
    "plot (L(1,:), L(2,:), 'ko', 'MarkerSize', 10, ...\n",
    "      'MarkerFaceColor', [0.9290 0.6940 0.1250]);\n",
    "hold on;\n",
    "plot (V(1,:), V(2,:), 'b-', 'LineWidth', 2);\n",
    "\n",
    "% construct A\n",
    "warning('off', 'Octave:colon-nonscalar-argument');\n",
    "dV = V(:,2:n+1) - V(:,1:n); % tangent to patches\n",
    "VI = V(:,1:n) +.5*dV;       % midpoint of patches\n",
    "A = zeros (n, m);\n",
    "for i = 1:n\n",
    "  for j = 1:m\n",
    "    dVI = L(:,j) - VI(:,i);\n",
    "    dVperp = null (dV(:,i)'); % upward pointing normal\n",
    "    if (dVperp(2) < 0)\n",
    "      dVperp = -dVperp;\n",
    "    end\n",
    "    A(i,j) = max (0, dVI'*dVperp/...\n",
    "      (norm(dVI)*norm(dVperp)))./norm(dVI)^2;\n",
    "  end\n",
    "end"
   ]
  },
  {
   "cell_type": "markdown",
   "id": "419d487e-ec70-4924-a6e6-a54612e345ff",
   "metadata": {},
   "source": [
    "Read task 3 from\n",
    "[hw3extra.pdf](https://see.stanford.edu/materials/lsocoee364a/hw3extra.pdf)\n",
    "and try to find an optimal solution with\n",
    "\n",
    "1. Uniform $p_{j}$\n",
    "2. Least-sqares\n",
    "3. Linear Programming\n",
    "4. Convex Programming (https://yalmip.github.io/ or \n",
    "   http://cvxr.com/cvx/).\n",
    "\n",
    "[Solution hints](https://see.stanford.edu/materials/lsocoee364a/hw3sol.pdf)."
   ]
  }
 ],
 "metadata": {
  "kernelspec": {
   "display_name": "Octave",
   "language": "octave",
   "name": "octave"
  },
  "language_info": {
   "file_extension": ".m",
   "help_links": [
    {
     "text": "GNU Octave",
     "url": "https://www.gnu.org/software/octave/support.html"
    },
    {
     "text": "Octave Kernel",
     "url": "https://github.com/Calysto/octave_kernel"
    },
    {
     "text": "MetaKernel Magics",
     "url": "https://metakernel.readthedocs.io/en/latest/source/README.html"
    }
   ],
   "mimetype": "text/x-octave",
   "name": "octave",
   "version": "6.4.0"
  }
 },
 "nbformat": 4,
 "nbformat_minor": 5
}
