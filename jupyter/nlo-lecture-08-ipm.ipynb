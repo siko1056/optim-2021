{
 "cells": [
  {
   "cell_type": "markdown",
   "id": "c20f2bd5-bac1-4ebf-8bab-86a25f6671d5",
   "metadata": {},
   "source": [
    "# Interior-Point Methods (IPM)\n",
    "\n",
    "Penalty-, Barrier-, and Interior-Point Methods are a group of methods\n",
    "that solve constrained optimization problems\n",
    "iteratively by solving a sequence of unconstrained optimization problems\n",
    "and penalizing the violation of constraints:\n",
    "\n",
    "- **Penalty Methods:** impose a penalty for violating a constraint\n",
    "- **Barrier methods, IPM:** impose a penalty for reaching the boundary\n",
    "  of an inequality constraint\n",
    "\n",
    "**Idea:** Suppose that the constrained optimization problem has the form\n",
    "\n",
    "$$\n",
    "\\begin{array}{ll}\n",
    "\\textrm{minimize}   & f(x)    \\\\\n",
    "\\textrm{subject to} & x \\in X.\n",
    "\\end{array}\n",
    "$$\n",
    "\n",
    "Define $\\mathfrak{b}(x) = 0$ for $x \\in X$\n",
    "and $\\mathfrak{b}(x) = +\\infty$ otherwise **(penalty)**.\n",
    "Then the constrained problem is equivalent to the unconstrained problem\n",
    "\n",
    "$$\n",
    "\\textrm{minimize}\\quad f(x) {\\color{red}{\\;+\\;\\mathfrak{b}(x)}}\n",
    "$$\n",
    "\n",
    "for $x \\in \\mathbb{R}^{n}$."
   ]
  },
  {
   "cell_type": "markdown",
   "id": "b074bd90-2c35-4f9e-a8b7-cb8d8da6efa0",
   "metadata": {},
   "source": [
    "Consider the non-linear inequality-constrained optimization problem\n",
    "\n",
    "$$\n",
    "\\begin{array}{lll}\n",
    "\\textrm{minimize}   &     f(x)         & \\\\\n",
    "\\textrm{subject to} & g_{j}(x) \\leq 0, & j = 1, \\ldots, m.\n",
    "\\end{array}\n",
    "$$"
   ]
  },
  {
   "cell_type": "markdown",
   "id": "9d2f6e59-fcf8-4052-a0c9-dee5d9bdf12d",
   "metadata": {},
   "source": [
    "IPMs maintain feasibility\n",
    "by creating a barrier function $\\beta(x,\\mu)$\n",
    "keeping the iterates $x(\\mu^{k})$\n",
    "for decreasing $\\mu = \\mu^{k} \\to 0$\n",
    "away from the boundary of the feasible region:\n",
    "\n",
    "$$\n",
    "\\begin{array}{lll}\n",
    "\\textrm{minimize}   & \\beta(x,\\mu)     & \\\\\n",
    "\\textrm{subject to} & g_{j}(x) \\leq 0, & j = 1, \\ldots, m.\n",
    "\\end{array}\n",
    "$$"
   ]
  },
  {
   "cell_type": "code",
   "execution_count": null,
   "id": "ce3fcbd9-f3f0-44bd-8d4e-f98a10a466a8",
   "metadata": {},
   "outputs": [],
   "source": []
  }
 ],
 "metadata": {
  "kernelspec": {
   "display_name": "Octave",
   "language": "octave",
   "name": "octave"
  },
  "language_info": {
   "file_extension": ".m",
   "help_links": [
    {
     "text": "GNU Octave",
     "url": "https://www.gnu.org/software/octave/support.html"
    },
    {
     "text": "Octave Kernel",
     "url": "https://github.com/Calysto/octave_kernel"
    },
    {
     "text": "MetaKernel Magics",
     "url": "https://metakernel.readthedocs.io/en/latest/source/README.html"
    }
   ],
   "mimetype": "text/x-octave",
   "name": "octave",
   "version": "6.4.0"
  }
 },
 "nbformat": 4,
 "nbformat_minor": 5
}
