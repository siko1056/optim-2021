{
 "cells": [
  {
   "cell_type": "markdown",
   "id": "6eb784d6-c296-490a-b8f3-2b716d647ebe",
   "metadata": {},
   "source": [
    "# Constrained minimization algorithms\n",
    "\n",
    "Some of the algorithms and techniques\n",
    "used to find local minima\n",
    "of **unconstrained** optimization problems\n",
    "can be applied *mutatis mutandis*\n",
    "for the **constrained** problem case."
   ]
  },
  {
   "cell_type": "markdown",
   "id": "f4d13886-c530-4b33-bb3b-b94066414d4f",
   "metadata": {},
   "source": [
    "## Sequential Quadratic Programming (SQP)\n",
    "\n",
    "For the sake of simplicity\n",
    "the equality constrained minimization problem is considered:\n",
    "\n",
    "$$\n",
    "\\begin{array}{lll}\n",
    "\\textrm{minimize}   & f(x)          & \\\\\n",
    "\\textrm{subject to} & h_{j}(x) = 0, & j = 1, \\ldots, p, \\\\\n",
    "\\end{array}\n",
    "$$\n",
    "\n",
    "with corresponding **Lagrangian**:\n",
    "\n",
    "$$\n",
    "L(x, \\mu) := f(x) + \\sum_{j = 1}^{p} \\mu_{j} h_{j}(x),\n",
    "$$\n",
    "\n",
    "and **KKT optimality conditions**:\n",
    "\n",
    "$$\n",
    "\\begin{aligned}\n",
    "\\nabla_{x} L(x^{*}, \\mu^{*})\n",
    "&=\\; \\nabla f(x^{*}) + \\sum_{j = 1}^{p} \\mu_{j}^{*} \\nabla h_{j}(x^{*})\n",
    "&=\\; 0 & \\\\\n",
    "\\nabla_{\\mu} L(x^{*}, \\mu^{*})\n",
    "&=\\; ( h_{j}(x^{*}) )\n",
    "&=\\; 0 &,\n",
    "\\quad j = 1, \\ldots, p\n",
    "\\end{aligned}\n",
    "$$"
   ]
  },
  {
   "cell_type": "markdown",
   "id": "a79077cf-eaff-4b81-970c-746d1b3afc70",
   "metadata": {},
   "source": [
    "Again the goal is to perform an iteration\n",
    "\n",
    "$$\n",
    "\\mathbf{x}^{k+1} = \\mathbf{x}^{k} + \\alpha \\mathbf{d}^{k}.\n",
    "$$\n",
    "\n",
    "with $\\mathbf{x} = (x, \\mu)^{T}$,\n",
    "which converges from a starting point $\\mathbf{x}^{0}$\n",
    "to a local minimum $\\mathbf{x}^{*}$\n",
    "(a stationary point of the KKT optimality conditions)\n",
    "choosing a **descent direction** $\\mathbf{d} = (\\Delta x, \\Delta \\mu)^{T}$\n",
    "and a **step size** $\\alpha$ in each step\n",
    "(cf. [Gradient methods](gradient_methods))."
   ]
  },
  {
   "cell_type": "code",
   "execution_count": null,
   "id": "175d9280-acb3-4752-8aa6-7ec2c7f9bddc",
   "metadata": {},
   "outputs": [],
   "source": [
    "sowie die Newton-Gleichung\n",
    "$(\\nabla^{2} \\mathcal{L}) \\Delta = -\\nabla L$ auf.\n",
    "\n",
    "\\ifSOLUTION\n",
    "\\tex_1tbf{Lösung:} Die Newton-Korrektur\n",
    "$(\\Delta x_1, \\Delta x_2, \\Delta\\mu)^{T}$ ist\n",
    "\\begin{equation*}\n",
    "\\begin{pmatrix_1} x_1_{k+1} \\\\ x_2_{k+1} \\\\ \\mu_{k+1} \\end{pmatrix_1}\n",
    "= \\begin{pmatrix_1} x_1_{k} \\\\ x_2_{k} \\\\ \\mu_{k} \\end{pmatrix_1}\n",
    "+ \\begin{pmatrix_1} \\Delta x_1_{k} \\\\ \\Delta x_2_{k} \\\\ \\Delta \\mu_{k} \\end{pmatrix_1}.\n",
    "\\end{equation*}\n",
    "\n",
    "Berechnet wird die Korrektur über die Newton-Gleichung\n",
    "\\begin{equation*}\n",
    "\\underbrace{\\begin{pmatrix_1} \\nabla^{2}_{x_1,x_1} \\mathcal{L}\n",
    "& \\nabla^{2}_{x_1,x_2} \\mathcal{L}\n",
    "& \\nabla^{2}_{x_1,\\mu} \\mathcal{L} \\\\\n",
    "\\nabla^{2}_{x_2,x_1} \\mathcal{L}\n",
    "& \\nabla^{2}_{x_2,x_2} \\mathcal{L}\n",
    "& \\nabla^{2}_{x_2,\\mu} \\mathcal{L} \\\\\n",
    "\\nabla^{2}_{\\mu,x_1} \\mathcal{L}\n",
    "& \\nabla^{2}_{\\mu,x_2} \\mathcal{L}\n",
    "& \\nabla^{2}_{\\mu,\\mu} \\mathcal{L}\n",
    "\\end{pmatrix_1}}_{\\nabla^{2}_{x_1,x_2,\\mu} \\mathcal{L}(x_1,x_2,\\mu)}\n",
    "\\begin{pmatrix_1} \\Delta x_1_{k} \\\\ \\Delta x_2_{k} \\\\ \\Delta \\mu_{k} \\end{pmatrix_1}\n",
    "= -\\begin{pmatrix_1} \\nabla_{x_1} \\mathcal{L}(x_1,x_2,\\mu) \\\\ \\nabla_{x_2} \\mathcal{L}(x_1,x_2,\\mu) \\\\ \\nabla_{\\mu} \\mathcal{L}(x_1,x_2,\\mu) \\end{pmatrix_1}\n",
    "\\end{equation*}\n",
    "wobei eine gewisse Struktur in der Newton-Gleichung erkannt werden kann.\n",
    "Das Element $\\nabla^{2}_{\\mu,\\mu} \\mathcal{L}$ ist $0$,\n",
    "da die Lagrange-Funktion linear bezüglich des Lagrange-Multiplikators $\\mu$ ist.\n",
    "Außerdem gilt $\\nabla_{\\mu} \\mathcal{L}(x_1,x_2,\\mu) = h(x_1,x_2)$\n",
    "und aufgrund der Austauschbarkeit der partiellen Ableitungen\n",
    "(\\cite[Satz 17.1.11, ``Satz von Schwarz'']{Ansorge2011})\n",
    "kann in der letzten Spalte der Hesse-Matrix_1\n",
    "der Gradient $\\nabla_{x_1,x_2} h(x_1,x_2)$,\n",
    "bzw. in der untersten Zeile sein Transponiertes erkannt werden.\n",
    "\\begin{equation*}\n",
    "\\begin{pmatrix_1}\n",
    "\\nabla^{2}_{x_1,x_2} \\mathcal{L}(x_1,x_2,\\mu) & \\nabla_{x_1,x_2} h(x_1,x_2) \\\\\n",
    "\\nabla_{x_1,x_2} h(x_1,x_2)^{T} & 0\n",
    "\\end{pmatrix_1}\n",
    "\\begin{pmatrix_1} \\Delta x_1_{k} \\\\ \\Delta x_2_{k} \\\\ \\Delta \\mu_{k} \\end{pmatrix_1}\n",
    "= -\\begin{pmatrix_1} \\nabla_{x_1} \\mathcal{L}(x_1,x_2,\\mu) \\\\ \\nabla_{x_2} \\mathcal{L}(x_1,x_2,\\mu) \\\\ h(x_1,x_2) \\end{pmatrix_1}\n",
    "\\end{equation*}\n",
    "Diese Struktur wird in der folgenden Teilaufgabe über ein äquivalentes\n",
    "Optimierungsproblem hergeleitet.\n",
    "\\fi\n"
   ]
  },
  {
   "cell_type": "markdown",
   "id": "ac7044bb-5283-438f-9077-396813851e29",
   "metadata": {},
   "source": [
    "The derived Newton-equation happens to be identical\n",
    "to the KKT optimality conditions\n",
    "of the following quadratic optimization problem:\n",
    "\n",
    "$$\n",
    "\\begin{array}{lll}\n",
    "\\textrm{minimize}\n",
    "& F(\\boldsymbol{\\delta})\n",
    "&:= \\frac{1}{2} \\boldsymbol{\\delta}^{T} \\nabla^{2}_{x} L(x,\\mu) \\boldsymbol{\\delta} + \\nabla_{x} L(x,\\mu)^{T} \\boldsymbol{\\delta} \\\\\n",
    "\\textrm{subject to}\n",
    "& H(\\boldsymbol{\\delta})\n",
    "&:= \\nabla_{x} h(x)^{T} \\boldsymbol{\\delta} + h(x) = 0,\n",
    "\\end{array}\n",
    "$$\n",
    "\n",
    "with $\\boldsymbol{\\delta} = \\Delta x^{k}$\n",
    "and Lagrange multipliers $\\lambda = \\Delta \\mu^{k}$\n",
    "for the equality constraint."
   ]
  },
  {
   "cell_type": "markdown",
   "id": "381a449f-ac86-4fc3-9e51-7bde7041f309",
   "metadata": {},
   "source": [
    "The corresponding Lagrangian is:\n",
    "\n",
    "$$\n",
    "L(\\boldsymbol{\\delta},\\lambda) = F(\\boldsymbol{\\delta}) + \\lambda^{T} H(\\boldsymbol{\\delta})\n",
    "$$\n",
    "\n",
    "and the KKT optimality conditions:\n",
    "\n",
    "$$\n",
    "\\begin{aligned}\n",
    "\\nabla_{\\boldsymbol{\\delta}} \\mathcal{L}(\\boldsymbol{\\delta},\\lambda)\n",
    "&:=& \\nabla^{2}_{x} L(x,\\mu) \\boldsymbol{\\delta} +  \\nabla_{x} L(x,\\mu) + \\lambda^{T} \\nabla_{x} h(x) &= 0 \\\\\n",
    "H(\\boldsymbol{\\delta}) = \\nabla_{\\lambda} \\mathcal{L}(\\boldsymbol{\\delta},\\lambda)\n",
    "&:=& \\nabla_{x} h(x)^{T} \\boldsymbol{\\delta} + h(x) &= 0.\n",
    "\\end{aligned}\n",
    "$$"
   ]
  },
  {
   "cell_type": "markdown",
   "id": "9a49aaae-3f51-41cc-8776-bc5cb75cb13c",
   "metadata": {},
   "source": [
    "Das sich zu der zuvor hergeleiteten Newton-Gleichung umformen lässt.\n",
    "\n",
    "$$\n",
    "\\Rightarrow\n",
    "\\begin{pmatrix}\n",
    "\\nabla^{2}_{x} L(x,\\mu) & \\nabla_{x} h(x) \\\\\n",
    "\\nabla_{x} h(x)^{T} & 0\n",
    "\\end{pmatrix}\n",
    "\\begin{pmatrix} \\boldsymbol{\\delta} \\\\ \\lambda \\end{pmatrix}\n",
    "= -\\begin{pmatrix} \\nabla_{x} L(x,\\mu) \\\\ h(x) \\end{pmatrix}\n",
    "$$"
   ]
  },
  {
   "cell_type": "code",
   "execution_count": null,
   "id": "854c7364-ddcb-44af-809a-1cbb3b24cadd",
   "metadata": {},
   "outputs": [],
   "source": []
  }
 ],
 "metadata": {
  "kernelspec": {
   "display_name": "Octave",
   "language": "octave",
   "name": "octave"
  },
  "language_info": {
   "file_extension": ".m",
   "help_links": [
    {
     "text": "GNU Octave",
     "url": "https://www.gnu.org/software/octave/support.html"
    },
    {
     "text": "Octave Kernel",
     "url": "https://github.com/Calysto/octave_kernel"
    },
    {
     "text": "MetaKernel Magics",
     "url": "https://metakernel.readthedocs.io/en/latest/source/README.html"
    }
   ],
   "mimetype": "text/x-octave",
   "name": "octave",
   "version": "6.4.0"
  }
 },
 "nbformat": 4,
 "nbformat_minor": 5
}
